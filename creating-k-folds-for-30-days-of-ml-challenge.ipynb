{
 "cells": [
  {
   "cell_type": "markdown",
   "id": "5a2c4520",
   "metadata": {
    "_cell_guid": "b1076dfc-b9ad-4769-8c92-a6c4dae69d19",
    "_uuid": "8f2839f25d086af736a60e9eeb907d3b93b6e0e5",
    "papermill": {
     "duration": 0.008155,
     "end_time": "2021-08-24T16:34:24.987308",
     "exception": false,
     "start_time": "2021-08-24T16:34:24.979153",
     "status": "completed"
    },
    "tags": []
   },
   "source": [
    "## Creating k-folds for 30 Days of ML Challenge, by Juan Torres\n",
    "#### Based on Abhishek Thakur's tutorials and notebooks:\n",
    "https://www.youtube.com/watch?v=t5fhRP62YdE\n",
    "\n",
    "https://www.kaggle.com/abhishek/30-days-create-folds"
   ]
  },
  {
   "cell_type": "markdown",
   "id": "eb0d4a0b",
   "metadata": {
    "papermill": {
     "duration": 0.006803,
     "end_time": "2021-08-24T16:34:25.001665",
     "exception": false,
     "start_time": "2021-08-24T16:34:24.994862",
     "status": "completed"
    },
    "tags": []
   },
   "source": [
    "Yesterday we set up a pipeline to streamline and simplify the data processing and code in general, and we found that good results are achieved while using one-hot encoding and an XGBoost model. Having done that, we established the next steps to be optimization of the parameters, and implementation of cross validation in our model. Today, we will first implement cross validation into our models by following Abhishek Thakur's videos and notebooks. The way he starts is by first dividing the train data into k-folds, so we will do exactly that in this notebook."
   ]
  },
  {
   "cell_type": "code",
   "execution_count": 1,
   "id": "327e4c43",
   "metadata": {
    "execution": {
     "iopub.execute_input": "2021-08-24T16:34:25.020165Z",
     "iopub.status.busy": "2021-08-24T16:34:25.019137Z",
     "iopub.status.idle": "2021-08-24T16:34:26.011901Z",
     "shell.execute_reply": "2021-08-24T16:34:26.011285Z",
     "shell.execute_reply.started": "2021-08-24T16:27:25.376260Z"
    },
    "papermill": {
     "duration": 1.003256,
     "end_time": "2021-08-24T16:34:26.012058",
     "exception": false,
     "start_time": "2021-08-24T16:34:25.008802",
     "status": "completed"
    },
    "tags": []
   },
   "outputs": [
    {
     "name": "stdout",
     "output_type": "stream",
     "text": [
      "/kaggle/input/30-days-of-ml/sample_submission.csv\n",
      "/kaggle/input/30-days-of-ml/train.csv\n",
      "/kaggle/input/30-days-of-ml/test.csv\n"
     ]
    }
   ],
   "source": [
    "import numpy as np # linear algebra\n",
    "import pandas as pd # data processing, CSV file I/O (e.g. pd.read_csv)\n",
    "from sklearn import model_selection\n",
    "\n",
    "# Input data files are available in the read-only \"../input/\" directory\n",
    "# For example, running this (by clicking run or pressing Shift+Enter) will list all files under the input directory\n",
    "\n",
    "import os\n",
    "for dirname, _, filenames in os.walk('/kaggle/input'):\n",
    "    for filename in filenames:\n",
    "        print(os.path.join(dirname, filename))\n",
    "\n",
    "# You can write up to 20GB to the current directory (/kaggle/working/) that gets preserved as output when you create a version using \"Save & Run All\" \n",
    "# You can also write temporary files to /kaggle/temp/, but they won't be saved outside of the current session"
   ]
  },
  {
   "cell_type": "code",
   "execution_count": 2,
   "id": "34328a58",
   "metadata": {
    "execution": {
     "iopub.execute_input": "2021-08-24T16:34:26.032594Z",
     "iopub.status.busy": "2021-08-24T16:34:26.031910Z",
     "iopub.status.idle": "2021-08-24T16:34:28.354278Z",
     "shell.execute_reply": "2021-08-24T16:34:28.354716Z",
     "shell.execute_reply.started": "2021-08-24T16:27:25.882768Z"
    },
    "papermill": {
     "duration": 2.33483,
     "end_time": "2021-08-24T16:34:28.354901",
     "exception": false,
     "start_time": "2021-08-24T16:34:26.020071",
     "status": "completed"
    },
    "tags": []
   },
   "outputs": [
    {
     "data": {
      "text/plain": [
       "(300000, 26)"
      ]
     },
     "execution_count": 2,
     "metadata": {},
     "output_type": "execute_result"
    }
   ],
   "source": [
    "# Load the training data.\n",
    "df_train = pd.read_csv(\"../input/30-days-of-ml/train.csv\") \n",
    "\n",
    "# Check the data shape.\n",
    "df_train.shape"
   ]
  },
  {
   "cell_type": "code",
   "execution_count": 3,
   "id": "31077b76",
   "metadata": {
    "execution": {
     "iopub.execute_input": "2021-08-24T16:34:28.378297Z",
     "iopub.status.busy": "2021-08-24T16:34:28.377498Z",
     "iopub.status.idle": "2021-08-24T16:34:28.410656Z",
     "shell.execute_reply": "2021-08-24T16:34:28.411108Z",
     "shell.execute_reply.started": "2021-08-24T16:27:27.556981Z"
    },
    "papermill": {
     "duration": 0.048686,
     "end_time": "2021-08-24T16:34:28.411278",
     "exception": false,
     "start_time": "2021-08-24T16:34:28.362592",
     "status": "completed"
    },
    "tags": []
   },
   "outputs": [
    {
     "data": {
      "text/html": [
       "<div>\n",
       "<style scoped>\n",
       "    .dataframe tbody tr th:only-of-type {\n",
       "        vertical-align: middle;\n",
       "    }\n",
       "\n",
       "    .dataframe tbody tr th {\n",
       "        vertical-align: top;\n",
       "    }\n",
       "\n",
       "    .dataframe thead th {\n",
       "        text-align: right;\n",
       "    }\n",
       "</style>\n",
       "<table border=\"1\" class=\"dataframe\">\n",
       "  <thead>\n",
       "    <tr style=\"text-align: right;\">\n",
       "      <th></th>\n",
       "      <th>id</th>\n",
       "      <th>cat0</th>\n",
       "      <th>cat1</th>\n",
       "      <th>cat2</th>\n",
       "      <th>cat3</th>\n",
       "      <th>cat4</th>\n",
       "      <th>cat5</th>\n",
       "      <th>cat6</th>\n",
       "      <th>cat7</th>\n",
       "      <th>cat8</th>\n",
       "      <th>...</th>\n",
       "      <th>cont6</th>\n",
       "      <th>cont7</th>\n",
       "      <th>cont8</th>\n",
       "      <th>cont9</th>\n",
       "      <th>cont10</th>\n",
       "      <th>cont11</th>\n",
       "      <th>cont12</th>\n",
       "      <th>cont13</th>\n",
       "      <th>target</th>\n",
       "      <th>kfold</th>\n",
       "    </tr>\n",
       "  </thead>\n",
       "  <tbody>\n",
       "    <tr>\n",
       "      <th>0</th>\n",
       "      <td>1</td>\n",
       "      <td>B</td>\n",
       "      <td>B</td>\n",
       "      <td>B</td>\n",
       "      <td>C</td>\n",
       "      <td>B</td>\n",
       "      <td>B</td>\n",
       "      <td>A</td>\n",
       "      <td>E</td>\n",
       "      <td>C</td>\n",
       "      <td>...</td>\n",
       "      <td>0.160266</td>\n",
       "      <td>0.310921</td>\n",
       "      <td>0.389470</td>\n",
       "      <td>0.267559</td>\n",
       "      <td>0.237281</td>\n",
       "      <td>0.377873</td>\n",
       "      <td>0.322401</td>\n",
       "      <td>0.869850</td>\n",
       "      <td>8.113634</td>\n",
       "      <td>-1</td>\n",
       "    </tr>\n",
       "    <tr>\n",
       "      <th>1</th>\n",
       "      <td>2</td>\n",
       "      <td>B</td>\n",
       "      <td>B</td>\n",
       "      <td>A</td>\n",
       "      <td>A</td>\n",
       "      <td>B</td>\n",
       "      <td>D</td>\n",
       "      <td>A</td>\n",
       "      <td>F</td>\n",
       "      <td>A</td>\n",
       "      <td>...</td>\n",
       "      <td>0.558922</td>\n",
       "      <td>0.516294</td>\n",
       "      <td>0.594928</td>\n",
       "      <td>0.341439</td>\n",
       "      <td>0.906013</td>\n",
       "      <td>0.921701</td>\n",
       "      <td>0.261975</td>\n",
       "      <td>0.465083</td>\n",
       "      <td>8.481233</td>\n",
       "      <td>-1</td>\n",
       "    </tr>\n",
       "    <tr>\n",
       "      <th>2</th>\n",
       "      <td>3</td>\n",
       "      <td>A</td>\n",
       "      <td>A</td>\n",
       "      <td>A</td>\n",
       "      <td>C</td>\n",
       "      <td>B</td>\n",
       "      <td>D</td>\n",
       "      <td>A</td>\n",
       "      <td>D</td>\n",
       "      <td>A</td>\n",
       "      <td>...</td>\n",
       "      <td>0.375348</td>\n",
       "      <td>0.902567</td>\n",
       "      <td>0.555205</td>\n",
       "      <td>0.843531</td>\n",
       "      <td>0.748809</td>\n",
       "      <td>0.620126</td>\n",
       "      <td>0.541474</td>\n",
       "      <td>0.763846</td>\n",
       "      <td>8.364351</td>\n",
       "      <td>-1</td>\n",
       "    </tr>\n",
       "    <tr>\n",
       "      <th>3</th>\n",
       "      <td>4</td>\n",
       "      <td>B</td>\n",
       "      <td>B</td>\n",
       "      <td>A</td>\n",
       "      <td>C</td>\n",
       "      <td>B</td>\n",
       "      <td>D</td>\n",
       "      <td>A</td>\n",
       "      <td>E</td>\n",
       "      <td>C</td>\n",
       "      <td>...</td>\n",
       "      <td>0.239061</td>\n",
       "      <td>0.732948</td>\n",
       "      <td>0.679618</td>\n",
       "      <td>0.574844</td>\n",
       "      <td>0.346010</td>\n",
       "      <td>0.714610</td>\n",
       "      <td>0.540150</td>\n",
       "      <td>0.280682</td>\n",
       "      <td>8.049253</td>\n",
       "      <td>-1</td>\n",
       "    </tr>\n",
       "    <tr>\n",
       "      <th>4</th>\n",
       "      <td>6</td>\n",
       "      <td>A</td>\n",
       "      <td>A</td>\n",
       "      <td>A</td>\n",
       "      <td>C</td>\n",
       "      <td>B</td>\n",
       "      <td>D</td>\n",
       "      <td>A</td>\n",
       "      <td>E</td>\n",
       "      <td>A</td>\n",
       "      <td>...</td>\n",
       "      <td>0.420667</td>\n",
       "      <td>0.648182</td>\n",
       "      <td>0.684501</td>\n",
       "      <td>0.956692</td>\n",
       "      <td>1.000773</td>\n",
       "      <td>0.776742</td>\n",
       "      <td>0.625849</td>\n",
       "      <td>0.250823</td>\n",
       "      <td>7.972260</td>\n",
       "      <td>-1</td>\n",
       "    </tr>\n",
       "  </tbody>\n",
       "</table>\n",
       "<p>5 rows × 27 columns</p>\n",
       "</div>"
      ],
      "text/plain": [
       "   id cat0 cat1 cat2 cat3 cat4 cat5 cat6 cat7 cat8  ...     cont6     cont7  \\\n",
       "0   1    B    B    B    C    B    B    A    E    C  ...  0.160266  0.310921   \n",
       "1   2    B    B    A    A    B    D    A    F    A  ...  0.558922  0.516294   \n",
       "2   3    A    A    A    C    B    D    A    D    A  ...  0.375348  0.902567   \n",
       "3   4    B    B    A    C    B    D    A    E    C  ...  0.239061  0.732948   \n",
       "4   6    A    A    A    C    B    D    A    E    A  ...  0.420667  0.648182   \n",
       "\n",
       "      cont8     cont9    cont10    cont11    cont12    cont13    target  kfold  \n",
       "0  0.389470  0.267559  0.237281  0.377873  0.322401  0.869850  8.113634     -1  \n",
       "1  0.594928  0.341439  0.906013  0.921701  0.261975  0.465083  8.481233     -1  \n",
       "2  0.555205  0.843531  0.748809  0.620126  0.541474  0.763846  8.364351     -1  \n",
       "3  0.679618  0.574844  0.346010  0.714610  0.540150  0.280682  8.049253     -1  \n",
       "4  0.684501  0.956692  1.000773  0.776742  0.625849  0.250823  7.972260     -1  \n",
       "\n",
       "[5 rows x 27 columns]"
      ]
     },
     "execution_count": 3,
     "metadata": {},
     "output_type": "execute_result"
    }
   ],
   "source": [
    "# We create a new column in the training data that represents which fold each row belongs to. For now, we set this value to be -1 in all rows.\n",
    "df_train[\"kfold\"] = -1\n",
    "\n",
    "# Take a peek at the training data\n",
    "df_train.head()"
   ]
  },
  {
   "cell_type": "code",
   "execution_count": 4,
   "id": "ff944f79",
   "metadata": {
    "execution": {
     "iopub.execute_input": "2021-08-24T16:34:28.439336Z",
     "iopub.status.busy": "2021-08-24T16:34:28.438499Z",
     "iopub.status.idle": "2021-08-24T16:34:28.529369Z",
     "shell.execute_reply": "2021-08-24T16:34:28.529832Z",
     "shell.execute_reply.started": "2021-08-24T16:27:28.439719Z"
    },
    "papermill": {
     "duration": 0.10856,
     "end_time": "2021-08-24T16:34:28.530061",
     "exception": false,
     "start_time": "2021-08-24T16:34:28.421501",
     "status": "completed"
    },
    "tags": []
   },
   "outputs": [
    {
     "data": {
      "text/html": [
       "<div>\n",
       "<style scoped>\n",
       "    .dataframe tbody tr th:only-of-type {\n",
       "        vertical-align: middle;\n",
       "    }\n",
       "\n",
       "    .dataframe tbody tr th {\n",
       "        vertical-align: top;\n",
       "    }\n",
       "\n",
       "    .dataframe thead th {\n",
       "        text-align: right;\n",
       "    }\n",
       "</style>\n",
       "<table border=\"1\" class=\"dataframe\">\n",
       "  <thead>\n",
       "    <tr style=\"text-align: right;\">\n",
       "      <th></th>\n",
       "      <th>id</th>\n",
       "      <th>cat0</th>\n",
       "      <th>cat1</th>\n",
       "      <th>cat2</th>\n",
       "      <th>cat3</th>\n",
       "      <th>cat4</th>\n",
       "      <th>cat5</th>\n",
       "      <th>cat6</th>\n",
       "      <th>cat7</th>\n",
       "      <th>cat8</th>\n",
       "      <th>...</th>\n",
       "      <th>cont6</th>\n",
       "      <th>cont7</th>\n",
       "      <th>cont8</th>\n",
       "      <th>cont9</th>\n",
       "      <th>cont10</th>\n",
       "      <th>cont11</th>\n",
       "      <th>cont12</th>\n",
       "      <th>cont13</th>\n",
       "      <th>target</th>\n",
       "      <th>kfold</th>\n",
       "    </tr>\n",
       "  </thead>\n",
       "  <tbody>\n",
       "    <tr>\n",
       "      <th>0</th>\n",
       "      <td>1</td>\n",
       "      <td>B</td>\n",
       "      <td>B</td>\n",
       "      <td>B</td>\n",
       "      <td>C</td>\n",
       "      <td>B</td>\n",
       "      <td>B</td>\n",
       "      <td>A</td>\n",
       "      <td>E</td>\n",
       "      <td>C</td>\n",
       "      <td>...</td>\n",
       "      <td>0.160266</td>\n",
       "      <td>0.310921</td>\n",
       "      <td>0.389470</td>\n",
       "      <td>0.267559</td>\n",
       "      <td>0.237281</td>\n",
       "      <td>0.377873</td>\n",
       "      <td>0.322401</td>\n",
       "      <td>0.869850</td>\n",
       "      <td>8.113634</td>\n",
       "      <td>4</td>\n",
       "    </tr>\n",
       "    <tr>\n",
       "      <th>1</th>\n",
       "      <td>2</td>\n",
       "      <td>B</td>\n",
       "      <td>B</td>\n",
       "      <td>A</td>\n",
       "      <td>A</td>\n",
       "      <td>B</td>\n",
       "      <td>D</td>\n",
       "      <td>A</td>\n",
       "      <td>F</td>\n",
       "      <td>A</td>\n",
       "      <td>...</td>\n",
       "      <td>0.558922</td>\n",
       "      <td>0.516294</td>\n",
       "      <td>0.594928</td>\n",
       "      <td>0.341439</td>\n",
       "      <td>0.906013</td>\n",
       "      <td>0.921701</td>\n",
       "      <td>0.261975</td>\n",
       "      <td>0.465083</td>\n",
       "      <td>8.481233</td>\n",
       "      <td>0</td>\n",
       "    </tr>\n",
       "    <tr>\n",
       "      <th>2</th>\n",
       "      <td>3</td>\n",
       "      <td>A</td>\n",
       "      <td>A</td>\n",
       "      <td>A</td>\n",
       "      <td>C</td>\n",
       "      <td>B</td>\n",
       "      <td>D</td>\n",
       "      <td>A</td>\n",
       "      <td>D</td>\n",
       "      <td>A</td>\n",
       "      <td>...</td>\n",
       "      <td>0.375348</td>\n",
       "      <td>0.902567</td>\n",
       "      <td>0.555205</td>\n",
       "      <td>0.843531</td>\n",
       "      <td>0.748809</td>\n",
       "      <td>0.620126</td>\n",
       "      <td>0.541474</td>\n",
       "      <td>0.763846</td>\n",
       "      <td>8.364351</td>\n",
       "      <td>4</td>\n",
       "    </tr>\n",
       "    <tr>\n",
       "      <th>3</th>\n",
       "      <td>4</td>\n",
       "      <td>B</td>\n",
       "      <td>B</td>\n",
       "      <td>A</td>\n",
       "      <td>C</td>\n",
       "      <td>B</td>\n",
       "      <td>D</td>\n",
       "      <td>A</td>\n",
       "      <td>E</td>\n",
       "      <td>C</td>\n",
       "      <td>...</td>\n",
       "      <td>0.239061</td>\n",
       "      <td>0.732948</td>\n",
       "      <td>0.679618</td>\n",
       "      <td>0.574844</td>\n",
       "      <td>0.346010</td>\n",
       "      <td>0.714610</td>\n",
       "      <td>0.540150</td>\n",
       "      <td>0.280682</td>\n",
       "      <td>8.049253</td>\n",
       "      <td>1</td>\n",
       "    </tr>\n",
       "    <tr>\n",
       "      <th>4</th>\n",
       "      <td>6</td>\n",
       "      <td>A</td>\n",
       "      <td>A</td>\n",
       "      <td>A</td>\n",
       "      <td>C</td>\n",
       "      <td>B</td>\n",
       "      <td>D</td>\n",
       "      <td>A</td>\n",
       "      <td>E</td>\n",
       "      <td>A</td>\n",
       "      <td>...</td>\n",
       "      <td>0.420667</td>\n",
       "      <td>0.648182</td>\n",
       "      <td>0.684501</td>\n",
       "      <td>0.956692</td>\n",
       "      <td>1.000773</td>\n",
       "      <td>0.776742</td>\n",
       "      <td>0.625849</td>\n",
       "      <td>0.250823</td>\n",
       "      <td>7.972260</td>\n",
       "      <td>0</td>\n",
       "    </tr>\n",
       "  </tbody>\n",
       "</table>\n",
       "<p>5 rows × 27 columns</p>\n",
       "</div>"
      ],
      "text/plain": [
       "   id cat0 cat1 cat2 cat3 cat4 cat5 cat6 cat7 cat8  ...     cont6     cont7  \\\n",
       "0   1    B    B    B    C    B    B    A    E    C  ...  0.160266  0.310921   \n",
       "1   2    B    B    A    A    B    D    A    F    A  ...  0.558922  0.516294   \n",
       "2   3    A    A    A    C    B    D    A    D    A  ...  0.375348  0.902567   \n",
       "3   4    B    B    A    C    B    D    A    E    C  ...  0.239061  0.732948   \n",
       "4   6    A    A    A    C    B    D    A    E    A  ...  0.420667  0.648182   \n",
       "\n",
       "      cont8     cont9    cont10    cont11    cont12    cont13    target  kfold  \n",
       "0  0.389470  0.267559  0.237281  0.377873  0.322401  0.869850  8.113634      4  \n",
       "1  0.594928  0.341439  0.906013  0.921701  0.261975  0.465083  8.481233      0  \n",
       "2  0.555205  0.843531  0.748809  0.620126  0.541474  0.763846  8.364351      4  \n",
       "3  0.679618  0.574844  0.346010  0.714610  0.540150  0.280682  8.049253      1  \n",
       "4  0.684501  0.956692  1.000773  0.776742  0.625849  0.250823  7.972260      0  \n",
       "\n",
       "[5 rows x 27 columns]"
      ]
     },
     "execution_count": 4,
     "metadata": {},
     "output_type": "execute_result"
    }
   ],
   "source": [
    "# Now we implement the K-Folds cross-validator, which provides train/test indices to split data in train/test sets by splitting the dataset into k consecutive folds.\n",
    "\n",
    "kf = model_selection.KFold(n_splits=5, shuffle=True, random_state=1)\n",
    "for fold, (train_indices, valid_indices) in enumerate(kf.split(X=df_train)):\n",
    "    df_train.loc[valid_indices, \"kfold\"] = fold\n",
    "\n",
    "# Take a peek at the training data.\n",
    "df_train.head()"
   ]
  },
  {
   "cell_type": "markdown",
   "id": "d8e5e76b",
   "metadata": {
    "papermill": {
     "duration": 0.008437,
     "end_time": "2021-08-24T16:34:28.547453",
     "exception": false,
     "start_time": "2021-08-24T16:34:28.539016",
     "status": "completed"
    },
    "tags": []
   },
   "source": [
    "As we can see, each row now has its corresponding kfold value, which specifies which fold it belongs to. Since we set n_splits = 5, we should have a value of 300000/5 = 60000 rows per fold. Let's check that:"
   ]
  },
  {
   "cell_type": "code",
   "execution_count": 5,
   "id": "7a14a03e",
   "metadata": {
    "execution": {
     "iopub.execute_input": "2021-08-24T16:34:28.571519Z",
     "iopub.status.busy": "2021-08-24T16:34:28.570675Z",
     "iopub.status.idle": "2021-08-24T16:34:28.579352Z",
     "shell.execute_reply": "2021-08-24T16:34:28.579759Z",
     "shell.execute_reply.started": "2021-08-24T16:27:29.713544Z"
    },
    "papermill": {
     "duration": 0.023734,
     "end_time": "2021-08-24T16:34:28.579939",
     "exception": false,
     "start_time": "2021-08-24T16:34:28.556205",
     "status": "completed"
    },
    "tags": []
   },
   "outputs": [
    {
     "data": {
      "text/plain": [
       "0    60000\n",
       "1    60000\n",
       "2    60000\n",
       "3    60000\n",
       "4    60000\n",
       "Name: kfold, dtype: int64"
      ]
     },
     "execution_count": 5,
     "metadata": {},
     "output_type": "execute_result"
    }
   ],
   "source": [
    "# Check value counts for each k-fold in our training data.\n",
    "df_train.kfold.value_counts()"
   ]
  },
  {
   "cell_type": "markdown",
   "id": "47fc1058",
   "metadata": {
    "papermill": {
     "duration": 0.008535,
     "end_time": "2021-08-24T16:34:28.597497",
     "exception": false,
     "start_time": "2021-08-24T16:34:28.588962",
     "status": "completed"
    },
    "tags": []
   },
   "source": [
    "One important thing to do is ensure that the target distribution is similar through all the folds, we do that with the following code:"
   ]
  },
  {
   "cell_type": "code",
   "execution_count": 6,
   "id": "c635f9cd",
   "metadata": {
    "execution": {
     "iopub.execute_input": "2021-08-24T16:34:28.617699Z",
     "iopub.status.busy": "2021-08-24T16:34:28.617153Z",
     "iopub.status.idle": "2021-08-24T16:34:28.853980Z",
     "shell.execute_reply": "2021-08-24T16:34:28.853172Z",
     "shell.execute_reply.started": "2021-08-24T16:29:50.083260Z"
    },
    "papermill": {
     "duration": 0.247957,
     "end_time": "2021-08-24T16:34:28.854119",
     "exception": false,
     "start_time": "2021-08-24T16:34:28.606162",
     "status": "completed"
    },
    "tags": []
   },
   "outputs": [
    {
     "data": {
      "text/plain": [
       "<AxesSubplot:>"
      ]
     },
     "execution_count": 6,
     "metadata": {},
     "output_type": "execute_result"
    },
    {
     "data": {
      "image/png": "[encoded data removed]",
      "text/plain": [
       "<Figure size 432x288 with 1 Axes>"
      ]
     },
     "metadata": {
      "needs_background": "light"
     },
     "output_type": "display_data"
    }
   ],
   "source": [
    "# Check the target histogram distribution for fold 4. To see other folds, change the kfold == value.\n",
    "df_train[df_train.kfold==4].target.hist()"
   ]
  },
  {
   "cell_type": "markdown",
   "id": "6e3508bb",
   "metadata": {
    "papermill": {
     "duration": 0.009697,
     "end_time": "2021-08-24T16:34:28.873601",
     "exception": false,
     "start_time": "2021-08-24T16:34:28.863904",
     "status": "completed"
    },
    "tags": []
   },
   "source": [
    "Target distribution is very similar across folds, so everything should be fine. Finally, let's create a new .csv file with our defined folds:"
   ]
  },
  {
   "cell_type": "code",
   "execution_count": 7,
   "id": "e4328d26",
   "metadata": {
    "execution": {
     "iopub.execute_input": "2021-08-24T16:34:28.897789Z",
     "iopub.status.busy": "2021-08-24T16:34:28.897198Z",
     "iopub.status.idle": "2021-08-24T16:34:35.788391Z",
     "shell.execute_reply": "2021-08-24T16:34:35.787763Z"
    },
    "papermill": {
     "duration": 6.904937,
     "end_time": "2021-08-24T16:34:35.788523",
     "exception": false,
     "start_time": "2021-08-24T16:34:28.883586",
     "status": "completed"
    },
    "tags": []
   },
   "outputs": [],
   "source": [
    "df_train.to_csv(\"train_folds.csv\", index=False)"
   ]
  },
  {
   "cell_type": "markdown",
   "id": "71a8ca4d",
   "metadata": {
    "papermill": {
     "duration": 0.009587,
     "end_time": "2021-08-24T16:34:35.808132",
     "exception": false,
     "start_time": "2021-08-24T16:34:35.798545",
     "status": "completed"
    },
    "tags": []
   },
   "source": [
    "After this notebook, we have successfully created a new .csv file which has the training data divided into folds of equal size. This will be useful for implementing cross validation into our model, and while runtimes might increase, we will get better results as now we're going to be using all of the data."
   ]
  }
 ],
 "metadata": {
  "kernelspec": {
   "display_name": "Python 3",
   "language": "python",
   "name": "python3"
  },
  "language_info": {
   "codemirror_mode": {
    "name": "ipython",
    "version": 3
   },
   "file_extension": ".py",
   "mimetype": "text/x-python",
   "name": "python",
   "nbconvert_exporter": "python",
   "pygments_lexer": "ipython3",
   "version": "3.7.10"
  },
  "papermill": {
   "default_parameters": {},
   "duration": 18.427725,
   "end_time": "2021-08-24T16:34:36.527701",
   "environment_variables": {},
   "exception": null,
   "input_path": "__notebook__.ipynb",
   "output_path": "__notebook__.ipynb",
   "parameters": {},
   "start_time": "2021-08-24T16:34:18.099976",
   "version": "2.3.3"
  }
 },
 "nbformat": 4,
 "nbformat_minor": 5
}
