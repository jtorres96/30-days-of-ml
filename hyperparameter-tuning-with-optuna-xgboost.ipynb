{
 "cells": [
  {
   "cell_type": "markdown",
   "id": "0b63bf2e",
   "metadata": {
    "_cell_guid": "b1076dfc-b9ad-4769-8c92-a6c4dae69d19",
    "_uuid": "8f2839f25d086af736a60e9eeb907d3b93b6e0e5",
    "papermill": {
     "duration": 0.008842,
     "end_time": "2021-08-31T05:09:35.923829",
     "exception": false,
     "start_time": "2021-08-31T05:09:35.914987",
     "status": "completed"
    },
    "tags": []
   },
   "source": [
    "# Hyperparameter Tuning with Optuna (XGBoost) for 30 Days of ML Challenge\n"
   ]
  },
  {
   "cell_type": "markdown",
   "id": "24af890b",
   "metadata": {
    "papermill": {
     "duration": 0.007438,
     "end_time": "2021-08-31T05:09:35.939536",
     "exception": false,
     "start_time": "2021-08-31T05:09:35.932098",
     "status": "completed"
    },
    "tags": []
   },
   "source": [
    "## 1. Import libraries"
   ]
  },
  {
   "cell_type": "code",
   "execution_count": 1,
   "id": "4f8d5b08",
   "metadata": {
    "execution": {
     "iopub.execute_input": "2021-08-31T05:09:35.961513Z",
     "iopub.status.busy": "2021-08-31T05:09:35.959805Z",
     "iopub.status.idle": "2021-08-31T05:09:37.691483Z",
     "shell.execute_reply": "2021-08-31T05:09:37.690686Z",
     "shell.execute_reply.started": "2021-08-30T18:26:40.044379Z"
    },
    "papermill": {
     "duration": 1.743979,
     "end_time": "2021-08-31T05:09:37.691667",
     "exception": false,
     "start_time": "2021-08-31T05:09:35.947688",
     "status": "completed"
    },
    "tags": []
   },
   "outputs": [
    {
     "name": "stdout",
     "output_type": "stream",
     "text": [
      "/kaggle/input/train-folds-k-folds-30-days-of-ml/train_folds_20_folds.csv\n",
      "/kaggle/input/train-folds-k-folds-30-days-of-ml/train_folds_50_folds.csv\n",
      "/kaggle/input/train-folds-k-folds-30-days-of-ml/train_folds_15_folds.csv\n",
      "/kaggle/input/train-folds-k-folds-30-days-of-ml/train_folds_30_folds.csv\n",
      "/kaggle/input/train-folds-k-folds-30-days-of-ml/train_folds_5_folds.csv\n",
      "/kaggle/input/train-folds-k-folds-30-days-of-ml/train_folds_25_folds.csv\n",
      "/kaggle/input/train-folds-k-folds-30-days-of-ml/train_folds_10_folds.csv\n",
      "/kaggle/input/train-folds-k-folds-30-days-of-ml/train_folds_12_folds.csv\n",
      "/kaggle/input/train-folds-k-folds-30-days-of-ml/train_folds_60_folds.csv\n",
      "/kaggle/input/train-folds-k-folds-30-days-of-ml/train_folds_40_folds.csv\n",
      "/kaggle/input/train-folds-k-folds-30-days-of-ml/train_folds_3_folds.csv\n",
      "/kaggle/input/train-folds-k-folds-30-days-of-ml/train_folds_6_folds.csv\n",
      "/kaggle/input/train-folds-30-days-of-ml/train_folds.csv\n",
      "/kaggle/input/30-days-of-ml/sample_submission.csv\n",
      "/kaggle/input/30-days-of-ml/train.csv\n",
      "/kaggle/input/30-days-of-ml/test.csv\n"
     ]
    }
   ],
   "source": [
    "import numpy as np # linear algebra\n",
    "import pandas as pd # data processing, CSV file I/O (e.g. pd.read_csv)\n",
    "\n",
    "# For encoding categorical variables\n",
    "from sklearn import preprocessing\n",
    "\n",
    "# For the construction of the pipeline\n",
    "from sklearn.compose import ColumnTransformer\n",
    "from sklearn.pipeline import Pipeline\n",
    "from sklearn.impute import SimpleImputer\n",
    "\n",
    "# For training the XGBoost model\n",
    "from xgboost import XGBRegressor\n",
    "from sklearn.metrics import mean_squared_error\n",
    "\n",
    "# For the hyperparameter tuning\n",
    "import optuna\n",
    "\n",
    "# Input data files are available in the read-only \"../input/\" directory\n",
    "# For example, running this (by clicking run or pressing Shift+Enter) will list all files under the input directory\n",
    "\n",
    "import os\n",
    "for dirname, _, filenames in os.walk('/kaggle/input'):\n",
    "    for filename in filenames:\n",
    "        print(os.path.join(dirname, filename))\n",
    "\n",
    "# You can write up to 20GB to the current directory (/kaggle/working/) that gets preserved as output when you create a version using \"Save & Run All\" \n",
    "# You can also write temporary files to /kaggle/temp/, but they won't be saved outside of the current session"
   ]
  },
  {
   "cell_type": "code",
   "execution_count": 2,
   "id": "ca7ad6c3",
   "metadata": {
    "execution": {
     "iopub.execute_input": "2021-08-31T05:09:37.730767Z",
     "iopub.status.busy": "2021-08-31T05:09:37.729937Z",
     "iopub.status.idle": "2021-08-31T05:09:41.659527Z",
     "shell.execute_reply": "2021-08-31T05:09:41.658628Z",
     "shell.execute_reply.started": "2021-08-30T18:26:40.798419Z"
    },
    "papermill": {
     "duration": 3.951736,
     "end_time": "2021-08-31T05:09:41.659668",
     "exception": false,
     "start_time": "2021-08-31T05:09:37.707932",
     "status": "completed"
    },
    "tags": []
   },
   "outputs": [],
   "source": [
    "# Load the training and test data. \n",
    "X_full = pd.read_csv(\"../input/train-folds-k-folds-30-days-of-ml/train_folds_3_folds.csv\")\n",
    "X_test_full = pd.read_csv(\"../input/30-days-of-ml/test.csv\")"
   ]
  },
  {
   "cell_type": "code",
   "execution_count": 3,
   "id": "42ccc85a",
   "metadata": {
    "execution": {
     "iopub.execute_input": "2021-08-31T05:09:41.696213Z",
     "iopub.status.busy": "2021-08-31T05:09:41.694640Z",
     "iopub.status.idle": "2021-08-31T05:09:46.220653Z",
     "shell.execute_reply": "2021-08-31T05:09:46.220138Z",
     "shell.execute_reply.started": "2021-08-30T18:26:42.781442Z"
    },
    "papermill": {
     "duration": 4.5522,
     "end_time": "2021-08-31T05:09:46.220773",
     "exception": false,
     "start_time": "2021-08-31T05:09:41.668573",
     "status": "completed"
    },
    "tags": []
   },
   "outputs": [],
   "source": [
    "# We select all features except \"id\", \"target\" and \"kfold\", as these are not predictors of our target.\n",
    "useful_features = [c for c in X_full.columns if c not in (\"id\", \"target\", \"kfold\")]\n",
    "\n",
    "# Select numerical columns by data type, not by column name\n",
    "num_cols = [col for col in X_full[useful_features] if X_full[col].dtype in ['int64', 'float64']]\n",
    "\n",
    "# We select categorical columns. Note that we dropped the cardinality check.\n",
    "object_cols = [col for col in useful_features if 'cat' in col]\n",
    "\n",
    "# We build X_test out of X_test_full, but only selecting the useful features.\n",
    "X_test = X_test_full[useful_features]\n",
    "\n",
    "# Next up, we set up the for loop which will perform the target encoding:\n",
    "for col in object_cols: \n",
    "    temp_X_full = [] # We create a temporary list to store the dataframes.\n",
    "    temp_test_feature = None # We create a temporary feature for the test set.\n",
    "    \n",
    "    for fold in range(3): # We loop across all folds\n",
    "        X_train = X_full[X_full.kfold != fold].reset_index(drop=True) \n",
    "        X_valid = X_full[X_full.kfold == fold].reset_index(drop=True) \n",
    "        feat = X_train.groupby(col)[\"target\"].agg(\"mean\") # We group the columns by target, and then we get the mean value of the values in \"target\" column.\n",
    "        feat = feat.to_dict() # We convert the dataframe into a dictionary.\n",
    "        X_valid.loc[:, f\"tar_enc_{col}\"] = X_valid[col].map(feat) # We map the mean values to a new column in X_valid.\n",
    "        temp_X_full.append(X_valid) # We append X_valid to our temporary list.\n",
    "        \n",
    "        if temp_test_feature is None: # If we don't have a temp_test_feature...\n",
    "            temp_test_feature = X_test[col].map(feat) # ...we assign it this value.\n",
    "            \n",
    "        else: # If its not None, (for folds above 0)...\n",
    "            temp_test_feature = temp_test_feature + X_test[col].map(feat) # ...add to it the present value.\n",
    "            \n",
    "    temp_test_feature = temp_test_feature/5 # We divide by the number of folds to get the average.\n",
    "    X_test.loc[:, f\"tar_enc_{col}\"] = temp_test_feature # We assign the temp_test_feat value to a new column.\n",
    "    X_full = pd.concat(temp_X_full) # We build the new X_full dataframe with the new target encoding columns."
   ]
  },
  {
   "cell_type": "code",
   "execution_count": 4,
   "id": "617fe4db",
   "metadata": {
    "execution": {
     "iopub.execute_input": "2021-08-31T05:09:46.252405Z",
     "iopub.status.busy": "2021-08-31T05:09:46.251029Z",
     "iopub.status.idle": "2021-08-31T05:09:46.253527Z",
     "shell.execute_reply": "2021-08-31T05:09:46.253965Z",
     "shell.execute_reply.started": "2021-08-30T18:26:46.757012Z"
    },
    "papermill": {
     "duration": 0.025144,
     "end_time": "2021-08-31T05:09:46.254105",
     "exception": false,
     "start_time": "2021-08-31T05:09:46.228961",
     "status": "completed"
    },
    "tags": []
   },
   "outputs": [],
   "source": [
    "def run(trial):\n",
    "    scores = []\n",
    "    for fold in range(3):\n",
    "        learning_rate = trial.suggest_float(\"learning_rate\", 0.01, 0.25, log=True)\n",
    "        reg_lambda = trial.suggest_loguniform(\"reg_lambda\", 0.00000001, 100.0)\n",
    "        reg_alpha = trial.suggest_loguniform(\"reg_alpha\", 0.00000001, 100.0)\n",
    "        subsample = trial.suggest_float(\"subsample\", 0.1, 1.0)\n",
    "        colsample_bytree = trial.suggest_float(\"colsample_bytree\", 0.1, 1.0)\n",
    "        max_depth = trial.suggest_int(\"max_depth\", 1, 7)\n",
    "\n",
    "        X_train = X_full[X_full.kfold != fold].reset_index(drop=True) # We set the training data to be all folds different from the current fold number in the loop. We also reset the indices.\n",
    "        X_valid = X_full[X_full.kfold == fold].reset_index(drop=True) # The validation data is the current fold number in the loop. We also reset the indices.\n",
    "\n",
    "        y_train = X_train.target # We set the training target equal to the target in the training set. This has to be done every iteration (as the fold and the data changes).\n",
    "        y_valid = X_valid.target # We set the validation target equal to the target in the validation set. This has to be done every iteration (as the fold and the data changes).\n",
    "\n",
    "        X_train = X_train[useful_features] # We set our training data to be the previously defined useful features of X_train.\n",
    "        X_valid = X_valid[useful_features] # We set our validation data to be the previously defined useful features of X_valid.\n",
    "\n",
    "        X_train.head()\n",
    "        \n",
    "        # Remove categorical columns (will replace with one-hot encoding)\n",
    "        num_X_train = X_train.drop(object_cols, axis=1)\n",
    "        num_X_valid = X_valid.drop(object_cols, axis=1)\n",
    "        \n",
    "        num_X_train.head()\n",
    "        \n",
    "        # Remove categorical columns (will replace with one-hot encoding)\n",
    "        OH_X_train = X_train.drop(num_cols, axis=1)\n",
    "        OH_X_valid = X_valid.drop(num_cols, axis=1)\n",
    "        \n",
    "        OH_X_train.head()\n",
    "        \n",
    "        # We set up one-hot encoding:\n",
    "        one_hot_encoder = preprocessing.OneHotEncoder(handle_unknown='ignore', sparse=False)\n",
    "        OH_cols_train = pd.DataFrame(one_hot_encoder.fit_transform(OH_X_train))\n",
    "        OH_cols_valid = pd.DataFrame(one_hot_encoder.transform(OH_X_valid))\n",
    "        #OH_cols_test = pd.DataFrame(OH_encoder.transform(X_test[object_cols]))\n",
    "\n",
    "        # One-hot encoding removed index; put it back\n",
    "        OH_cols_train.index = X_train.index\n",
    "        OH_cols_valid.index = X_valid.index\n",
    "        #OH_cols_test.index = X_test.index\n",
    "\n",
    "        # Stardardization preprocessing for numerical data\n",
    "        numerical_transformer = preprocessing.StandardScaler()\n",
    "        num_cols_train = pd.DataFrame(numerical_transformer.fit_transform(num_X_train))\n",
    "        num_cols_valid = pd.DataFrame(numerical_transformer.transform(num_X_valid))\n",
    "        #num_X_test = numerical_transformer.transform(X_test[num_cols])\n",
    "\n",
    "        # Add one-hot encoded columns to processed numerical features\n",
    "        new_X_train = pd.concat([num_cols_train, OH_cols_train], axis=1)\n",
    "        new_X_valid = pd.concat([num_cols_valid, OH_cols_valid], axis=1)\n",
    "        \n",
    "        new_X_train = new_X_train.loc[:,~new_X_train.columns.duplicated()]\n",
    "        new_X_valid = new_X_valid.loc[:,~new_X_valid.columns.duplicated()]\n",
    "\n",
    "        model = XGBRegressor(\n",
    "            random_state=0,\n",
    "            tree_method=\"gpu_hist\",\n",
    "            gpu_id=0,\n",
    "            predictor=\"gpu_predictor\",\n",
    "            n_estimators=25000,\n",
    "            learning_rate=learning_rate,\n",
    "            reg_lambda=reg_lambda,\n",
    "            reg_alpha=reg_alpha,\n",
    "            subsample=subsample,\n",
    "            colsample_bytree=colsample_bytree,\n",
    "            max_depth=max_depth,\n",
    "        )\n",
    "\n",
    "        model.fit(new_X_train, y_train, early_stopping_rounds=270, eval_set=[(new_X_valid, y_valid)], verbose=1000)   \n",
    "        preds_valid = model.predict(new_X_valid)\n",
    "        rmse = mean_squared_error(y_valid, preds_valid, squared=False)\n",
    "        scores.append(rmse)\n",
    "        \n",
    "    return np.mean(scores)"
   ]
  },
  {
   "cell_type": "code",
   "execution_count": 5,
   "id": "0d3ef389",
   "metadata": {
    "execution": {
     "iopub.execute_input": "2021-08-31T05:09:46.273315Z",
     "iopub.status.busy": "2021-08-31T05:09:46.272475Z",
     "iopub.status.idle": "2021-08-31T06:52:16.023852Z",
     "shell.execute_reply": "2021-08-31T06:52:16.023322Z",
     "shell.execute_reply.started": "2021-08-30T18:26:46.776221Z"
    },
    "papermill": {
     "duration": 6149.762303,
     "end_time": "2021-08-31T06:52:16.024004",
     "exception": false,
     "start_time": "2021-08-31T05:09:46.261701",
     "status": "completed"
    },
    "tags": []
   },
   "outputs": [
    {
     "name": "stderr",
     "output_type": "stream",
     "text": [
      "\u001b[32m[I 2021-08-31 05:09:46,271]\u001b[0m A new study created in memory with name: no-name-9f25b184-d04d-4b8d-a0ae-b5c758fd13ac\u001b[0m\n"
     ]
    },
    {
     "name": "stdout",
     "output_type": "stream",
     "text": [
      "[0]\tvalidation_0-rmse:7.18715\n",
      "[627]\tvalidation_0-rmse:0.72474\n",
      "[0]\tvalidation_0-rmse:7.18993\n",
      "[636]\tvalidation_0-rmse:0.72714\n",
      "[0]\tvalidation_0-rmse:7.19286\n",
      "[678]\tvalidation_0-rmse:0.72454\n"
     ]
    },
    {
     "name": "stderr",
     "output_type": "stream",
     "text": [
      "\u001b[32m[I 2021-08-31 05:10:07,476]\u001b[0m Trial 0 finished with value: 0.724407056065476 and parameters: {'learning_rate': 0.07633107719281673, 'reg_lambda': 0.377181416123027, 'reg_alpha': 8.349933266720312e-06, 'subsample': 0.4786629442438145, 'colsample_bytree': 0.575934587515768, 'max_depth': 6}. Best is trial 0 with value: 0.724407056065476.\u001b[0m\n"
     ]
    },
    {
     "name": "stdout",
     "output_type": "stream",
     "text": [
      "[0]\tvalidation_0-rmse:6.28046\n",
      "[1000]\tvalidation_0-rmse:0.71967\n",
      "[1191]\tvalidation_0-rmse:0.71969\n",
      "[0]\tvalidation_0-rmse:6.28311\n",
      "[1000]\tvalidation_0-rmse:0.72229\n",
      "[1499]\tvalidation_0-rmse:0.72235\n",
      "[0]\tvalidation_0-rmse:6.28621\n",
      "[1000]\tvalidation_0-rmse:0.71931\n",
      "[1331]\tvalidation_0-rmse:0.71943\n"
     ]
    },
    {
     "name": "stderr",
     "output_type": "stream",
     "text": [
      "\u001b[32m[I 2021-08-31 05:10:29,975]\u001b[0m Trial 1 finished with value: 0.7203890310167161 and parameters: {'learning_rate': 0.19416823589151702, 'reg_lambda': 2.2464255197617606e-05, 'reg_alpha': 72.62839454568923, 'subsample': 0.8983489872481278, 'colsample_bytree': 0.19178879027795978, 'max_depth': 4}. Best is trial 1 with value: 0.7203890310167161.\u001b[0m\n"
     ]
    },
    {
     "name": "stdout",
     "output_type": "stream",
     "text": [
      "[0]\tvalidation_0-rmse:6.59085\n",
      "[1000]\tvalidation_0-rmse:0.72175\n",
      "[2000]\tvalidation_0-rmse:0.72050\n",
      "[3000]\tvalidation_0-rmse:0.72011\n",
      "[4000]\tvalidation_0-rmse:0.71985\n",
      "[5000]\tvalidation_0-rmse:0.71974\n",
      "[5801]\tvalidation_0-rmse:0.71968\n",
      "[0]\tvalidation_0-rmse:6.59352\n",
      "[1000]\tvalidation_0-rmse:0.72462\n",
      "[2000]\tvalidation_0-rmse:0.72328\n",
      "[3000]\tvalidation_0-rmse:0.72286\n",
      "[4000]\tvalidation_0-rmse:0.72260\n",
      "[5000]\tvalidation_0-rmse:0.72240\n",
      "[5162]\tvalidation_0-rmse:0.72240\n",
      "[0]\tvalidation_0-rmse:6.59663\n",
      "[1000]\tvalidation_0-rmse:0.72125\n",
      "[2000]\tvalidation_0-rmse:0.72010\n",
      "[3000]\tvalidation_0-rmse:0.71970\n",
      "[4000]\tvalidation_0-rmse:0.71955\n",
      "[5000]\tvalidation_0-rmse:0.71943\n",
      "[5081]\tvalidation_0-rmse:0.71944\n"
     ]
    },
    {
     "name": "stderr",
     "output_type": "stream",
     "text": [
      "\u001b[32m[I 2021-08-31 05:11:20,386]\u001b[0m Trial 2 finished with value: 0.7204918342099216 and parameters: {'learning_rate': 0.15381882513671405, 'reg_lambda': 5.322479661739008e-06, 'reg_alpha': 89.61105417728682, 'subsample': 0.7753083637729267, 'colsample_bytree': 0.6929099884344121, 'max_depth': 2}. Best is trial 1 with value: 0.7203890310167161.\u001b[0m\n"
     ]
    },
    {
     "name": "stdout",
     "output_type": "stream",
     "text": [
      "[0]\tvalidation_0-rmse:7.10678\n",
      "[1000]\tvalidation_0-rmse:0.72264\n",
      "[2000]\tvalidation_0-rmse:0.72073\n",
      "[2718]\tvalidation_0-rmse:0.72045\n",
      "[0]\tvalidation_0-rmse:7.10933\n",
      "[1000]\tvalidation_0-rmse:0.72546\n",
      "[2000]\tvalidation_0-rmse:0.72372\n",
      "[3000]\tvalidation_0-rmse:0.72325\n",
      "[3693]\tvalidation_0-rmse:0.72318\n",
      "[0]\tvalidation_0-rmse:7.11242\n",
      "[1000]\tvalidation_0-rmse:0.72193\n",
      "[2000]\tvalidation_0-rmse:0.72037\n",
      "[2551]\tvalidation_0-rmse:0.72014\n"
     ]
    },
    {
     "name": "stderr",
     "output_type": "stream",
     "text": [
      "\u001b[32m[I 2021-08-31 05:11:50,177]\u001b[0m Trial 3 finished with value: 0.721213086765438 and parameters: {'learning_rate': 0.08676541212803633, 'reg_lambda': 7.223729680889702, 'reg_alpha': 3.907778212954956e-06, 'subsample': 0.3305951363855103, 'colsample_bytree': 0.6894490509794768, 'max_depth': 2}. Best is trial 1 with value: 0.7203890310167161.\u001b[0m\n"
     ]
    },
    {
     "name": "stdout",
     "output_type": "stream",
     "text": [
      "[0]\tvalidation_0-rmse:7.52985\n",
      "[1000]\tvalidation_0-rmse:0.72404\n",
      "[2000]\tvalidation_0-rmse:0.72121\n",
      "[3000]\tvalidation_0-rmse:0.72033\n",
      "[4000]\tvalidation_0-rmse:0.72003\n",
      "[4519]\tvalidation_0-rmse:0.72004\n",
      "[0]\tvalidation_0-rmse:7.53242\n",
      "[1000]\tvalidation_0-rmse:0.72690\n",
      "[2000]\tvalidation_0-rmse:0.72408\n",
      "[3000]\tvalidation_0-rmse:0.72321\n",
      "[3937]\tvalidation_0-rmse:0.72305\n",
      "[0]\tvalidation_0-rmse:7.53517\n",
      "[1000]\tvalidation_0-rmse:0.72329\n",
      "[2000]\tvalidation_0-rmse:0.72063\n",
      "[3000]\tvalidation_0-rmse:0.71981\n",
      "[4000]\tvalidation_0-rmse:0.71952\n",
      "[4469]\tvalidation_0-rmse:0.71956\n"
     ]
    },
    {
     "name": "stderr",
     "output_type": "stream",
     "text": [
      "\u001b[32m[I 2021-08-31 05:12:36,697]\u001b[0m Trial 4 finished with value: 0.7208408556834627 and parameters: {'learning_rate': 0.03185146785554552, 'reg_lambda': 0.02694763365535438, 'reg_alpha': 0.001498279380472566, 'subsample': 0.5893849707160634, 'colsample_bytree': 0.7741455721904204, 'max_depth': 3}. Best is trial 1 with value: 0.7203890310167161.\u001b[0m\n"
     ]
    },
    {
     "name": "stdout",
     "output_type": "stream",
     "text": [
      "[0]\tvalidation_0-rmse:7.69444\n",
      "[1000]\tvalidation_0-rmse:0.73109\n",
      "[2000]\tvalidation_0-rmse:0.72632\n",
      "[3000]\tvalidation_0-rmse:0.72412\n",
      "[4000]\tvalidation_0-rmse:0.72291\n",
      "[5000]\tvalidation_0-rmse:0.72220\n",
      "[6000]\tvalidation_0-rmse:0.72171\n",
      "[7000]\tvalidation_0-rmse:0.72137\n",
      "[8000]\tvalidation_0-rmse:0.72113\n",
      "[9000]\tvalidation_0-rmse:0.72094\n",
      "[10000]\tvalidation_0-rmse:0.72079\n",
      "[11000]\tvalidation_0-rmse:0.72068\n",
      "[12000]\tvalidation_0-rmse:0.72059\n",
      "[13000]\tvalidation_0-rmse:0.72052\n",
      "[14000]\tvalidation_0-rmse:0.72047\n",
      "[15000]\tvalidation_0-rmse:0.72043\n",
      "[15399]\tvalidation_0-rmse:0.72043\n",
      "[0]\tvalidation_0-rmse:7.69699\n",
      "[1000]\tvalidation_0-rmse:0.73342\n",
      "[2000]\tvalidation_0-rmse:0.72879\n",
      "[3000]\tvalidation_0-rmse:0.72669\n",
      "[4000]\tvalidation_0-rmse:0.72556\n",
      "[5000]\tvalidation_0-rmse:0.72486\n",
      "[6000]\tvalidation_0-rmse:0.72441\n",
      "[7000]\tvalidation_0-rmse:0.72405\n",
      "[8000]\tvalidation_0-rmse:0.72381\n",
      "[9000]\tvalidation_0-rmse:0.72362\n",
      "[10000]\tvalidation_0-rmse:0.72348\n",
      "[11000]\tvalidation_0-rmse:0.72336\n",
      "[12000]\tvalidation_0-rmse:0.72327\n",
      "[13000]\tvalidation_0-rmse:0.72319\n",
      "[14000]\tvalidation_0-rmse:0.72314\n",
      "[15000]\tvalidation_0-rmse:0.72308\n",
      "[16000]\tvalidation_0-rmse:0.72305\n",
      "[16779]\tvalidation_0-rmse:0.72303\n",
      "[0]\tvalidation_0-rmse:7.69969\n",
      "[1000]\tvalidation_0-rmse:0.72951\n",
      "[2000]\tvalidation_0-rmse:0.72516\n",
      "[3000]\tvalidation_0-rmse:0.72318\n",
      "[4000]\tvalidation_0-rmse:0.72211\n",
      "[5000]\tvalidation_0-rmse:0.72144\n",
      "[6000]\tvalidation_0-rmse:0.72097\n",
      "[7000]\tvalidation_0-rmse:0.72066\n",
      "[8000]\tvalidation_0-rmse:0.72044\n",
      "[9000]\tvalidation_0-rmse:0.72027\n",
      "[10000]\tvalidation_0-rmse:0.72016\n",
      "[11000]\tvalidation_0-rmse:0.72006\n",
      "[12000]\tvalidation_0-rmse:0.71997\n",
      "[13000]\tvalidation_0-rmse:0.71994\n",
      "[14000]\tvalidation_0-rmse:0.71989\n",
      "[14244]\tvalidation_0-rmse:0.71989\n"
     ]
    },
    {
     "name": "stderr",
     "output_type": "stream",
     "text": [
      "\u001b[32m[I 2021-08-31 05:15:38,103]\u001b[0m Trial 5 finished with value: 0.7211101703130924 and parameters: {'learning_rate': 0.010495264750570632, 'reg_lambda': 1.8479554358429648e-05, 'reg_alpha': 69.00629825745291, 'subsample': 0.47177936324367165, 'colsample_bytree': 0.4959325118867791, 'max_depth': 4}. Best is trial 1 with value: 0.7203890310167161.\u001b[0m\n"
     ]
    },
    {
     "name": "stdout",
     "output_type": "stream",
     "text": [
      "[0]\tvalidation_0-rmse:7.26500\n",
      "[411]\tvalidation_0-rmse:0.73345\n",
      "[0]\tvalidation_0-rmse:7.26764\n",
      "[414]\tvalidation_0-rmse:0.73694\n",
      "[0]\tvalidation_0-rmse:7.27066\n",
      "[404]\tvalidation_0-rmse:0.73245\n"
     ]
    },
    {
     "name": "stderr",
     "output_type": "stream",
     "text": [
      "\u001b[32m[I 2021-08-31 05:15:52,200]\u001b[0m Trial 6 finished with value: 0.7310577150853804 and parameters: {'learning_rate': 0.06618802841961471, 'reg_lambda': 3.636849484791962e-08, 'reg_alpha': 3.1924032404632237e-06, 'subsample': 0.10300173319077148, 'colsample_bytree': 0.8403482923734429, 'max_depth': 6}. Best is trial 1 with value: 0.7203890310167161.\u001b[0m\n"
     ]
    },
    {
     "name": "stdout",
     "output_type": "stream",
     "text": [
      "[0]\tvalidation_0-rmse:7.11515\n",
      "[1000]\tvalidation_0-rmse:0.72061\n",
      "[1905]\tvalidation_0-rmse:0.72014\n",
      "[0]\tvalidation_0-rmse:7.11776\n",
      "[1000]\tvalidation_0-rmse:0.72372\n",
      "[1691]\tvalidation_0-rmse:0.72340\n",
      "[0]\tvalidation_0-rmse:7.12074\n",
      "[1000]\tvalidation_0-rmse:0.72000\n",
      "[1651]\tvalidation_0-rmse:0.71982\n"
     ]
    },
    {
     "name": "stderr",
     "output_type": "stream",
     "text": [
      "\u001b[32m[I 2021-08-31 05:16:14,463]\u001b[0m Trial 7 finished with value: 0.7210346501622942 and parameters: {'learning_rate': 0.08567369181021793, 'reg_lambda': 0.045647430128874754, 'reg_alpha': 5.90847785190427e-05, 'subsample': 0.6651252697298973, 'colsample_bytree': 0.552115488585635, 'max_depth': 3}. Best is trial 1 with value: 0.7203890310167161.\u001b[0m\n"
     ]
    },
    {
     "name": "stdout",
     "output_type": "stream",
     "text": [
      "[0]\tvalidation_0-rmse:7.58846\n",
      "[1000]\tvalidation_0-rmse:0.73471\n",
      "[2000]\tvalidation_0-rmse:0.73197\n",
      "[3000]\tvalidation_0-rmse:0.73056\n",
      "[4000]\tvalidation_0-rmse:0.72956\n",
      "[5000]\tvalidation_0-rmse:0.72875\n",
      "[6000]\tvalidation_0-rmse:0.72807\n",
      "[7000]\tvalidation_0-rmse:0.72748\n",
      "[8000]\tvalidation_0-rmse:0.72695\n",
      "[9000]\tvalidation_0-rmse:0.72647\n",
      "[10000]\tvalidation_0-rmse:0.72604\n",
      "[11000]\tvalidation_0-rmse:0.72566\n",
      "[12000]\tvalidation_0-rmse:0.72534\n",
      "[13000]\tvalidation_0-rmse:0.72502\n",
      "[14000]\tvalidation_0-rmse:0.72475\n",
      "[15000]\tvalidation_0-rmse:0.72449\n",
      "[16000]\tvalidation_0-rmse:0.72425\n",
      "[17000]\tvalidation_0-rmse:0.72403\n",
      "[18000]\tvalidation_0-rmse:0.72384\n",
      "[19000]\tvalidation_0-rmse:0.72367\n",
      "[20000]\tvalidation_0-rmse:0.72350\n",
      "[21000]\tvalidation_0-rmse:0.72332\n",
      "[22000]\tvalidation_0-rmse:0.72316\n",
      "[23000]\tvalidation_0-rmse:0.72301\n",
      "[24000]\tvalidation_0-rmse:0.72288\n",
      "[24999]\tvalidation_0-rmse:0.72274\n",
      "[0]\tvalidation_0-rmse:7.59098\n",
      "[1000]\tvalidation_0-rmse:0.73704\n",
      "[2000]\tvalidation_0-rmse:0.73423\n",
      "[3000]\tvalidation_0-rmse:0.73290\n",
      "[4000]\tvalidation_0-rmse:0.73191\n",
      "[5000]\tvalidation_0-rmse:0.73111\n",
      "[6000]\tvalidation_0-rmse:0.73045\n",
      "[7000]\tvalidation_0-rmse:0.72986\n",
      "[8000]\tvalidation_0-rmse:0.72933\n",
      "[9000]\tvalidation_0-rmse:0.72889\n",
      "[10000]\tvalidation_0-rmse:0.72846\n",
      "[11000]\tvalidation_0-rmse:0.72813\n",
      "[12000]\tvalidation_0-rmse:0.72777\n",
      "[13000]\tvalidation_0-rmse:0.72748\n",
      "[14000]\tvalidation_0-rmse:0.72718\n",
      "[15000]\tvalidation_0-rmse:0.72693\n",
      "[16000]\tvalidation_0-rmse:0.72672\n",
      "[17000]\tvalidation_0-rmse:0.72650\n",
      "[18000]\tvalidation_0-rmse:0.72630\n",
      "[19000]\tvalidation_0-rmse:0.72612\n",
      "[20000]\tvalidation_0-rmse:0.72598\n",
      "[21000]\tvalidation_0-rmse:0.72579\n",
      "[22000]\tvalidation_0-rmse:0.72564\n",
      "[23000]\tvalidation_0-rmse:0.72550\n",
      "[24000]\tvalidation_0-rmse:0.72535\n",
      "[24999]\tvalidation_0-rmse:0.72520\n",
      "[0]\tvalidation_0-rmse:7.59382\n",
      "[1000]\tvalidation_0-rmse:0.73311\n",
      "[2000]\tvalidation_0-rmse:0.73043\n",
      "[3000]\tvalidation_0-rmse:0.72913\n",
      "[4000]\tvalidation_0-rmse:0.72821\n",
      "[5000]\tvalidation_0-rmse:0.72740\n",
      "[6000]\tvalidation_0-rmse:0.72677\n",
      "[7000]\tvalidation_0-rmse:0.72627\n",
      "[8000]\tvalidation_0-rmse:0.72578\n",
      "[9000]\tvalidation_0-rmse:0.72533\n",
      "[10000]\tvalidation_0-rmse:0.72497\n",
      "[11000]\tvalidation_0-rmse:0.72463\n",
      "[12000]\tvalidation_0-rmse:0.72431\n",
      "[13000]\tvalidation_0-rmse:0.72400\n",
      "[14000]\tvalidation_0-rmse:0.72374\n",
      "[15000]\tvalidation_0-rmse:0.72352\n",
      "[16000]\tvalidation_0-rmse:0.72330\n",
      "[17000]\tvalidation_0-rmse:0.72310\n",
      "[18000]\tvalidation_0-rmse:0.72292\n",
      "[19000]\tvalidation_0-rmse:0.72272\n",
      "[20000]\tvalidation_0-rmse:0.72257\n",
      "[21000]\tvalidation_0-rmse:0.72242\n",
      "[22000]\tvalidation_0-rmse:0.72229\n",
      "[23000]\tvalidation_0-rmse:0.72215\n",
      "[24000]\tvalidation_0-rmse:0.72201\n",
      "[24759]\tvalidation_0-rmse:0.72193\n"
     ]
    },
    {
     "name": "stderr",
     "output_type": "stream",
     "text": [
      "\u001b[32m[I 2021-08-31 05:19:04,567]\u001b[0m Trial 8 finished with value: 0.7232894578831109 and parameters: {'learning_rate': 0.02424409803974938, 'reg_lambda': 1.3930432849139795e-05, 'reg_alpha': 55.32233096773856, 'subsample': 0.18228697923342765, 'colsample_bytree': 0.7208608555922836, 'max_depth': 1}. Best is trial 1 with value: 0.7203890310167161.\u001b[0m\n"
     ]
    },
    {
     "name": "stdout",
     "output_type": "stream",
     "text": [
      "[0]\tvalidation_0-rmse:6.61010\n",
      "[1000]\tvalidation_0-rmse:0.72055\n",
      "[1260]\tvalidation_0-rmse:0.72089\n",
      "[0]\tvalidation_0-rmse:6.61309\n",
      "[1000]\tvalidation_0-rmse:0.72372\n",
      "[1297]\tvalidation_0-rmse:0.72394\n",
      "[0]\tvalidation_0-rmse:6.61629\n",
      "[1000]\tvalidation_0-rmse:0.72025\n",
      "[1114]\tvalidation_0-rmse:0.72034\n"
     ]
    },
    {
     "name": "stderr",
     "output_type": "stream",
     "text": [
      "\u001b[32m[I 2021-08-31 05:19:22,138]\u001b[0m Trial 9 finished with value: 0.7214485443291455 and parameters: {'learning_rate': 0.15128970242386555, 'reg_lambda': 1.1781279738244628, 'reg_alpha': 13.1716654131323, 'subsample': 0.5063292772175483, 'colsample_bytree': 0.9280138795619608, 'max_depth': 3}. Best is trial 1 with value: 0.7203890310167161.\u001b[0m\n"
     ]
    },
    {
     "name": "stdout",
     "output_type": "stream",
     "text": [
      "[0]\tvalidation_0-rmse:5.98098\n",
      "[540]\tvalidation_0-rmse:0.72170\n",
      "[0]\tvalidation_0-rmse:5.98392\n",
      "[536]\tvalidation_0-rmse:0.72459\n",
      "[0]\tvalidation_0-rmse:5.98677\n",
      "[509]\tvalidation_0-rmse:0.72149\n"
     ]
    },
    {
     "name": "stderr",
     "output_type": "stream",
     "text": [
      "\u001b[32m[I 2021-08-31 05:19:35,325]\u001b[0m Trial 10 finished with value: 0.7213137651660014 and parameters: {'learning_rate': 0.23312546626809533, 'reg_lambda': 1.6515838629149665e-08, 'reg_alpha': 0.09300306792033405, 'subsample': 0.9929820498671561, 'colsample_bytree': 0.10678445858106816, 'max_depth': 5}. Best is trial 1 with value: 0.7203890310167161.\u001b[0m\n"
     ]
    },
    {
     "name": "stdout",
     "output_type": "stream",
     "text": [
      "[0]\tvalidation_0-rmse:6.07911\n",
      "[1000]\tvalidation_0-rmse:0.72744\n",
      "[2000]\tvalidation_0-rmse:0.72516\n",
      "[3000]\tvalidation_0-rmse:0.72373\n",
      "[4000]\tvalidation_0-rmse:0.72279\n",
      "[5000]\tvalidation_0-rmse:0.72208\n",
      "[6000]\tvalidation_0-rmse:0.72149\n",
      "[7000]\tvalidation_0-rmse:0.72103\n",
      "[8000]\tvalidation_0-rmse:0.72067\n",
      "[9000]\tvalidation_0-rmse:0.72038\n",
      "[10000]\tvalidation_0-rmse:0.72016\n",
      "[11000]\tvalidation_0-rmse:0.71997\n",
      "[12000]\tvalidation_0-rmse:0.71980\n",
      "[13000]\tvalidation_0-rmse:0.71965\n",
      "[14000]\tvalidation_0-rmse:0.71952\n",
      "[15000]\tvalidation_0-rmse:0.71940\n",
      "[16000]\tvalidation_0-rmse:0.71931\n",
      "[17000]\tvalidation_0-rmse:0.71925\n",
      "[17915]\tvalidation_0-rmse:0.71918\n",
      "[0]\tvalidation_0-rmse:6.08188\n",
      "[1000]\tvalidation_0-rmse:0.72996\n",
      "[2000]\tvalidation_0-rmse:0.72773\n",
      "[3000]\tvalidation_0-rmse:0.72641\n",
      "[4000]\tvalidation_0-rmse:0.72546\n",
      "[5000]\tvalidation_0-rmse:0.72476\n",
      "[6000]\tvalidation_0-rmse:0.72425\n",
      "[7000]\tvalidation_0-rmse:0.72385\n",
      "[8000]\tvalidation_0-rmse:0.72349\n",
      "[9000]\tvalidation_0-rmse:0.72318\n",
      "[10000]\tvalidation_0-rmse:0.72294\n",
      "[11000]\tvalidation_0-rmse:0.72275\n",
      "[12000]\tvalidation_0-rmse:0.72255\n",
      "[13000]\tvalidation_0-rmse:0.72237\n",
      "[14000]\tvalidation_0-rmse:0.72223\n",
      "[15000]\tvalidation_0-rmse:0.72212\n",
      "[16000]\tvalidation_0-rmse:0.72203\n",
      "[16544]\tvalidation_0-rmse:0.72200\n",
      "[0]\tvalidation_0-rmse:6.08494\n",
      "[1000]\tvalidation_0-rmse:0.72630\n",
      "[2000]\tvalidation_0-rmse:0.72417\n",
      "[3000]\tvalidation_0-rmse:0.72291\n",
      "[4000]\tvalidation_0-rmse:0.72203\n",
      "[5000]\tvalidation_0-rmse:0.72138\n",
      "[6000]\tvalidation_0-rmse:0.72086\n",
      "[7000]\tvalidation_0-rmse:0.72048\n",
      "[8000]\tvalidation_0-rmse:0.72013\n",
      "[9000]\tvalidation_0-rmse:0.71985\n",
      "[10000]\tvalidation_0-rmse:0.71962\n",
      "[11000]\tvalidation_0-rmse:0.71943\n",
      "[12000]\tvalidation_0-rmse:0.71927\n",
      "[13000]\tvalidation_0-rmse:0.71915\n",
      "[14000]\tvalidation_0-rmse:0.71903\n",
      "[15000]\tvalidation_0-rmse:0.71893\n",
      "[15873]\tvalidation_0-rmse:0.71886\n"
     ]
    },
    {
     "name": "stderr",
     "output_type": "stream",
     "text": [
      "\u001b[32m[I 2021-08-31 05:21:38,803]\u001b[0m Trial 11 finished with value: 0.7200064441216799 and parameters: {'learning_rate': 0.2203440840003725, 'reg_lambda': 1.8335593994441016e-05, 'reg_alpha': 0.9087817463041808, 'subsample': 0.9175278702410916, 'colsample_bytree': 0.23872882475196883, 'max_depth': 1}. Best is trial 11 with value: 0.7200064441216799.\u001b[0m\n"
     ]
    },
    {
     "name": "stdout",
     "output_type": "stream",
     "text": [
      "[0]\tvalidation_0-rmse:5.89359\n",
      "[435]\tvalidation_0-rmse:0.72287\n",
      "[0]\tvalidation_0-rmse:5.89644\n",
      "[507]\tvalidation_0-rmse:0.72577\n",
      "[0]\tvalidation_0-rmse:5.89922\n",
      "[447]\tvalidation_0-rmse:0.72211\n"
     ]
    },
    {
     "name": "stderr",
     "output_type": "stream",
     "text": [
      "\u001b[32m[I 2021-08-31 05:21:51,088]\u001b[0m Trial 12 finished with value: 0.7218462702812681 and parameters: {'learning_rate': 0.2445103943661497, 'reg_lambda': 0.0005029890598064433, 'reg_alpha': 0.6278590000013149, 'subsample': 0.9952868011331033, 'colsample_bytree': 0.15398133582206885, 'max_depth': 5}. Best is trial 11 with value: 0.7200064441216799.\u001b[0m\n"
     ]
    },
    {
     "name": "stdout",
     "output_type": "stream",
     "text": [
      "[0]\tvalidation_0-rmse:6.59779\n",
      "[1000]\tvalidation_0-rmse:0.72847\n",
      "[2000]\tvalidation_0-rmse:0.72610\n",
      "[3000]\tvalidation_0-rmse:0.72467\n",
      "[4000]\tvalidation_0-rmse:0.72367\n",
      "[5000]\tvalidation_0-rmse:0.72288\n",
      "[6000]\tvalidation_0-rmse:0.72226\n",
      "[7000]\tvalidation_0-rmse:0.72176\n",
      "[8000]\tvalidation_0-rmse:0.72137\n",
      "[9000]\tvalidation_0-rmse:0.72103\n",
      "[10000]\tvalidation_0-rmse:0.72072\n",
      "[11000]\tvalidation_0-rmse:0.72051\n",
      "[12000]\tvalidation_0-rmse:0.72030\n",
      "[13000]\tvalidation_0-rmse:0.72012\n",
      "[14000]\tvalidation_0-rmse:0.72001\n",
      "[15000]\tvalidation_0-rmse:0.71986\n",
      "[16000]\tvalidation_0-rmse:0.71972\n",
      "[17000]\tvalidation_0-rmse:0.71962\n",
      "[17475]\tvalidation_0-rmse:0.71958\n",
      "[0]\tvalidation_0-rmse:6.60042\n",
      "[1000]\tvalidation_0-rmse:0.73097\n",
      "[2000]\tvalidation_0-rmse:0.72869\n",
      "[3000]\tvalidation_0-rmse:0.72737\n",
      "[4000]\tvalidation_0-rmse:0.72639\n",
      "[5000]\tvalidation_0-rmse:0.72564\n",
      "[6000]\tvalidation_0-rmse:0.72505\n",
      "[7000]\tvalidation_0-rmse:0.72454\n",
      "[8000]\tvalidation_0-rmse:0.72413\n",
      "[9000]\tvalidation_0-rmse:0.72385\n",
      "[10000]\tvalidation_0-rmse:0.72356\n",
      "[11000]\tvalidation_0-rmse:0.72332\n",
      "[12000]\tvalidation_0-rmse:0.72315\n",
      "[13000]\tvalidation_0-rmse:0.72291\n",
      "[14000]\tvalidation_0-rmse:0.72272\n",
      "[15000]\tvalidation_0-rmse:0.72261\n",
      "[16000]\tvalidation_0-rmse:0.72249\n",
      "[17000]\tvalidation_0-rmse:0.72239\n",
      "[18000]\tvalidation_0-rmse:0.72227\n",
      "[19000]\tvalidation_0-rmse:0.72219\n",
      "[19429]\tvalidation_0-rmse:0.72218\n",
      "[0]\tvalidation_0-rmse:6.60348\n",
      "[1000]\tvalidation_0-rmse:0.72729\n",
      "[2000]\tvalidation_0-rmse:0.72508\n",
      "[3000]\tvalidation_0-rmse:0.72380\n",
      "[4000]\tvalidation_0-rmse:0.72288\n",
      "[5000]\tvalidation_0-rmse:0.72218\n",
      "[6000]\tvalidation_0-rmse:0.72160\n",
      "[7000]\tvalidation_0-rmse:0.72114\n",
      "[8000]\tvalidation_0-rmse:0.72078\n",
      "[9000]\tvalidation_0-rmse:0.72043\n",
      "[10000]\tvalidation_0-rmse:0.72018\n",
      "[11000]\tvalidation_0-rmse:0.71993\n",
      "[12000]\tvalidation_0-rmse:0.71976\n",
      "[13000]\tvalidation_0-rmse:0.71959\n",
      "[14000]\tvalidation_0-rmse:0.71948\n",
      "[15000]\tvalidation_0-rmse:0.71934\n",
      "[16000]\tvalidation_0-rmse:0.71923\n",
      "[17000]\tvalidation_0-rmse:0.71915\n",
      "[18000]\tvalidation_0-rmse:0.71908\n",
      "[18746]\tvalidation_0-rmse:0.71903\n"
     ]
    },
    {
     "name": "stderr",
     "output_type": "stream",
     "text": [
      "\u001b[32m[I 2021-08-31 05:24:05,917]\u001b[0m Trial 13 finished with value: 0.7202568689318004 and parameters: {'learning_rate': 0.15290522714902421, 'reg_lambda': 5.026227079351327e-07, 'reg_alpha': 1.1565495514518488e-08, 'subsample': 0.8534245057736392, 'colsample_bytree': 0.3039268288239186, 'max_depth': 1}. Best is trial 11 with value: 0.7200064441216799.\u001b[0m\n"
     ]
    },
    {
     "name": "stdout",
     "output_type": "stream",
     "text": [
      "[0]\tvalidation_0-rmse:6.80610\n",
      "[1000]\tvalidation_0-rmse:0.72910\n",
      "[2000]\tvalidation_0-rmse:0.72672\n",
      "[3000]\tvalidation_0-rmse:0.72531\n",
      "[4000]\tvalidation_0-rmse:0.72432\n",
      "[5000]\tvalidation_0-rmse:0.72349\n",
      "[6000]\tvalidation_0-rmse:0.72287\n",
      "[7000]\tvalidation_0-rmse:0.72232\n",
      "[8000]\tvalidation_0-rmse:0.72190\n",
      "[9000]\tvalidation_0-rmse:0.72154\n",
      "[10000]\tvalidation_0-rmse:0.72118\n",
      "[11000]\tvalidation_0-rmse:0.72095\n",
      "[12000]\tvalidation_0-rmse:0.72072\n",
      "[13000]\tvalidation_0-rmse:0.72049\n",
      "[14000]\tvalidation_0-rmse:0.72035\n",
      "[15000]\tvalidation_0-rmse:0.72017\n",
      "[16000]\tvalidation_0-rmse:0.72003\n",
      "[17000]\tvalidation_0-rmse:0.71991\n",
      "[18000]\tvalidation_0-rmse:0.71982\n",
      "[19000]\tvalidation_0-rmse:0.71973\n",
      "[20000]\tvalidation_0-rmse:0.71966\n",
      "[21000]\tvalidation_0-rmse:0.71957\n",
      "[21984]\tvalidation_0-rmse:0.71951\n",
      "[0]\tvalidation_0-rmse:6.80872\n",
      "[1000]\tvalidation_0-rmse:0.73155\n",
      "[2000]\tvalidation_0-rmse:0.72924\n",
      "[3000]\tvalidation_0-rmse:0.72791\n",
      "[4000]\tvalidation_0-rmse:0.72695\n",
      "[5000]\tvalidation_0-rmse:0.72617\n",
      "[6000]\tvalidation_0-rmse:0.72556\n",
      "[7000]\tvalidation_0-rmse:0.72503\n",
      "[8000]\tvalidation_0-rmse:0.72462\n",
      "[9000]\tvalidation_0-rmse:0.72430\n",
      "[10000]\tvalidation_0-rmse:0.72398\n",
      "[11000]\tvalidation_0-rmse:0.72372\n",
      "[12000]\tvalidation_0-rmse:0.72352\n",
      "[13000]\tvalidation_0-rmse:0.72328\n",
      "[14000]\tvalidation_0-rmse:0.72313\n",
      "[15000]\tvalidation_0-rmse:0.72295\n",
      "[16000]\tvalidation_0-rmse:0.72281\n",
      "[17000]\tvalidation_0-rmse:0.72268\n",
      "[18000]\tvalidation_0-rmse:0.72256\n",
      "[19000]\tvalidation_0-rmse:0.72246\n",
      "[19435]\tvalidation_0-rmse:0.72242\n",
      "[0]\tvalidation_0-rmse:6.81173\n",
      "[1000]\tvalidation_0-rmse:0.72788\n",
      "[2000]\tvalidation_0-rmse:0.72561\n",
      "[3000]\tvalidation_0-rmse:0.72434\n",
      "[4000]\tvalidation_0-rmse:0.72345\n",
      "[5000]\tvalidation_0-rmse:0.72273\n",
      "[6000]\tvalidation_0-rmse:0.72212\n",
      "[7000]\tvalidation_0-rmse:0.72162\n",
      "[8000]\tvalidation_0-rmse:0.72121\n",
      "[9000]\tvalidation_0-rmse:0.72086\n",
      "[10000]\tvalidation_0-rmse:0.72058\n",
      "[11000]\tvalidation_0-rmse:0.72031\n",
      "[12000]\tvalidation_0-rmse:0.72012\n",
      "[13000]\tvalidation_0-rmse:0.71994\n",
      "[14000]\tvalidation_0-rmse:0.71979\n",
      "[15000]\tvalidation_0-rmse:0.71968\n",
      "[16000]\tvalidation_0-rmse:0.71955\n",
      "[17000]\tvalidation_0-rmse:0.71942\n",
      "[18000]\tvalidation_0-rmse:0.71932\n",
      "[19000]\tvalidation_0-rmse:0.71924\n",
      "[20000]\tvalidation_0-rmse:0.71913\n",
      "[21000]\tvalidation_0-rmse:0.71906\n",
      "[21493]\tvalidation_0-rmse:0.71904\n"
     ]
    },
    {
     "name": "stderr",
     "output_type": "stream",
     "text": [
      "\u001b[32m[I 2021-08-31 05:26:38,360]\u001b[0m Trial 14 finished with value: 0.7203111683400056 and parameters: {'learning_rate': 0.12583153481135198, 'reg_lambda': 2.923167543498784e-07, 'reg_alpha': 3.431651041956639e-08, 'subsample': 0.8298104450953316, 'colsample_bytree': 0.3267932540004683, 'max_depth': 1}. Best is trial 11 with value: 0.7200064441216799.\u001b[0m\n"
     ]
    },
    {
     "name": "stdout",
     "output_type": "stream",
     "text": [
      "[0]\tvalidation_0-rmse:7.43084\n",
      "[1000]\tvalidation_0-rmse:0.73241\n",
      "[2000]\tvalidation_0-rmse:0.73016\n",
      "[3000]\tvalidation_0-rmse:0.72877\n",
      "[4000]\tvalidation_0-rmse:0.72776\n",
      "[5000]\tvalidation_0-rmse:0.72697\n",
      "[6000]\tvalidation_0-rmse:0.72633\n",
      "[7000]\tvalidation_0-rmse:0.72577\n",
      "[8000]\tvalidation_0-rmse:0.72533\n",
      "[9000]\tvalidation_0-rmse:0.72489\n",
      "[10000]\tvalidation_0-rmse:0.72451\n",
      "[11000]\tvalidation_0-rmse:0.72418\n",
      "[12000]\tvalidation_0-rmse:0.72384\n",
      "[13000]\tvalidation_0-rmse:0.72355\n",
      "[14000]\tvalidation_0-rmse:0.72331\n",
      "[15000]\tvalidation_0-rmse:0.72305\n",
      "[16000]\tvalidation_0-rmse:0.72282\n",
      "[17000]\tvalidation_0-rmse:0.72262\n",
      "[18000]\tvalidation_0-rmse:0.72243\n",
      "[19000]\tvalidation_0-rmse:0.72224\n",
      "[20000]\tvalidation_0-rmse:0.72206\n",
      "[21000]\tvalidation_0-rmse:0.72192\n",
      "[22000]\tvalidation_0-rmse:0.72177\n",
      "[23000]\tvalidation_0-rmse:0.72161\n",
      "[24000]\tvalidation_0-rmse:0.72150\n",
      "[24999]\tvalidation_0-rmse:0.72137\n",
      "[0]\tvalidation_0-rmse:7.43343\n",
      "[1000]\tvalidation_0-rmse:0.73478\n",
      "[2000]\tvalidation_0-rmse:0.73255\n",
      "[3000]\tvalidation_0-rmse:0.73123\n",
      "[4000]\tvalidation_0-rmse:0.73031\n",
      "[5000]\tvalidation_0-rmse:0.72952\n",
      "[6000]\tvalidation_0-rmse:0.72891\n",
      "[7000]\tvalidation_0-rmse:0.72838\n",
      "[8000]\tvalidation_0-rmse:0.72793\n",
      "[9000]\tvalidation_0-rmse:0.72751\n",
      "[10000]\tvalidation_0-rmse:0.72713\n",
      "[11000]\tvalidation_0-rmse:0.72679\n",
      "[12000]\tvalidation_0-rmse:0.72648\n",
      "[13000]\tvalidation_0-rmse:0.72621\n",
      "[14000]\tvalidation_0-rmse:0.72595\n",
      "[15000]\tvalidation_0-rmse:0.72573\n",
      "[16000]\tvalidation_0-rmse:0.72552\n",
      "[17000]\tvalidation_0-rmse:0.72532\n",
      "[18000]\tvalidation_0-rmse:0.72513\n",
      "[19000]\tvalidation_0-rmse:0.72496\n",
      "[20000]\tvalidation_0-rmse:0.72479\n",
      "[21000]\tvalidation_0-rmse:0.72464\n",
      "[22000]\tvalidation_0-rmse:0.72449\n",
      "[23000]\tvalidation_0-rmse:0.72436\n",
      "[24000]\tvalidation_0-rmse:0.72423\n",
      "[24999]\tvalidation_0-rmse:0.72413\n",
      "[0]\tvalidation_0-rmse:7.43623\n",
      "[1000]\tvalidation_0-rmse:0.73090\n",
      "[2000]\tvalidation_0-rmse:0.72881\n",
      "[3000]\tvalidation_0-rmse:0.72752\n",
      "[4000]\tvalidation_0-rmse:0.72662\n",
      "[5000]\tvalidation_0-rmse:0.72590\n",
      "[6000]\tvalidation_0-rmse:0.72528\n",
      "[7000]\tvalidation_0-rmse:0.72479\n",
      "[8000]\tvalidation_0-rmse:0.72435\n",
      "[9000]\tvalidation_0-rmse:0.72395\n",
      "[10000]\tvalidation_0-rmse:0.72361\n",
      "[11000]\tvalidation_0-rmse:0.72328\n",
      "[12000]\tvalidation_0-rmse:0.72300\n",
      "[13000]\tvalidation_0-rmse:0.72274\n",
      "[14000]\tvalidation_0-rmse:0.72250\n",
      "[15000]\tvalidation_0-rmse:0.72228\n",
      "[16000]\tvalidation_0-rmse:0.72206\n",
      "[17000]\tvalidation_0-rmse:0.72186\n",
      "[18000]\tvalidation_0-rmse:0.72167\n",
      "[19000]\tvalidation_0-rmse:0.72152\n",
      "[20000]\tvalidation_0-rmse:0.72135\n",
      "[21000]\tvalidation_0-rmse:0.72121\n",
      "[22000]\tvalidation_0-rmse:0.72109\n",
      "[23000]\tvalidation_0-rmse:0.72096\n",
      "[24000]\tvalidation_0-rmse:0.72082\n",
      "[24999]\tvalidation_0-rmse:0.72070\n"
     ]
    },
    {
     "name": "stderr",
     "output_type": "stream",
     "text": [
      "\u001b[32m[I 2021-08-31 05:29:36,863]\u001b[0m Trial 15 finished with value: 0.7220660150454012 and parameters: {'learning_rate': 0.04469874395661209, 'reg_lambda': 3.3622836590845537e-07, 'reg_alpha': 1.1073756242522886e-08, 'subsample': 0.7392441374524104, 'colsample_bytree': 0.323310227067244, 'max_depth': 1}. Best is trial 11 with value: 0.7200064441216799.\u001b[0m\n"
     ]
    },
    {
     "name": "stdout",
     "output_type": "stream",
     "text": [
      "[0]\tvalidation_0-rmse:6.76941\n",
      "[1000]\tvalidation_0-rmse:0.72127\n",
      "[2000]\tvalidation_0-rmse:0.71936\n",
      "[2861]\tvalidation_0-rmse:0.71918\n",
      "[0]\tvalidation_0-rmse:6.77213\n",
      "[1000]\tvalidation_0-rmse:0.72385\n",
      "[2000]\tvalidation_0-rmse:0.72214\n",
      "[3000]\tvalidation_0-rmse:0.72196\n",
      "[3092]\tvalidation_0-rmse:0.72198\n",
      "[0]\tvalidation_0-rmse:6.77501\n",
      "[1000]\tvalidation_0-rmse:0.72049\n",
      "[2000]\tvalidation_0-rmse:0.71886\n",
      "[2677]\tvalidation_0-rmse:0.71878\n"
     ]
    },
    {
     "name": "stderr",
     "output_type": "stream",
     "text": [
      "\u001b[32m[I 2021-08-31 05:30:06,285]\u001b[0m Trial 16 finished with value: 0.7199169205918001 and parameters: {'learning_rate': 0.13058294010654614, 'reg_lambda': 0.0008585392771725397, 'reg_alpha': 0.013491506301988972, 'subsample': 0.9094824806811572, 'colsample_bytree': 0.28906031762361667, 'max_depth': 2}. Best is trial 16 with value: 0.7199169205918001.\u001b[0m\n"
     ]
    },
    {
     "name": "stdout",
     "output_type": "stream",
     "text": [
      "[0]\tvalidation_0-rmse:5.87782\n",
      "[1000]\tvalidation_0-rmse:0.71971\n",
      "[1764]\tvalidation_0-rmse:0.71962\n",
      "[0]\tvalidation_0-rmse:5.88068\n",
      "[1000]\tvalidation_0-rmse:0.72250\n",
      "[1371]\tvalidation_0-rmse:0.72247\n",
      "[0]\tvalidation_0-rmse:5.88367\n",
      "[1000]\tvalidation_0-rmse:0.71933\n",
      "[1526]\tvalidation_0-rmse:0.71925\n"
     ]
    },
    {
     "name": "stderr",
     "output_type": "stream",
     "text": [
      "\u001b[32m[I 2021-08-31 05:30:25,091]\u001b[0m Trial 17 finished with value: 0.7203619332085088 and parameters: {'learning_rate': 0.2465329012862816, 'reg_lambda': 0.0006159254404075506, 'reg_alpha': 0.01947403026824539, 'subsample': 0.941149787969346, 'colsample_bytree': 0.42940641483385744, 'max_depth': 2}. Best is trial 16 with value: 0.7199169205918001.\u001b[0m\n"
     ]
    },
    {
     "name": "stdout",
     "output_type": "stream",
     "text": [
      "[0]\tvalidation_0-rmse:6.98347\n",
      "[1000]\tvalidation_0-rmse:0.72200\n",
      "[2000]\tvalidation_0-rmse:0.71954\n",
      "[3000]\tvalidation_0-rmse:0.71892\n",
      "[3341]\tvalidation_0-rmse:0.71891\n",
      "[0]\tvalidation_0-rmse:6.98610\n",
      "[1000]\tvalidation_0-rmse:0.72479\n",
      "[2000]\tvalidation_0-rmse:0.72257\n",
      "[3000]\tvalidation_0-rmse:0.72202\n",
      "[3753]\tvalidation_0-rmse:0.72194\n",
      "[0]\tvalidation_0-rmse:6.98909\n",
      "[1000]\tvalidation_0-rmse:0.72137\n",
      "[2000]\tvalidation_0-rmse:0.71911\n",
      "[3000]\tvalidation_0-rmse:0.71860\n",
      "[3158]\tvalidation_0-rmse:0.71858\n"
     ]
    },
    {
     "name": "stderr",
     "output_type": "stream",
     "text": [
      "\u001b[32m[I 2021-08-31 05:30:58,068]\u001b[0m Trial 18 finished with value: 0.7197925449133242 and parameters: {'learning_rate': 0.10277415867405883, 'reg_lambda': 0.007623444990688502, 'reg_alpha': 3.5076363967490574, 'subsample': 0.696132464861134, 'colsample_bytree': 0.24144595433518207, 'max_depth': 2}. Best is trial 18 with value: 0.7197925449133242.\u001b[0m\n"
     ]
    },
    {
     "name": "stdout",
     "output_type": "stream",
     "text": [
      "[0]\tvalidation_0-rmse:6.85551\n",
      "[1000]\tvalidation_0-rmse:0.72133\n",
      "[2000]\tvalidation_0-rmse:0.71951\n",
      "[2695]\tvalidation_0-rmse:0.71944\n",
      "[0]\tvalidation_0-rmse:6.85820\n",
      "[1000]\tvalidation_0-rmse:0.72413\n",
      "[2000]\tvalidation_0-rmse:0.72259\n",
      "[2892]\tvalidation_0-rmse:0.72239\n",
      "[0]\tvalidation_0-rmse:6.86128\n",
      "[1000]\tvalidation_0-rmse:0.72072\n",
      "[2000]\tvalidation_0-rmse:0.71933\n",
      "[2982]\tvalidation_0-rmse:0.71917\n"
     ]
    },
    {
     "name": "stderr",
     "output_type": "stream",
     "text": [
      "\u001b[32m[I 2021-08-31 05:31:26,724]\u001b[0m Trial 19 finished with value: 0.720278858383336 and parameters: {'learning_rate': 0.119394142084135, 'reg_lambda': 0.04713024684322324, 'reg_alpha': 0.0038152873416774273, 'subsample': 0.6615522877889555, 'colsample_bytree': 0.4073626985468174, 'max_depth': 2}. Best is trial 18 with value: 0.7197925449133242.\u001b[0m\n"
     ]
    },
    {
     "name": "stdout",
     "output_type": "stream",
     "text": [
      "[0]\tvalidation_0-rmse:7.37513\n",
      "[1000]\tvalidation_0-rmse:0.72184\n",
      "[2000]\tvalidation_0-rmse:0.71948\n",
      "[3000]\tvalidation_0-rmse:0.71895\n",
      "[3915]\tvalidation_0-rmse:0.71894\n",
      "[0]\tvalidation_0-rmse:7.37772\n",
      "[1000]\tvalidation_0-rmse:0.72443\n",
      "[2000]\tvalidation_0-rmse:0.72238\n",
      "[3000]\tvalidation_0-rmse:0.72196\n",
      "[3424]\tvalidation_0-rmse:0.72196\n",
      "[0]\tvalidation_0-rmse:7.38053\n",
      "[1000]\tvalidation_0-rmse:0.72117\n",
      "[2000]\tvalidation_0-rmse:0.71905\n",
      "[3000]\tvalidation_0-rmse:0.71864\n",
      "[3441]\tvalidation_0-rmse:0.71866\n"
     ]
    },
    {
     "name": "stderr",
     "output_type": "stream",
     "text": [
      "\u001b[32m[I 2021-08-31 05:32:05,532]\u001b[0m Trial 20 finished with value: 0.7198058015257548 and parameters: {'learning_rate': 0.051929257665867014, 'reg_lambda': 0.004351720906547207, 'reg_alpha': 4.176078398998937, 'subsample': 0.7342851533900047, 'colsample_bytree': 0.23949371861521604, 'max_depth': 3}. Best is trial 18 with value: 0.7197925449133242.\u001b[0m\n"
     ]
    },
    {
     "name": "stdout",
     "output_type": "stream",
     "text": [
      "[0]\tvalidation_0-rmse:7.38735\n",
      "[1000]\tvalidation_0-rmse:0.72285\n",
      "[2000]\tvalidation_0-rmse:0.71992\n",
      "[3000]\tvalidation_0-rmse:0.71893\n",
      "[4000]\tvalidation_0-rmse:0.71860\n",
      "[5000]\tvalidation_0-rmse:0.71857\n",
      "[5001]\tvalidation_0-rmse:0.71857\n",
      "[0]\tvalidation_0-rmse:7.38992\n",
      "[1000]\tvalidation_0-rmse:0.72542\n",
      "[2000]\tvalidation_0-rmse:0.72273\n",
      "[3000]\tvalidation_0-rmse:0.72186\n",
      "[4000]\tvalidation_0-rmse:0.72169\n",
      "[4505]\tvalidation_0-rmse:0.72168\n",
      "[0]\tvalidation_0-rmse:7.39275\n",
      "[1000]\tvalidation_0-rmse:0.72186\n",
      "[2000]\tvalidation_0-rmse:0.71925\n",
      "[3000]\tvalidation_0-rmse:0.71846\n",
      "[4000]\tvalidation_0-rmse:0.71826\n",
      "[4314]\tvalidation_0-rmse:0.71827\n"
     ]
    },
    {
     "name": "stderr",
     "output_type": "stream",
     "text": [
      "\u001b[32m[I 2021-08-31 05:32:53,512]\u001b[0m Trial 21 finished with value: 0.7194871126920915 and parameters: {'learning_rate': 0.050344986221587736, 'reg_lambda': 0.003660373802593211, 'reg_alpha': 1.943269132687262, 'subsample': 0.7174516878357925, 'colsample_bytree': 0.10285721686138899, 'max_depth': 3}. Best is trial 21 with value: 0.7194871126920915.\u001b[0m\n"
     ]
    },
    {
     "name": "stdout",
     "output_type": "stream",
     "text": [
      "[0]\tvalidation_0-rmse:7.42532\n",
      "[1000]\tvalidation_0-rmse:0.72253\n",
      "[2000]\tvalidation_0-rmse:0.71978\n",
      "[3000]\tvalidation_0-rmse:0.71890\n",
      "[4000]\tvalidation_0-rmse:0.71863\n",
      "[4574]\tvalidation_0-rmse:0.71866\n",
      "[0]\tvalidation_0-rmse:7.42789\n",
      "[1000]\tvalidation_0-rmse:0.72516\n",
      "[2000]\tvalidation_0-rmse:0.72261\n",
      "[3000]\tvalidation_0-rmse:0.72182\n",
      "[4000]\tvalidation_0-rmse:0.72170\n",
      "[4078]\tvalidation_0-rmse:0.72170\n",
      "[0]\tvalidation_0-rmse:7.43071\n",
      "[1000]\tvalidation_0-rmse:0.72168\n",
      "[2000]\tvalidation_0-rmse:0.71917\n",
      "[3000]\tvalidation_0-rmse:0.71855\n",
      "[4000]\tvalidation_0-rmse:0.71841\n",
      "[4079]\tvalidation_0-rmse:0.71841\n"
     ]
    },
    {
     "name": "stderr",
     "output_type": "stream",
     "text": [
      "\u001b[32m[I 2021-08-31 05:33:38,947]\u001b[0m Trial 22 finished with value: 0.7195706986281666 and parameters: {'learning_rate': 0.04541422864969036, 'reg_lambda': 0.00699923319978013, 'reg_alpha': 3.5671710792975917, 'subsample': 0.6785358072006672, 'colsample_bytree': 0.1570935715255355, 'max_depth': 3}. Best is trial 21 with value: 0.7194871126920915.\u001b[0m\n"
     ]
    },
    {
     "name": "stdout",
     "output_type": "stream",
     "text": [
      "[0]\tvalidation_0-rmse:7.62425\n",
      "[1000]\tvalidation_0-rmse:0.72483\n",
      "[2000]\tvalidation_0-rmse:0.72119\n",
      "[3000]\tvalidation_0-rmse:0.71983\n",
      "[4000]\tvalidation_0-rmse:0.71919\n",
      "[5000]\tvalidation_0-rmse:0.71888\n",
      "[5269]\tvalidation_0-rmse:0.71889\n",
      "[0]\tvalidation_0-rmse:7.62679\n",
      "[1000]\tvalidation_0-rmse:0.72742\n",
      "[2000]\tvalidation_0-rmse:0.72396\n",
      "[3000]\tvalidation_0-rmse:0.72261\n",
      "[4000]\tvalidation_0-rmse:0.72210\n",
      "[5000]\tvalidation_0-rmse:0.72186\n",
      "[5483]\tvalidation_0-rmse:0.72183\n",
      "[0]\tvalidation_0-rmse:7.62952\n",
      "[1000]\tvalidation_0-rmse:0.72381\n",
      "[2000]\tvalidation_0-rmse:0.72040\n",
      "[3000]\tvalidation_0-rmse:0.71916\n",
      "[4000]\tvalidation_0-rmse:0.71866\n",
      "[5000]\tvalidation_0-rmse:0.71847\n",
      "[5521]\tvalidation_0-rmse:0.71843\n"
     ]
    },
    {
     "name": "stderr",
     "output_type": "stream",
     "text": [
      "\u001b[32m[I 2021-08-31 05:34:42,995]\u001b[0m Trial 23 finished with value: 0.7197144048163088 and parameters: {'learning_rate': 0.01960206555191992, 'reg_lambda': 0.012503822715111572, 'reg_alpha': 0.3544897576105346, 'subsample': 0.5976850132968246, 'colsample_bytree': 0.13812143612557423, 'max_depth': 4}. Best is trial 21 with value: 0.7194871126920915.\u001b[0m\n"
     ]
    },
    {
     "name": "stdout",
     "output_type": "stream",
     "text": [
      "[0]\tvalidation_0-rmse:7.65841\n",
      "[1000]\tvalidation_0-rmse:0.72507\n",
      "[2000]\tvalidation_0-rmse:0.72091\n",
      "[3000]\tvalidation_0-rmse:0.71963\n",
      "[4000]\tvalidation_0-rmse:0.71909\n",
      "[5000]\tvalidation_0-rmse:0.71886\n",
      "[5787]\tvalidation_0-rmse:0.71888\n",
      "[0]\tvalidation_0-rmse:7.66095\n",
      "[1000]\tvalidation_0-rmse:0.72747\n",
      "[2000]\tvalidation_0-rmse:0.72364\n",
      "[3000]\tvalidation_0-rmse:0.72241\n",
      "[4000]\tvalidation_0-rmse:0.72199\n",
      "[5000]\tvalidation_0-rmse:0.72184\n",
      "[5767]\tvalidation_0-rmse:0.72181\n",
      "[0]\tvalidation_0-rmse:7.66366\n",
      "[1000]\tvalidation_0-rmse:0.72394\n",
      "[2000]\tvalidation_0-rmse:0.72025\n",
      "[3000]\tvalidation_0-rmse:0.71910\n",
      "[4000]\tvalidation_0-rmse:0.71869\n",
      "[5000]\tvalidation_0-rmse:0.71859\n",
      "[5145]\tvalidation_0-rmse:0.71860\n"
     ]
    },
    {
     "name": "stderr",
     "output_type": "stream",
     "text": [
      "\u001b[32m[I 2021-08-31 05:36:03,325]\u001b[0m Trial 24 finished with value: 0.7197347196741811 and parameters: {'learning_rate': 0.015169187127023719, 'reg_lambda': 0.35297473004987767, 'reg_alpha': 0.17574654749458019, 'subsample': 0.5906442367269766, 'colsample_bytree': 0.1129912911363325, 'max_depth': 5}. Best is trial 21 with value: 0.7194871126920915.\u001b[0m\n"
     ]
    },
    {
     "name": "stdout",
     "output_type": "stream",
     "text": [
      "[0]\tvalidation_0-rmse:7.60651\n",
      "[1000]\tvalidation_0-rmse:0.72446\n",
      "[2000]\tvalidation_0-rmse:0.72110\n",
      "[3000]\tvalidation_0-rmse:0.71991\n",
      "[4000]\tvalidation_0-rmse:0.71941\n",
      "[5000]\tvalidation_0-rmse:0.71931\n",
      "[5016]\tvalidation_0-rmse:0.71932\n",
      "[0]\tvalidation_0-rmse:7.60908\n",
      "[1000]\tvalidation_0-rmse:0.72696\n",
      "[2000]\tvalidation_0-rmse:0.72360\n",
      "[3000]\tvalidation_0-rmse:0.72252\n",
      "[4000]\tvalidation_0-rmse:0.72203\n",
      "[5000]\tvalidation_0-rmse:0.72193\n",
      "[5263]\tvalidation_0-rmse:0.72194\n",
      "[0]\tvalidation_0-rmse:7.61182\n",
      "[1000]\tvalidation_0-rmse:0.72344\n",
      "[2000]\tvalidation_0-rmse:0.72021\n",
      "[3000]\tvalidation_0-rmse:0.71918\n",
      "[4000]\tvalidation_0-rmse:0.71882\n",
      "[4908]\tvalidation_0-rmse:0.71876\n"
     ]
    },
    {
     "name": "stderr",
     "output_type": "stream",
     "text": [
      "\u001b[32m[I 2021-08-31 05:37:02,291]\u001b[0m Trial 25 finished with value: 0.7199838723048536 and parameters: {'learning_rate': 0.021911717516409194, 'reg_lambda': 33.28398208689751, 'reg_alpha': 0.10810146575196358, 'subsample': 0.4052712260750044, 'colsample_bytree': 0.18233657510821388, 'max_depth': 4}. Best is trial 21 with value: 0.7194871126920915.\u001b[0m\n"
     ]
    },
    {
     "name": "stdout",
     "output_type": "stream",
     "text": [
      "[0]\tvalidation_0-rmse:7.48684\n",
      "[1000]\tvalidation_0-rmse:0.72477\n",
      "[2000]\tvalidation_0-rmse:0.72107\n",
      "[3000]\tvalidation_0-rmse:0.71950\n",
      "[4000]\tvalidation_0-rmse:0.71884\n",
      "[5000]\tvalidation_0-rmse:0.71848\n",
      "[6000]\tvalidation_0-rmse:0.71835\n",
      "[6668]\tvalidation_0-rmse:0.71830\n",
      "[0]\tvalidation_0-rmse:7.48940\n",
      "[1000]\tvalidation_0-rmse:0.72730\n",
      "[2000]\tvalidation_0-rmse:0.72378\n",
      "[3000]\tvalidation_0-rmse:0.72240\n",
      "[4000]\tvalidation_0-rmse:0.72183\n",
      "[5000]\tvalidation_0-rmse:0.72152\n",
      "[6000]\tvalidation_0-rmse:0.72143\n",
      "[6012]\tvalidation_0-rmse:0.72143\n",
      "[0]\tvalidation_0-rmse:7.49221\n",
      "[1000]\tvalidation_0-rmse:0.72379\n",
      "[2000]\tvalidation_0-rmse:0.72028\n",
      "[3000]\tvalidation_0-rmse:0.71893\n",
      "[4000]\tvalidation_0-rmse:0.71839\n",
      "[5000]\tvalidation_0-rmse:0.71811\n",
      "[6000]\tvalidation_0-rmse:0.71799\n",
      "[6691]\tvalidation_0-rmse:0.71800\n"
     ]
    },
    {
     "name": "stderr",
     "output_type": "stream",
     "text": [
      "\u001b[32m[I 2021-08-31 05:38:05,780]\u001b[0m Trial 26 finished with value: 0.7192284250778599 and parameters: {'learning_rate': 0.03743497159777423, 'reg_lambda': 0.00011489691894056387, 'reg_alpha': 10.978799658777502, 'subsample': 0.6044458755155735, 'colsample_bytree': 0.1002857210882457, 'max_depth': 3}. Best is trial 26 with value: 0.7192284250778599.\u001b[0m\n"
     ]
    },
    {
     "name": "stdout",
     "output_type": "stream",
     "text": [
      "[0]\tvalidation_0-rmse:7.49405\n",
      "[1000]\tvalidation_0-rmse:0.72460\n",
      "[2000]\tvalidation_0-rmse:0.72092\n",
      "[3000]\tvalidation_0-rmse:0.71962\n",
      "[4000]\tvalidation_0-rmse:0.71905\n",
      "[5000]\tvalidation_0-rmse:0.71880\n",
      "[5789]\tvalidation_0-rmse:0.71875\n",
      "[0]\tvalidation_0-rmse:7.49664\n",
      "[1000]\tvalidation_0-rmse:0.72709\n",
      "[2000]\tvalidation_0-rmse:0.72355\n",
      "[3000]\tvalidation_0-rmse:0.72242\n",
      "[4000]\tvalidation_0-rmse:0.72187\n",
      "[5000]\tvalidation_0-rmse:0.72165\n",
      "[5916]\tvalidation_0-rmse:0.72161\n",
      "[0]\tvalidation_0-rmse:7.49946\n",
      "[1000]\tvalidation_0-rmse:0.72359\n",
      "[2000]\tvalidation_0-rmse:0.72023\n",
      "[3000]\tvalidation_0-rmse:0.71909\n",
      "[4000]\tvalidation_0-rmse:0.71856\n",
      "[4897]\tvalidation_0-rmse:0.71842\n"
     ]
    },
    {
     "name": "stderr",
     "output_type": "stream",
     "text": [
      "\u001b[32m[I 2021-08-31 05:39:00,067]\u001b[0m Trial 27 finished with value: 0.7195630760691211 and parameters: {'learning_rate': 0.03649699517107535, 'reg_lambda': 0.0002515021015669578, 'reg_alpha': 7.156373010115437, 'subsample': 0.37707247818095185, 'colsample_bytree': 0.11838350113010812, 'max_depth': 3}. Best is trial 26 with value: 0.7192284250778599.\u001b[0m\n"
     ]
    },
    {
     "name": "stdout",
     "output_type": "stream",
     "text": [
      "[0]\tvalidation_0-rmse:7.54188\n",
      "[1000]\tvalidation_0-rmse:0.72645\n",
      "[2000]\tvalidation_0-rmse:0.72223\n",
      "[3000]\tvalidation_0-rmse:0.72055\n",
      "[4000]\tvalidation_0-rmse:0.71966\n",
      "[5000]\tvalidation_0-rmse:0.71918\n",
      "[6000]\tvalidation_0-rmse:0.71893\n",
      "[7000]\tvalidation_0-rmse:0.71883\n",
      "[7841]\tvalidation_0-rmse:0.71882\n",
      "[0]\tvalidation_0-rmse:7.54444\n",
      "[1000]\tvalidation_0-rmse:0.72889\n",
      "[2000]\tvalidation_0-rmse:0.72493\n",
      "[3000]\tvalidation_0-rmse:0.72333\n",
      "[4000]\tvalidation_0-rmse:0.72253\n",
      "[5000]\tvalidation_0-rmse:0.72211\n",
      "[6000]\tvalidation_0-rmse:0.72186\n",
      "[7000]\tvalidation_0-rmse:0.72169\n",
      "[7666]\tvalidation_0-rmse:0.72164\n",
      "[0]\tvalidation_0-rmse:7.54727\n",
      "[1000]\tvalidation_0-rmse:0.72528\n",
      "[2000]\tvalidation_0-rmse:0.72148\n",
      "[3000]\tvalidation_0-rmse:0.71987\n",
      "[4000]\tvalidation_0-rmse:0.71912\n",
      "[5000]\tvalidation_0-rmse:0.71875\n",
      "[6000]\tvalidation_0-rmse:0.71858\n",
      "[7000]\tvalidation_0-rmse:0.71845\n",
      "[7955]\tvalidation_0-rmse:0.71836\n"
     ]
    },
    {
     "name": "stderr",
     "output_type": "stream",
     "text": [
      "\u001b[32m[I 2021-08-31 05:40:13,974]\u001b[0m Trial 28 finished with value: 0.7195822206822885 and parameters: {'learning_rate': 0.030284790578610308, 'reg_lambda': 0.00014532889870958493, 'reg_alpha': 11.981338451240271, 'subsample': 0.2956413281200317, 'colsample_bytree': 0.10100698223714759, 'max_depth': 3}. Best is trial 26 with value: 0.7192284250778599.\u001b[0m\n"
     ]
    },
    {
     "name": "stdout",
     "output_type": "stream",
     "text": [
      "[0]\tvalidation_0-rmse:7.50495\n",
      "[967]\tvalidation_0-rmse:0.72342\n",
      "[0]\tvalidation_0-rmse:7.50757\n",
      "[993]\tvalidation_0-rmse:0.72606\n",
      "[0]\tvalidation_0-rmse:7.51035\n",
      "[889]\tvalidation_0-rmse:0.72257\n"
     ]
    },
    {
     "name": "stderr",
     "output_type": "stream",
     "text": [
      "\u001b[32m[I 2021-08-31 05:40:47,365]\u001b[0m Trial 29 finished with value: 0.7236947713505733 and parameters: {'learning_rate': 0.03507415559855955, 'reg_lambda': 0.00012059190646626346, 'reg_alpha': 7.20735324129747e-05, 'subsample': 0.41334553872526314, 'colsample_bytree': 0.4305093871346338, 'max_depth': 7}. Best is trial 26 with value: 0.7192284250778599.\u001b[0m\n"
     ]
    },
    {
     "name": "stdout",
     "output_type": "stream",
     "text": [
      "[0]\tvalidation_0-rmse:7.30692\n",
      "[1000]\tvalidation_0-rmse:0.72138\n",
      "[2000]\tvalidation_0-rmse:0.71993\n",
      "[3000]\tvalidation_0-rmse:0.71978\n",
      "[3071]\tvalidation_0-rmse:0.71980\n",
      "[0]\tvalidation_0-rmse:7.30961\n",
      "[1000]\tvalidation_0-rmse:0.72433\n",
      "[2000]\tvalidation_0-rmse:0.72271\n",
      "[3000]\tvalidation_0-rmse:0.72250\n",
      "[3208]\tvalidation_0-rmse:0.72252\n",
      "[0]\tvalidation_0-rmse:7.31248\n",
      "[1000]\tvalidation_0-rmse:0.72075\n",
      "[2000]\tvalidation_0-rmse:0.71933\n",
      "[2863]\tvalidation_0-rmse:0.71925\n"
     ]
    },
    {
     "name": "stderr",
     "output_type": "stream",
     "text": [
      "\u001b[32m[I 2021-08-31 05:41:21,302]\u001b[0m Trial 30 finished with value: 0.7204648884154191 and parameters: {'learning_rate': 0.060788705541239295, 'reg_lambda': 0.00011799825766138658, 'reg_alpha': 17.300277654903955, 'subsample': 0.5255900992819706, 'colsample_bytree': 0.6246836440129988, 'max_depth': 3}. Best is trial 26 with value: 0.7192284250778599.\u001b[0m\n"
     ]
    },
    {
     "name": "stdout",
     "output_type": "stream",
     "text": [
      "[0]\tvalidation_0-rmse:7.46360\n",
      "[1000]\tvalidation_0-rmse:0.72298\n",
      "[2000]\tvalidation_0-rmse:0.72017\n",
      "[3000]\tvalidation_0-rmse:0.71920\n",
      "[4000]\tvalidation_0-rmse:0.71893\n",
      "[4308]\tvalidation_0-rmse:0.71894\n",
      "[0]\tvalidation_0-rmse:7.46616\n",
      "[1000]\tvalidation_0-rmse:0.72571\n",
      "[2000]\tvalidation_0-rmse:0.72304\n",
      "[3000]\tvalidation_0-rmse:0.72215\n",
      "[4000]\tvalidation_0-rmse:0.72193\n",
      "[4759]\tvalidation_0-rmse:0.72193\n",
      "[0]\tvalidation_0-rmse:7.46895\n",
      "[1000]\tvalidation_0-rmse:0.72207\n",
      "[2000]\tvalidation_0-rmse:0.71947\n",
      "[3000]\tvalidation_0-rmse:0.71879\n",
      "[4000]\tvalidation_0-rmse:0.71856\n",
      "[4272]\tvalidation_0-rmse:0.71858\n"
     ]
    },
    {
     "name": "stderr",
     "output_type": "stream",
     "text": [
      "\u001b[32m[I 2021-08-31 05:42:07,285]\u001b[0m Trial 31 finished with value: 0.7197897240906062 and parameters: {'learning_rate': 0.04044888785955524, 'reg_lambda': 0.11915377149325149, 'reg_alpha': 1.191531776725012, 'subsample': 0.6535261565745879, 'colsample_bytree': 0.19014151646965832, 'max_depth': 3}. Best is trial 26 with value: 0.7192284250778599.\u001b[0m\n"
     ]
    },
    {
     "name": "stdout",
     "output_type": "stream",
     "text": [
      "[0]\tvalidation_0-rmse:7.36878\n",
      "[1000]\tvalidation_0-rmse:0.72057\n",
      "[2000]\tvalidation_0-rmse:0.71894\n",
      "[3000]\tvalidation_0-rmse:0.71867\n",
      "[3086]\tvalidation_0-rmse:0.71867\n",
      "[0]\tvalidation_0-rmse:7.37134\n",
      "[1000]\tvalidation_0-rmse:0.72315\n",
      "[2000]\tvalidation_0-rmse:0.72172\n",
      "[3000]\tvalidation_0-rmse:0.72155\n",
      "[3258]\tvalidation_0-rmse:0.72162\n",
      "[0]\tvalidation_0-rmse:7.37417\n",
      "[1000]\tvalidation_0-rmse:0.71986\n",
      "[2000]\tvalidation_0-rmse:0.71840\n",
      "[2539]\tvalidation_0-rmse:0.71832\n"
     ]
    },
    {
     "name": "stderr",
     "output_type": "stream",
     "text": [
      "\u001b[32m[I 2021-08-31 05:42:44,803]\u001b[0m Trial 32 finished with value: 0.7194965204602389 and parameters: {'learning_rate': 0.05276217537055463, 'reg_lambda': 0.0025705969118216747, 'reg_alpha': 3.554494682578111, 'subsample': 0.794064760139387, 'colsample_bytree': 0.10540386052219834, 'max_depth': 4}. Best is trial 26 with value: 0.7192284250778599.\u001b[0m\n"
     ]
    },
    {
     "name": "stdout",
     "output_type": "stream",
     "text": [
      "[0]\tvalidation_0-rmse:7.33910\n",
      "[1000]\tvalidation_0-rmse:0.72076\n",
      "[2000]\tvalidation_0-rmse:0.71881\n",
      "[3000]\tvalidation_0-rmse:0.71840\n",
      "[3197]\tvalidation_0-rmse:0.71841\n",
      "[0]\tvalidation_0-rmse:7.34165\n",
      "[1000]\tvalidation_0-rmse:0.72335\n",
      "[2000]\tvalidation_0-rmse:0.72170\n",
      "[3000]\tvalidation_0-rmse:0.72138\n",
      "[3489]\tvalidation_0-rmse:0.72139\n",
      "[0]\tvalidation_0-rmse:7.34448\n",
      "[1000]\tvalidation_0-rmse:0.71992\n",
      "[2000]\tvalidation_0-rmse:0.71832\n",
      "[3000]\tvalidation_0-rmse:0.71802\n",
      "[3476]\tvalidation_0-rmse:0.71803\n"
     ]
    },
    {
     "name": "stderr",
     "output_type": "stream",
     "text": [
      "\u001b[32m[I 2021-08-31 05:43:26,784]\u001b[0m Trial 33 finished with value: 0.7192402605553863 and parameters: {'learning_rate': 0.0566159263306735, 'reg_lambda': 0.0018262451281314837, 'reg_alpha': 21.290482924499834, 'subsample': 0.8052820013507331, 'colsample_bytree': 0.10038390347387045, 'max_depth': 4}. Best is trial 26 with value: 0.7192284250778599.\u001b[0m\n"
     ]
    },
    {
     "name": "stdout",
     "output_type": "stream",
     "text": [
      "[0]\tvalidation_0-rmse:7.33829\n",
      "[1000]\tvalidation_0-rmse:0.72053\n",
      "[2000]\tvalidation_0-rmse:0.71973\n",
      "[2648]\tvalidation_0-rmse:0.71967\n",
      "[0]\tvalidation_0-rmse:7.34085\n",
      "[1000]\tvalidation_0-rmse:0.72327\n",
      "[2000]\tvalidation_0-rmse:0.72234\n",
      "[2839]\tvalidation_0-rmse:0.72232\n",
      "[0]\tvalidation_0-rmse:7.34368\n",
      "[1000]\tvalidation_0-rmse:0.71990\n",
      "[2000]\tvalidation_0-rmse:0.71910\n",
      "[2298]\tvalidation_0-rmse:0.71915\n"
     ]
    },
    {
     "name": "stderr",
     "output_type": "stream",
     "text": [
      "\u001b[32m[I 2021-08-31 05:44:09,343]\u001b[0m Trial 34 finished with value: 0.7203392377652643 and parameters: {'learning_rate': 0.05672282962674744, 'reg_lambda': 0.0023725938899929414, 'reg_alpha': 74.10643522950629, 'subsample': 0.8037808006319314, 'colsample_bytree': 0.2249001906619858, 'max_depth': 5}. Best is trial 26 with value: 0.7192284250778599.\u001b[0m\n"
     ]
    },
    {
     "name": "stdout",
     "output_type": "stream",
     "text": [
      "[0]\tvalidation_0-rmse:7.20887\n",
      "[1000]\tvalidation_0-rmse:0.72020\n",
      "[2000]\tvalidation_0-rmse:0.71869\n",
      "[3000]\tvalidation_0-rmse:0.71845\n",
      "[3084]\tvalidation_0-rmse:0.71846\n",
      "[0]\tvalidation_0-rmse:7.21147\n",
      "[1000]\tvalidation_0-rmse:0.72282\n",
      "[2000]\tvalidation_0-rmse:0.72157\n",
      "[3000]\tvalidation_0-rmse:0.72140\n",
      "[3063]\tvalidation_0-rmse:0.72143\n",
      "[0]\tvalidation_0-rmse:7.21438\n",
      "[1000]\tvalidation_0-rmse:0.71958\n",
      "[2000]\tvalidation_0-rmse:0.71838\n",
      "[3000]\tvalidation_0-rmse:0.71823\n",
      "[3121]\tvalidation_0-rmse:0.71823\n"
     ]
    },
    {
     "name": "stderr",
     "output_type": "stream",
     "text": [
      "\u001b[32m[I 2021-08-31 05:44:48,510]\u001b[0m Trial 35 finished with value: 0.7193457408223037 and parameters: {'learning_rate': 0.07351841731181605, 'reg_lambda': 0.0013352190331079635, 'reg_alpha': 35.1218925929739, 'subsample': 0.7507414404619854, 'colsample_bytree': 0.1007341258706884, 'max_depth': 4}. Best is trial 26 with value: 0.7192284250778599.\u001b[0m\n"
     ]
    },
    {
     "name": "stdout",
     "output_type": "stream",
     "text": [
      "[0]\tvalidation_0-rmse:7.21140\n",
      "[1000]\tvalidation_0-rmse:0.72019\n",
      "[1903]\tvalidation_0-rmse:0.71986\n",
      "[0]\tvalidation_0-rmse:7.21401\n",
      "[1000]\tvalidation_0-rmse:0.72306\n",
      "[1842]\tvalidation_0-rmse:0.72261\n",
      "[0]\tvalidation_0-rmse:7.21692\n",
      "[1000]\tvalidation_0-rmse:0.71948\n",
      "[1849]\tvalidation_0-rmse:0.71920\n"
     ]
    },
    {
     "name": "stderr",
     "output_type": "stream",
     "text": [
      "\u001b[32m[I 2021-08-31 05:45:15,706]\u001b[0m Trial 36 finished with value: 0.7204750599271766 and parameters: {'learning_rate': 0.07318781075464369, 'reg_lambda': 5.234241505661024e-06, 'reg_alpha': 38.233754125452535, 'subsample': 0.7391731721807482, 'colsample_bytree': 0.3836591227209364, 'max_depth': 4}. Best is trial 26 with value: 0.7192284250778599.\u001b[0m\n"
     ]
    },
    {
     "name": "stdout",
     "output_type": "stream",
     "text": [
      "[0]\tvalidation_0-rmse:7.56280\n",
      "[1000]\tvalidation_0-rmse:0.72505\n",
      "[2000]\tvalidation_0-rmse:0.72167\n",
      "[3000]\tvalidation_0-rmse:0.72042\n",
      "[4000]\tvalidation_0-rmse:0.71988\n",
      "[5000]\tvalidation_0-rmse:0.71961\n",
      "[6000]\tvalidation_0-rmse:0.71950\n",
      "[7000]\tvalidation_0-rmse:0.71941\n",
      "[7321]\tvalidation_0-rmse:0.71940\n",
      "[0]\tvalidation_0-rmse:7.56535\n",
      "[1000]\tvalidation_0-rmse:0.72752\n",
      "[2000]\tvalidation_0-rmse:0.72433\n",
      "[3000]\tvalidation_0-rmse:0.72319\n",
      "[4000]\tvalidation_0-rmse:0.72266\n",
      "[5000]\tvalidation_0-rmse:0.72241\n",
      "[6000]\tvalidation_0-rmse:0.72230\n",
      "[7000]\tvalidation_0-rmse:0.72223\n",
      "[8000]\tvalidation_0-rmse:0.72219\n",
      "[8927]\tvalidation_0-rmse:0.72217\n",
      "[0]\tvalidation_0-rmse:7.56809\n",
      "[1000]\tvalidation_0-rmse:0.72387\n",
      "[2000]\tvalidation_0-rmse:0.72088\n",
      "[3000]\tvalidation_0-rmse:0.71980\n",
      "[4000]\tvalidation_0-rmse:0.71935\n",
      "[5000]\tvalidation_0-rmse:0.71913\n",
      "[6000]\tvalidation_0-rmse:0.71903\n",
      "[6933]\tvalidation_0-rmse:0.71900\n"
     ]
    },
    {
     "name": "stderr",
     "output_type": "stream",
     "text": [
      "\u001b[32m[I 2021-08-31 05:46:50,114]\u001b[0m Trial 37 finished with value: 0.7201880371804149 and parameters: {'learning_rate': 0.027578062609157655, 'reg_lambda': 5.36076951662263e-05, 'reg_alpha': 79.89774993914118, 'subsample': 0.8639624395227178, 'colsample_bytree': 0.19825791776100238, 'max_depth': 4}. Best is trial 26 with value: 0.7192284250778599.\u001b[0m\n"
     ]
    },
    {
     "name": "stdout",
     "output_type": "stream",
     "text": [
      "[0]\tvalidation_0-rmse:7.23012\n",
      "[1000]\tvalidation_0-rmse:0.71959\n",
      "[1285]\tvalidation_0-rmse:0.71970\n",
      "[0]\tvalidation_0-rmse:7.23271\n",
      "[1000]\tvalidation_0-rmse:0.72238\n",
      "[1257]\tvalidation_0-rmse:0.72244\n",
      "[0]\tvalidation_0-rmse:7.23565\n",
      "[1000]\tvalidation_0-rmse:0.71925\n",
      "[1316]\tvalidation_0-rmse:0.71937\n"
     ]
    },
    {
     "name": "stderr",
     "output_type": "stream",
     "text": [
      "\u001b[32m[I 2021-08-31 05:47:13,776]\u001b[0m Trial 38 finished with value: 0.7203838380129698 and parameters: {'learning_rate': 0.07075942831662552, 'reg_lambda': 0.0017862887929797216, 'reg_alpha': 23.652566632961246, 'subsample': 0.6124556754043823, 'colsample_bytree': 0.2662735634976603, 'max_depth': 5}. Best is trial 26 with value: 0.7192284250778599.\u001b[0m\n"
     ]
    },
    {
     "name": "stdout",
     "output_type": "stream",
     "text": [
      "[0]\tvalidation_0-rmse:7.16401\n",
      "[1000]\tvalidation_0-rmse:0.71978\n",
      "[1038]\tvalidation_0-rmse:0.71983\n",
      "[0]\tvalidation_0-rmse:7.16658\n",
      "[899]\tvalidation_0-rmse:0.72250\n",
      "[0]\tvalidation_0-rmse:7.16952\n",
      "[877]\tvalidation_0-rmse:0.71923\n"
     ]
    },
    {
     "name": "stderr",
     "output_type": "stream",
     "text": [
      "\u001b[32m[I 2021-08-31 05:47:36,369]\u001b[0m Trial 39 finished with value: 0.7203294120768043 and parameters: {'learning_rate': 0.0793438599751591, 'reg_lambda': 5.384918967798544e-06, 'reg_alpha': 1.6261657450662386, 'subsample': 0.7641645727159675, 'colsample_bytree': 0.1012758235351097, 'max_depth': 6}. Best is trial 26 with value: 0.7192284250778599.\u001b[0m\n"
     ]
    },
    {
     "name": "stdout",
     "output_type": "stream",
     "text": [
      "[0]\tvalidation_0-rmse:7.07071\n",
      "[1000]\tvalidation_0-rmse:0.72052\n",
      "[1090]\tvalidation_0-rmse:0.72059\n",
      "[0]\tvalidation_0-rmse:7.07350\n",
      "[1000]\tvalidation_0-rmse:0.72329\n",
      "[1160]\tvalidation_0-rmse:0.72336\n",
      "[0]\tvalidation_0-rmse:7.07644\n",
      "[1000]\tvalidation_0-rmse:0.71974\n",
      "[1165]\tvalidation_0-rmse:0.71983\n"
     ]
    },
    {
     "name": "stderr",
     "output_type": "stream",
     "text": [
      "\u001b[32m[I 2021-08-31 05:47:54,586]\u001b[0m Trial 40 finished with value: 0.7211035523893964 and parameters: {'learning_rate': 0.09145051418452575, 'reg_lambda': 0.019511545512618144, 'reg_alpha': 0.31733783221020584, 'subsample': 0.47643603455171524, 'colsample_bytree': 0.16585944053137852, 'max_depth': 4}. Best is trial 26 with value: 0.7192284250778599.\u001b[0m\n"
     ]
    },
    {
     "name": "stdout",
     "output_type": "stream",
     "text": [
      "[0]\tvalidation_0-rmse:7.38637\n",
      "[1000]\tvalidation_0-rmse:0.72308\n",
      "[2000]\tvalidation_0-rmse:0.72071\n",
      "[3000]\tvalidation_0-rmse:0.71988\n",
      "[4000]\tvalidation_0-rmse:0.71952\n",
      "[5000]\tvalidation_0-rmse:0.71932\n",
      "[6000]\tvalidation_0-rmse:0.71922\n",
      "[7000]\tvalidation_0-rmse:0.71913\n",
      "[8000]\tvalidation_0-rmse:0.71911\n",
      "[8497]\tvalidation_0-rmse:0.71907\n",
      "[0]\tvalidation_0-rmse:7.38893\n",
      "[1000]\tvalidation_0-rmse:0.72560\n",
      "[2000]\tvalidation_0-rmse:0.72336\n",
      "[3000]\tvalidation_0-rmse:0.72262\n",
      "[4000]\tvalidation_0-rmse:0.72231\n",
      "[5000]\tvalidation_0-rmse:0.72210\n",
      "[6000]\tvalidation_0-rmse:0.72197\n",
      "[7000]\tvalidation_0-rmse:0.72191\n",
      "[8000]\tvalidation_0-rmse:0.72188\n",
      "[8037]\tvalidation_0-rmse:0.72188\n",
      "[0]\tvalidation_0-rmse:7.39175\n",
      "[1000]\tvalidation_0-rmse:0.72211\n",
      "[2000]\tvalidation_0-rmse:0.72000\n",
      "[3000]\tvalidation_0-rmse:0.71932\n",
      "[4000]\tvalidation_0-rmse:0.71904\n",
      "[5000]\tvalidation_0-rmse:0.71891\n",
      "[6000]\tvalidation_0-rmse:0.71880\n",
      "[6282]\tvalidation_0-rmse:0.71881\n"
     ]
    },
    {
     "name": "stderr",
     "output_type": "stream",
     "text": [
      "\u001b[32m[I 2021-08-31 05:49:22,726]\u001b[0m Trial 41 finished with value: 0.7199155662037482 and parameters: {'learning_rate': 0.05048150041953624, 'reg_lambda': 0.0018292940769687144, 'reg_alpha': 89.43612470375345, 'subsample': 0.793559185237658, 'colsample_bytree': 0.10887992731078583, 'max_depth': 4}. Best is trial 26 with value: 0.7192284250778599.\u001b[0m\n"
     ]
    },
    {
     "name": "stdout",
     "output_type": "stream",
     "text": [
      "[0]\tvalidation_0-rmse:7.27082\n",
      "[1000]\tvalidation_0-rmse:0.72030\n",
      "[1697]\tvalidation_0-rmse:0.72006\n",
      "[0]\tvalidation_0-rmse:7.27339\n",
      "[1000]\tvalidation_0-rmse:0.72283\n",
      "[1605]\tvalidation_0-rmse:0.72260\n",
      "[0]\tvalidation_0-rmse:7.27623\n",
      "[1000]\tvalidation_0-rmse:0.71946\n",
      "[1821]\tvalidation_0-rmse:0.71937\n"
     ]
    },
    {
     "name": "stderr",
     "output_type": "stream",
     "text": [
      "\u001b[32m[I 2021-08-31 05:49:47,521]\u001b[0m Trial 42 finished with value: 0.7205709142263891 and parameters: {'learning_rate': 0.06546896574667557, 'reg_lambda': 0.0003383195130106596, 'reg_alpha': 0.042423994266483994, 'subsample': 0.7199392010069449, 'colsample_bytree': 0.20430947785060755, 'max_depth': 4}. Best is trial 26 with value: 0.7192284250778599.\u001b[0m\n"
     ]
    },
    {
     "name": "stdout",
     "output_type": "stream",
     "text": [
      "[0]\tvalidation_0-rmse:7.45594\n",
      "[1000]\tvalidation_0-rmse:0.71982\n",
      "[2000]\tvalidation_0-rmse:0.71884\n",
      "[2296]\tvalidation_0-rmse:0.71889\n",
      "[0]\tvalidation_0-rmse:7.45847\n",
      "[1000]\tvalidation_0-rmse:0.72259\n",
      "[2000]\tvalidation_0-rmse:0.72171\n",
      "[2275]\tvalidation_0-rmse:0.72177\n",
      "[0]\tvalidation_0-rmse:7.46124\n",
      "[1000]\tvalidation_0-rmse:0.71916\n",
      "[1989]\tvalidation_0-rmse:0.71846\n"
     ]
    },
    {
     "name": "stderr",
     "output_type": "stream",
     "text": [
      "\u001b[32m[I 2021-08-31 05:50:24,106]\u001b[0m Trial 43 finished with value: 0.7196599001906373 and parameters: {'learning_rate': 0.04145042349855612, 'reg_lambda': 0.11573737973256536, 'reg_alpha': 7.782166675047367, 'subsample': 0.789773820994038, 'colsample_bytree': 0.1565194252016689, 'max_depth': 5}. Best is trial 26 with value: 0.7192284250778599.\u001b[0m\n"
     ]
    },
    {
     "name": "stdout",
     "output_type": "stream",
     "text": [
      "[0]\tvalidation_0-rmse:7.36409\n",
      "[1000]\tvalidation_0-rmse:0.72105\n",
      "[1892]\tvalidation_0-rmse:0.72065\n",
      "[0]\tvalidation_0-rmse:7.36668\n",
      "[1000]\tvalidation_0-rmse:0.72394\n",
      "[1924]\tvalidation_0-rmse:0.72362\n",
      "[0]\tvalidation_0-rmse:7.36945\n",
      "[1000]\tvalidation_0-rmse:0.72044\n",
      "[1751]\tvalidation_0-rmse:0.72009\n"
     ]
    },
    {
     "name": "stderr",
     "output_type": "stream",
     "text": [
      "\u001b[32m[I 2021-08-31 05:50:51,662]\u001b[0m Trial 44 finished with value: 0.721372746274473 and parameters: {'learning_rate': 0.053363815983954885, 'reg_lambda': 0.004616338458939698, 'reg_alpha': 2.4546029141459225, 'subsample': 0.8563104323138477, 'colsample_bytree': 0.9611163662249008, 'max_depth': 4}. Best is trial 26 with value: 0.7192284250778599.\u001b[0m\n"
     ]
    },
    {
     "name": "stdout",
     "output_type": "stream",
     "text": [
      "[0]\tvalidation_0-rmse:7.49993\n",
      "[1000]\tvalidation_0-rmse:0.72524\n",
      "[2000]\tvalidation_0-rmse:0.72140\n",
      "[3000]\tvalidation_0-rmse:0.71984\n",
      "[4000]\tvalidation_0-rmse:0.71912\n",
      "[5000]\tvalidation_0-rmse:0.71873\n",
      "[6000]\tvalidation_0-rmse:0.71854\n",
      "[7000]\tvalidation_0-rmse:0.71842\n",
      "[7156]\tvalidation_0-rmse:0.71842\n",
      "[0]\tvalidation_0-rmse:7.50249\n",
      "[1000]\tvalidation_0-rmse:0.72778\n",
      "[2000]\tvalidation_0-rmse:0.72412\n",
      "[3000]\tvalidation_0-rmse:0.72274\n",
      "[4000]\tvalidation_0-rmse:0.72206\n",
      "[5000]\tvalidation_0-rmse:0.72170\n",
      "[6000]\tvalidation_0-rmse:0.72154\n",
      "[7000]\tvalidation_0-rmse:0.72140\n",
      "[7648]\tvalidation_0-rmse:0.72137\n",
      "[0]\tvalidation_0-rmse:7.50528\n",
      "[1000]\tvalidation_0-rmse:0.72411\n",
      "[2000]\tvalidation_0-rmse:0.72064\n",
      "[3000]\tvalidation_0-rmse:0.71931\n",
      "[4000]\tvalidation_0-rmse:0.71868\n",
      "[5000]\tvalidation_0-rmse:0.71838\n",
      "[6000]\tvalidation_0-rmse:0.71822\n",
      "[6953]\tvalidation_0-rmse:0.71816\n"
     ]
    },
    {
     "name": "stderr",
     "output_type": "stream",
     "text": [
      "\u001b[32m[I 2021-08-31 05:52:04,088]\u001b[0m Trial 45 finished with value: 0.7193136435362834 and parameters: {'learning_rate': 0.035735319690284255, 'reg_lambda': 3.985939259845414e-05, 'reg_alpha': 28.980653930820857, 'subsample': 0.6240677693814757, 'colsample_bytree': 0.10722655003874325, 'max_depth': 3}. Best is trial 26 with value: 0.7192284250778599.\u001b[0m\n"
     ]
    },
    {
     "name": "stdout",
     "output_type": "stream",
     "text": [
      "[0]\tvalidation_0-rmse:7.57082\n",
      "[1000]\tvalidation_0-rmse:0.72567\n",
      "[2000]\tvalidation_0-rmse:0.72208\n",
      "[3000]\tvalidation_0-rmse:0.72077\n",
      "[4000]\tvalidation_0-rmse:0.72019\n",
      "[5000]\tvalidation_0-rmse:0.71994\n",
      "[6000]\tvalidation_0-rmse:0.71982\n",
      "[6197]\tvalidation_0-rmse:0.71983\n",
      "[0]\tvalidation_0-rmse:7.57339\n",
      "[1000]\tvalidation_0-rmse:0.72826\n",
      "[2000]\tvalidation_0-rmse:0.72478\n",
      "[3000]\tvalidation_0-rmse:0.72346\n",
      "[4000]\tvalidation_0-rmse:0.72287\n",
      "[5000]\tvalidation_0-rmse:0.72262\n",
      "[6000]\tvalidation_0-rmse:0.72252\n",
      "[6270]\tvalidation_0-rmse:0.72252\n",
      "[0]\tvalidation_0-rmse:7.57614\n",
      "[1000]\tvalidation_0-rmse:0.72470\n",
      "[2000]\tvalidation_0-rmse:0.72138\n",
      "[3000]\tvalidation_0-rmse:0.72016\n",
      "[4000]\tvalidation_0-rmse:0.71960\n",
      "[5000]\tvalidation_0-rmse:0.71935\n",
      "[6000]\tvalidation_0-rmse:0.71926\n",
      "[6923]\tvalidation_0-rmse:0.71924\n"
     ]
    },
    {
     "name": "stderr",
     "output_type": "stream",
     "text": [
      "\u001b[32m[I 2021-08-31 05:53:10,291]\u001b[0m Trial 46 finished with value: 0.7205155249062086 and parameters: {'learning_rate': 0.02653632415528386, 'reg_lambda': 4.986653017532121e-05, 'reg_alpha': 22.489852911956362, 'subsample': 0.5532966918915007, 'colsample_bytree': 0.8415839347045778, 'max_depth': 3}. Best is trial 26 with value: 0.7192284250778599.\u001b[0m\n"
     ]
    },
    {
     "name": "stdout",
     "output_type": "stream",
     "text": [
      "[0]\tvalidation_0-rmse:7.48434\n",
      "[1000]\tvalidation_0-rmse:0.72842\n",
      "[2000]\tvalidation_0-rmse:0.72451\n",
      "[3000]\tvalidation_0-rmse:0.72223\n",
      "[4000]\tvalidation_0-rmse:0.72088\n",
      "[5000]\tvalidation_0-rmse:0.72008\n",
      "[6000]\tvalidation_0-rmse:0.71957\n",
      "[7000]\tvalidation_0-rmse:0.71919\n",
      "[8000]\tvalidation_0-rmse:0.71895\n",
      "[9000]\tvalidation_0-rmse:0.71875\n",
      "[10000]\tvalidation_0-rmse:0.71861\n",
      "[11000]\tvalidation_0-rmse:0.71852\n",
      "[11911]\tvalidation_0-rmse:0.71846\n",
      "[0]\tvalidation_0-rmse:7.48690\n",
      "[1000]\tvalidation_0-rmse:0.73077\n",
      "[2000]\tvalidation_0-rmse:0.72700\n",
      "[3000]\tvalidation_0-rmse:0.72495\n",
      "[4000]\tvalidation_0-rmse:0.72368\n",
      "[5000]\tvalidation_0-rmse:0.72292\n",
      "[6000]\tvalidation_0-rmse:0.72244\n",
      "[7000]\tvalidation_0-rmse:0.72208\n",
      "[8000]\tvalidation_0-rmse:0.72185\n",
      "[9000]\tvalidation_0-rmse:0.72169\n",
      "[10000]\tvalidation_0-rmse:0.72160\n",
      "[10925]\tvalidation_0-rmse:0.72156\n",
      "[0]\tvalidation_0-rmse:7.48969\n",
      "[1000]\tvalidation_0-rmse:0.72719\n",
      "[2000]\tvalidation_0-rmse:0.72368\n",
      "[3000]\tvalidation_0-rmse:0.72154\n",
      "[4000]\tvalidation_0-rmse:0.72029\n",
      "[5000]\tvalidation_0-rmse:0.71954\n",
      "[6000]\tvalidation_0-rmse:0.71911\n",
      "[7000]\tvalidation_0-rmse:0.71880\n",
      "[8000]\tvalidation_0-rmse:0.71859\n",
      "[9000]\tvalidation_0-rmse:0.71845\n",
      "[10000]\tvalidation_0-rmse:0.71835\n",
      "[10468]\tvalidation_0-rmse:0.71835\n"
     ]
    },
    {
     "name": "stderr",
     "output_type": "stream",
     "text": [
      "\u001b[32m[I 2021-08-31 05:54:44,397]\u001b[0m Trial 47 finished with value: 0.7194493997462391 and parameters: {'learning_rate': 0.03775990624568357, 'reg_lambda': 2.1855083410130305e-06, 'reg_alpha': 26.177719349674714, 'subsample': 0.6356533254796262, 'colsample_bytree': 0.1487727637721053, 'max_depth': 2}. Best is trial 26 with value: 0.7192284250778599.\u001b[0m\n"
     ]
    },
    {
     "name": "stdout",
     "output_type": "stream",
     "text": [
      "[0]\tvalidation_0-rmse:7.51999\n",
      "[1000]\tvalidation_0-rmse:0.72998\n",
      "[2000]\tvalidation_0-rmse:0.72633\n",
      "[3000]\tvalidation_0-rmse:0.72428\n",
      "[4000]\tvalidation_0-rmse:0.72300\n",
      "[5000]\tvalidation_0-rmse:0.72218\n",
      "[6000]\tvalidation_0-rmse:0.72162\n",
      "[7000]\tvalidation_0-rmse:0.72118\n",
      "[8000]\tvalidation_0-rmse:0.72088\n",
      "[9000]\tvalidation_0-rmse:0.72064\n",
      "[10000]\tvalidation_0-rmse:0.72045\n",
      "[11000]\tvalidation_0-rmse:0.72026\n",
      "[12000]\tvalidation_0-rmse:0.72009\n",
      "[13000]\tvalidation_0-rmse:0.71997\n",
      "[14000]\tvalidation_0-rmse:0.71985\n",
      "[15000]\tvalidation_0-rmse:0.71975\n",
      "[16000]\tvalidation_0-rmse:0.71965\n",
      "[17000]\tvalidation_0-rmse:0.71957\n",
      "[18000]\tvalidation_0-rmse:0.71951\n",
      "[19000]\tvalidation_0-rmse:0.71943\n",
      "[20000]\tvalidation_0-rmse:0.71937\n",
      "[21000]\tvalidation_0-rmse:0.71930\n",
      "[22000]\tvalidation_0-rmse:0.71925\n",
      "[23000]\tvalidation_0-rmse:0.71920\n",
      "[24000]\tvalidation_0-rmse:0.71915\n",
      "[24999]\tvalidation_0-rmse:0.71909\n",
      "[0]\tvalidation_0-rmse:7.52254\n",
      "[1000]\tvalidation_0-rmse:0.73239\n",
      "[2000]\tvalidation_0-rmse:0.72881\n",
      "[3000]\tvalidation_0-rmse:0.72690\n",
      "[4000]\tvalidation_0-rmse:0.72567\n",
      "[5000]\tvalidation_0-rmse:0.72491\n",
      "[6000]\tvalidation_0-rmse:0.72437\n",
      "[7000]\tvalidation_0-rmse:0.72398\n",
      "[8000]\tvalidation_0-rmse:0.72368\n",
      "[9000]\tvalidation_0-rmse:0.72343\n",
      "[10000]\tvalidation_0-rmse:0.72325\n",
      "[11000]\tvalidation_0-rmse:0.72307\n",
      "[12000]\tvalidation_0-rmse:0.72293\n",
      "[13000]\tvalidation_0-rmse:0.72281\n",
      "[14000]\tvalidation_0-rmse:0.72269\n",
      "[15000]\tvalidation_0-rmse:0.72258\n",
      "[16000]\tvalidation_0-rmse:0.72252\n",
      "[17000]\tvalidation_0-rmse:0.72244\n",
      "[18000]\tvalidation_0-rmse:0.72237\n",
      "[19000]\tvalidation_0-rmse:0.72230\n",
      "[20000]\tvalidation_0-rmse:0.72224\n",
      "[21000]\tvalidation_0-rmse:0.72219\n",
      "[22000]\tvalidation_0-rmse:0.72213\n",
      "[23000]\tvalidation_0-rmse:0.72209\n",
      "[24000]\tvalidation_0-rmse:0.72204\n",
      "[24999]\tvalidation_0-rmse:0.72199\n",
      "[0]\tvalidation_0-rmse:7.52533\n",
      "[1000]\tvalidation_0-rmse:0.72862\n",
      "[2000]\tvalidation_0-rmse:0.72529\n",
      "[3000]\tvalidation_0-rmse:0.72344\n",
      "[4000]\tvalidation_0-rmse:0.72223\n",
      "[5000]\tvalidation_0-rmse:0.72147\n",
      "[6000]\tvalidation_0-rmse:0.72094\n",
      "[7000]\tvalidation_0-rmse:0.72055\n",
      "[8000]\tvalidation_0-rmse:0.72025\n",
      "[9000]\tvalidation_0-rmse:0.72003\n",
      "[10000]\tvalidation_0-rmse:0.71984\n",
      "[11000]\tvalidation_0-rmse:0.71969\n",
      "[12000]\tvalidation_0-rmse:0.71957\n",
      "[13000]\tvalidation_0-rmse:0.71946\n",
      "[14000]\tvalidation_0-rmse:0.71936\n",
      "[15000]\tvalidation_0-rmse:0.71929\n",
      "[16000]\tvalidation_0-rmse:0.71920\n",
      "[17000]\tvalidation_0-rmse:0.71913\n",
      "[18000]\tvalidation_0-rmse:0.71908\n",
      "[18960]\tvalidation_0-rmse:0.71903\n"
     ]
    },
    {
     "name": "stderr",
     "output_type": "stream",
     "text": [
      "\u001b[32m[I 2021-08-31 05:57:56,582]\u001b[0m Trial 48 finished with value: 0.7200378218263405 and parameters: {'learning_rate': 0.033134488280189923, 'reg_lambda': 1.306989299252823e-06, 'reg_alpha': 86.70921623476663, 'subsample': 0.6200498722712539, 'colsample_bytree': 0.14657149373517558, 'max_depth': 2}. Best is trial 26 with value: 0.7192284250778599.\u001b[0m\n"
     ]
    },
    {
     "name": "stdout",
     "output_type": "stream",
     "text": [
      "[0]\tvalidation_0-rmse:7.63532\n",
      "[1000]\tvalidation_0-rmse:0.73186\n",
      "[2000]\tvalidation_0-rmse:0.72798\n",
      "[3000]\tvalidation_0-rmse:0.72562\n",
      "[4000]\tvalidation_0-rmse:0.72390\n",
      "[5000]\tvalidation_0-rmse:0.72273\n",
      "[6000]\tvalidation_0-rmse:0.72191\n",
      "[7000]\tvalidation_0-rmse:0.72128\n",
      "[8000]\tvalidation_0-rmse:0.72085\n",
      "[9000]\tvalidation_0-rmse:0.72050\n",
      "[10000]\tvalidation_0-rmse:0.72022\n",
      "[11000]\tvalidation_0-rmse:0.72001\n",
      "[12000]\tvalidation_0-rmse:0.71984\n",
      "[13000]\tvalidation_0-rmse:0.71968\n",
      "[14000]\tvalidation_0-rmse:0.71956\n",
      "[15000]\tvalidation_0-rmse:0.71947\n",
      "[16000]\tvalidation_0-rmse:0.71936\n",
      "[17000]\tvalidation_0-rmse:0.71929\n",
      "[17995]\tvalidation_0-rmse:0.71925\n",
      "[0]\tvalidation_0-rmse:7.63787\n",
      "[1000]\tvalidation_0-rmse:0.73425\n",
      "[2000]\tvalidation_0-rmse:0.73045\n",
      "[3000]\tvalidation_0-rmse:0.72815\n",
      "[4000]\tvalidation_0-rmse:0.72658\n",
      "[5000]\tvalidation_0-rmse:0.72542\n",
      "[6000]\tvalidation_0-rmse:0.72462\n",
      "[7000]\tvalidation_0-rmse:0.72402\n",
      "[8000]\tvalidation_0-rmse:0.72359\n",
      "[9000]\tvalidation_0-rmse:0.72324\n",
      "[10000]\tvalidation_0-rmse:0.72297\n",
      "[11000]\tvalidation_0-rmse:0.72275\n",
      "[12000]\tvalidation_0-rmse:0.72257\n",
      "[13000]\tvalidation_0-rmse:0.72244\n",
      "[14000]\tvalidation_0-rmse:0.72232\n",
      "[15000]\tvalidation_0-rmse:0.72224\n",
      "[16000]\tvalidation_0-rmse:0.72215\n",
      "[17000]\tvalidation_0-rmse:0.72207\n",
      "[18000]\tvalidation_0-rmse:0.72200\n",
      "[19000]\tvalidation_0-rmse:0.72194\n",
      "[20000]\tvalidation_0-rmse:0.72192\n",
      "[21000]\tvalidation_0-rmse:0.72187\n",
      "[21220]\tvalidation_0-rmse:0.72188\n",
      "[0]\tvalidation_0-rmse:7.64060\n",
      "[1000]\tvalidation_0-rmse:0.73038\n",
      "[2000]\tvalidation_0-rmse:0.72679\n",
      "[3000]\tvalidation_0-rmse:0.72463\n",
      "[4000]\tvalidation_0-rmse:0.72312\n",
      "[5000]\tvalidation_0-rmse:0.72206\n",
      "[6000]\tvalidation_0-rmse:0.72125\n",
      "[7000]\tvalidation_0-rmse:0.72065\n",
      "[8000]\tvalidation_0-rmse:0.72023\n",
      "[9000]\tvalidation_0-rmse:0.71991\n",
      "[10000]\tvalidation_0-rmse:0.71967\n",
      "[11000]\tvalidation_0-rmse:0.71947\n",
      "[12000]\tvalidation_0-rmse:0.71932\n",
      "[13000]\tvalidation_0-rmse:0.71921\n",
      "[14000]\tvalidation_0-rmse:0.71910\n",
      "[15000]\tvalidation_0-rmse:0.71903\n",
      "[15819]\tvalidation_0-rmse:0.71897\n"
     ]
    },
    {
     "name": "stderr",
     "output_type": "stream",
     "text": [
      "\u001b[32m[I 2021-08-31 06:00:28,975]\u001b[0m Trial 49 finished with value: 0.7200293230333195 and parameters: {'learning_rate': 0.018166105853857095, 'reg_lambda': 2.10084970374361e-06, 'reg_alpha': 35.656958161719686, 'subsample': 0.5611104960378807, 'colsample_bytree': 0.35778673704657815, 'max_depth': 2}. Best is trial 26 with value: 0.7192284250778599.\u001b[0m\n"
     ]
    },
    {
     "name": "stdout",
     "output_type": "stream",
     "text": [
      "[0]\tvalidation_0-rmse:7.48184\n",
      "[1000]\tvalidation_0-rmse:0.72745\n",
      "[2000]\tvalidation_0-rmse:0.72370\n",
      "[3000]\tvalidation_0-rmse:0.72165\n",
      "[4000]\tvalidation_0-rmse:0.72050\n",
      "[5000]\tvalidation_0-rmse:0.71982\n",
      "[6000]\tvalidation_0-rmse:0.71943\n",
      "[7000]\tvalidation_0-rmse:0.71918\n",
      "[8000]\tvalidation_0-rmse:0.71904\n",
      "[9000]\tvalidation_0-rmse:0.71894\n",
      "[9289]\tvalidation_0-rmse:0.71894\n",
      "[0]\tvalidation_0-rmse:7.48440\n",
      "[1000]\tvalidation_0-rmse:0.72991\n",
      "[2000]\tvalidation_0-rmse:0.72633\n",
      "[3000]\tvalidation_0-rmse:0.72450\n",
      "[4000]\tvalidation_0-rmse:0.72343\n",
      "[5000]\tvalidation_0-rmse:0.72279\n",
      "[6000]\tvalidation_0-rmse:0.72240\n",
      "[7000]\tvalidation_0-rmse:0.72221\n",
      "[8000]\tvalidation_0-rmse:0.72204\n",
      "[9000]\tvalidation_0-rmse:0.72194\n",
      "[9460]\tvalidation_0-rmse:0.72195\n",
      "[0]\tvalidation_0-rmse:7.48717\n",
      "[1000]\tvalidation_0-rmse:0.72631\n",
      "[2000]\tvalidation_0-rmse:0.72289\n",
      "[3000]\tvalidation_0-rmse:0.72100\n",
      "[4000]\tvalidation_0-rmse:0.71991\n",
      "[5000]\tvalidation_0-rmse:0.71927\n",
      "[6000]\tvalidation_0-rmse:0.71892\n",
      "[7000]\tvalidation_0-rmse:0.71872\n",
      "[7950]\tvalidation_0-rmse:0.71861\n"
     ]
    },
    {
     "name": "stderr",
     "output_type": "stream",
     "text": [
      "\u001b[32m[I 2021-08-31 06:01:44,914]\u001b[0m Trial 50 finished with value: 0.7198188618669795 and parameters: {'learning_rate': 0.03808153537449106, 'reg_lambda': 1.2258458886312154e-07, 'reg_alpha': 1.7721722465197813e-07, 'subsample': 0.6390000562558291, 'colsample_bytree': 0.21103012678577898, 'max_depth': 2}. Best is trial 26 with value: 0.7192284250778599.\u001b[0m\n"
     ]
    },
    {
     "name": "stdout",
     "output_type": "stream",
     "text": [
      "[0]\tvalidation_0-rmse:7.44305\n",
      "[1000]\tvalidation_0-rmse:0.72267\n",
      "[2000]\tvalidation_0-rmse:0.72006\n",
      "[3000]\tvalidation_0-rmse:0.71938\n",
      "[4000]\tvalidation_0-rmse:0.71924\n",
      "[4163]\tvalidation_0-rmse:0.71928\n",
      "[0]\tvalidation_0-rmse:7.44561\n",
      "[1000]\tvalidation_0-rmse:0.72556\n",
      "[2000]\tvalidation_0-rmse:0.72289\n",
      "[3000]\tvalidation_0-rmse:0.72221\n",
      "[4000]\tvalidation_0-rmse:0.72216\n",
      "[4021]\tvalidation_0-rmse:0.72216\n",
      "[0]\tvalidation_0-rmse:7.44841\n",
      "[1000]\tvalidation_0-rmse:0.72206\n",
      "[2000]\tvalidation_0-rmse:0.71953\n",
      "[3000]\tvalidation_0-rmse:0.71890\n",
      "[4000]\tvalidation_0-rmse:0.71880\n",
      "[4130]\tvalidation_0-rmse:0.71881\n"
     ]
    },
    {
     "name": "stderr",
     "output_type": "stream",
     "text": [
      "\u001b[32m[I 2021-08-31 06:02:28,909]\u001b[0m Trial 51 finished with value: 0.7200275117007142 and parameters: {'learning_rate': 0.043113463563590707, 'reg_lambda': 1.1096792277817691e-05, 'reg_alpha': 8.560080793266703, 'subsample': 0.7064521456025421, 'colsample_bytree': 0.4941135771082695, 'max_depth': 3}. Best is trial 26 with value: 0.7192284250778599.\u001b[0m\n"
     ]
    },
    {
     "name": "stdout",
     "output_type": "stream",
     "text": [
      "[0]\tvalidation_0-rmse:7.29720\n",
      "[1000]\tvalidation_0-rmse:0.72128\n",
      "[2000]\tvalidation_0-rmse:0.71951\n",
      "[3000]\tvalidation_0-rmse:0.71926\n",
      "[3509]\tvalidation_0-rmse:0.71925\n",
      "[0]\tvalidation_0-rmse:7.29990\n",
      "[1000]\tvalidation_0-rmse:0.72418\n",
      "[2000]\tvalidation_0-rmse:0.72240\n",
      "[2996]\tvalidation_0-rmse:0.72228\n",
      "[0]\tvalidation_0-rmse:7.30275\n",
      "[1000]\tvalidation_0-rmse:0.72058\n",
      "[2000]\tvalidation_0-rmse:0.71893\n",
      "[3000]\tvalidation_0-rmse:0.71870\n",
      "[3451]\tvalidation_0-rmse:0.71871\n"
     ]
    },
    {
     "name": "stderr",
     "output_type": "stream",
     "text": [
      "\u001b[32m[I 2021-08-31 06:03:04,370]\u001b[0m Trial 52 finished with value: 0.7200182663081051 and parameters: {'learning_rate': 0.06204771775528774, 'reg_lambda': 2.7359109196585002e-05, 'reg_alpha': 0.748789446123406, 'subsample': 0.5160848781828417, 'colsample_bytree': 0.13274178335225356, 'max_depth': 3}. Best is trial 26 with value: 0.7192284250778599.\u001b[0m\n"
     ]
    },
    {
     "name": "stdout",
     "output_type": "stream",
     "text": [
      "[0]\tvalidation_0-rmse:7.54602\n",
      "[1000]\tvalidation_0-rmse:0.72541\n",
      "[2000]\tvalidation_0-rmse:0.72160\n",
      "[3000]\tvalidation_0-rmse:0.72014\n",
      "[4000]\tvalidation_0-rmse:0.71939\n",
      "[5000]\tvalidation_0-rmse:0.71908\n",
      "[6000]\tvalidation_0-rmse:0.71892\n",
      "[6886]\tvalidation_0-rmse:0.71886\n",
      "[0]\tvalidation_0-rmse:7.54856\n",
      "[1000]\tvalidation_0-rmse:0.72800\n",
      "[2000]\tvalidation_0-rmse:0.72434\n",
      "[3000]\tvalidation_0-rmse:0.72296\n",
      "[4000]\tvalidation_0-rmse:0.72230\n",
      "[5000]\tvalidation_0-rmse:0.72197\n",
      "[6000]\tvalidation_0-rmse:0.72182\n",
      "[7000]\tvalidation_0-rmse:0.72172\n",
      "[7090]\tvalidation_0-rmse:0.72172\n",
      "[0]\tvalidation_0-rmse:7.55135\n",
      "[1000]\tvalidation_0-rmse:0.72442\n",
      "[2000]\tvalidation_0-rmse:0.72093\n",
      "[3000]\tvalidation_0-rmse:0.71956\n",
      "[4000]\tvalidation_0-rmse:0.71893\n",
      "[5000]\tvalidation_0-rmse:0.71866\n",
      "[6000]\tvalidation_0-rmse:0.71856\n",
      "[6524]\tvalidation_0-rmse:0.71853\n"
     ]
    },
    {
     "name": "stderr",
     "output_type": "stream",
     "text": [
      "\u001b[32m[I 2021-08-31 06:04:13,961]\u001b[0m Trial 53 finished with value: 0.7197000804105412 and parameters: {'learning_rate': 0.02975119074203382, 'reg_lambda': 0.0008712438961549061, 'reg_alpha': 32.0298838648413, 'subsample': 0.6848477688465877, 'colsample_bytree': 0.26656486671271507, 'max_depth': 3}. Best is trial 26 with value: 0.7192284250778599.\u001b[0m\n"
     ]
    },
    {
     "name": "stdout",
     "output_type": "stream",
     "text": [
      "[0]\tvalidation_0-rmse:7.42997\n",
      "[1000]\tvalidation_0-rmse:0.72486\n",
      "[2000]\tvalidation_0-rmse:0.72197\n",
      "[3000]\tvalidation_0-rmse:0.72092\n",
      "[4000]\tvalidation_0-rmse:0.72035\n",
      "[5000]\tvalidation_0-rmse:0.72003\n",
      "[6000]\tvalidation_0-rmse:0.71982\n",
      "[7000]\tvalidation_0-rmse:0.71964\n",
      "[8000]\tvalidation_0-rmse:0.71953\n",
      "[9000]\tvalidation_0-rmse:0.71944\n",
      "[10000]\tvalidation_0-rmse:0.71936\n",
      "[11000]\tvalidation_0-rmse:0.71930\n",
      "[11903]\tvalidation_0-rmse:0.71925\n",
      "[0]\tvalidation_0-rmse:7.43253\n",
      "[1000]\tvalidation_0-rmse:0.72733\n",
      "[2000]\tvalidation_0-rmse:0.72463\n",
      "[3000]\tvalidation_0-rmse:0.72363\n",
      "[4000]\tvalidation_0-rmse:0.72314\n",
      "[5000]\tvalidation_0-rmse:0.72282\n",
      "[6000]\tvalidation_0-rmse:0.72261\n",
      "[7000]\tvalidation_0-rmse:0.72245\n",
      "[8000]\tvalidation_0-rmse:0.72232\n",
      "[9000]\tvalidation_0-rmse:0.72223\n",
      "[10000]\tvalidation_0-rmse:0.72216\n",
      "[11000]\tvalidation_0-rmse:0.72211\n",
      "[11421]\tvalidation_0-rmse:0.72210\n",
      "[0]\tvalidation_0-rmse:7.43534\n",
      "[1000]\tvalidation_0-rmse:0.72389\n",
      "[2000]\tvalidation_0-rmse:0.72115\n",
      "[3000]\tvalidation_0-rmse:0.72016\n",
      "[4000]\tvalidation_0-rmse:0.71971\n",
      "[5000]\tvalidation_0-rmse:0.71944\n",
      "[6000]\tvalidation_0-rmse:0.71926\n",
      "[7000]\tvalidation_0-rmse:0.71917\n",
      "[8000]\tvalidation_0-rmse:0.71906\n",
      "[9000]\tvalidation_0-rmse:0.71898\n",
      "[10000]\tvalidation_0-rmse:0.71894\n",
      "[11000]\tvalidation_0-rmse:0.71890\n",
      "[11268]\tvalidation_0-rmse:0.71891\n"
     ]
    },
    {
     "name": "stderr",
     "output_type": "stream",
     "text": [
      "\u001b[32m[I 2021-08-31 06:06:10,452]\u001b[0m Trial 54 finished with value: 0.72007833015097 and parameters: {'learning_rate': 0.04481996824956575, 'reg_lambda': 0.0002720375731568848, 'reg_alpha': 97.99386835285293, 'subsample': 0.7596157333606518, 'colsample_bytree': 0.1783281920686326, 'max_depth': 3}. Best is trial 26 with value: 0.7192284250778599.\u001b[0m\n"
     ]
    },
    {
     "name": "stdout",
     "output_type": "stream",
     "text": [
      "[0]\tvalidation_0-rmse:6.99732\n",
      "[1000]\tvalidation_0-rmse:0.72280\n",
      "[2000]\tvalidation_0-rmse:0.71989\n",
      "[3000]\tvalidation_0-rmse:0.71894\n",
      "[4000]\tvalidation_0-rmse:0.71858\n",
      "[4466]\tvalidation_0-rmse:0.71855\n",
      "[0]\tvalidation_0-rmse:6.99998\n",
      "[1000]\tvalidation_0-rmse:0.72562\n",
      "[2000]\tvalidation_0-rmse:0.72276\n",
      "[3000]\tvalidation_0-rmse:0.72199\n",
      "[4000]\tvalidation_0-rmse:0.72175\n",
      "[5000]\tvalidation_0-rmse:0.72169\n",
      "[5038]\tvalidation_0-rmse:0.72168\n",
      "[0]\tvalidation_0-rmse:7.00302\n",
      "[1000]\tvalidation_0-rmse:0.72214\n",
      "[2000]\tvalidation_0-rmse:0.71928\n",
      "[3000]\tvalidation_0-rmse:0.71855\n",
      "[4000]\tvalidation_0-rmse:0.71831\n",
      "[4960]\tvalidation_0-rmse:0.71829\n"
     ]
    },
    {
     "name": "stderr",
     "output_type": "stream",
     "text": [
      "\u001b[32m[I 2021-08-31 06:06:54,458]\u001b[0m Trial 55 finished with value: 0.7194735318063185 and parameters: {'learning_rate': 0.10099648796505932, 'reg_lambda': 4.761690597089942e-05, 'reg_alpha': 12.247485527786623, 'subsample': 0.5822064430051453, 'colsample_bytree': 0.12922969444223717, 'max_depth': 2}. Best is trial 26 with value: 0.7192284250778599.\u001b[0m\n"
     ]
    },
    {
     "name": "stdout",
     "output_type": "stream",
     "text": [
      "[0]\tvalidation_0-rmse:7.00459\n",
      "[1000]\tvalidation_0-rmse:0.72282\n",
      "[2000]\tvalidation_0-rmse:0.71995\n",
      "[3000]\tvalidation_0-rmse:0.71911\n",
      "[4000]\tvalidation_0-rmse:0.71866\n",
      "[4509]\tvalidation_0-rmse:0.71865\n",
      "[0]\tvalidation_0-rmse:7.00723\n",
      "[1000]\tvalidation_0-rmse:0.72571\n",
      "[2000]\tvalidation_0-rmse:0.72286\n",
      "[3000]\tvalidation_0-rmse:0.72202\n",
      "[4000]\tvalidation_0-rmse:0.72184\n",
      "[4624]\tvalidation_0-rmse:0.72177\n",
      "[0]\tvalidation_0-rmse:7.01021\n",
      "[1000]\tvalidation_0-rmse:0.72218\n",
      "[2000]\tvalidation_0-rmse:0.71949\n",
      "[3000]\tvalidation_0-rmse:0.71870\n",
      "[4000]\tvalidation_0-rmse:0.71841\n",
      "[4815]\tvalidation_0-rmse:0.71839\n"
     ]
    },
    {
     "name": "stderr",
     "output_type": "stream",
     "text": [
      "\u001b[32m[I 2021-08-31 06:07:36,984]\u001b[0m Trial 56 finished with value: 0.7195649707458068 and parameters: {'learning_rate': 0.10005765358114674, 'reg_lambda': 3.719131359732515e-05, 'reg_alpha': 13.785572058248205, 'subsample': 0.5482791802767585, 'colsample_bytree': 0.1393770015687793, 'max_depth': 2}. Best is trial 26 with value: 0.7192284250778599.\u001b[0m\n"
     ]
    },
    {
     "name": "stdout",
     "output_type": "stream",
     "text": [
      "[0]\tvalidation_0-rmse:7.16178\n",
      "[1000]\tvalidation_0-rmse:0.73047\n",
      "[2000]\tvalidation_0-rmse:0.72813\n",
      "[3000]\tvalidation_0-rmse:0.72666\n",
      "[4000]\tvalidation_0-rmse:0.72563\n",
      "[5000]\tvalidation_0-rmse:0.72479\n",
      "[6000]\tvalidation_0-rmse:0.72412\n",
      "[7000]\tvalidation_0-rmse:0.72351\n",
      "[8000]\tvalidation_0-rmse:0.72308\n",
      "[9000]\tvalidation_0-rmse:0.72262\n",
      "[10000]\tvalidation_0-rmse:0.72224\n",
      "[11000]\tvalidation_0-rmse:0.72194\n",
      "[12000]\tvalidation_0-rmse:0.72164\n",
      "[13000]\tvalidation_0-rmse:0.72141\n",
      "[14000]\tvalidation_0-rmse:0.72117\n",
      "[15000]\tvalidation_0-rmse:0.72098\n",
      "[16000]\tvalidation_0-rmse:0.72079\n",
      "[17000]\tvalidation_0-rmse:0.72066\n",
      "[18000]\tvalidation_0-rmse:0.72052\n",
      "[19000]\tvalidation_0-rmse:0.72037\n",
      "[20000]\tvalidation_0-rmse:0.72025\n",
      "[20309]\tvalidation_0-rmse:0.72024\n",
      "[0]\tvalidation_0-rmse:7.16438\n",
      "[1000]\tvalidation_0-rmse:0.73284\n",
      "[2000]\tvalidation_0-rmse:0.73058\n",
      "[3000]\tvalidation_0-rmse:0.72918\n",
      "[4000]\tvalidation_0-rmse:0.72817\n",
      "[5000]\tvalidation_0-rmse:0.72735\n",
      "[6000]\tvalidation_0-rmse:0.72672\n",
      "[7000]\tvalidation_0-rmse:0.72616\n",
      "[8000]\tvalidation_0-rmse:0.72572\n",
      "[9000]\tvalidation_0-rmse:0.72532\n",
      "[10000]\tvalidation_0-rmse:0.72498\n",
      "[11000]\tvalidation_0-rmse:0.72469\n",
      "[12000]\tvalidation_0-rmse:0.72443\n",
      "[13000]\tvalidation_0-rmse:0.72419\n",
      "[14000]\tvalidation_0-rmse:0.72397\n",
      "[15000]\tvalidation_0-rmse:0.72379\n",
      "[16000]\tvalidation_0-rmse:0.72362\n",
      "[17000]\tvalidation_0-rmse:0.72348\n",
      "[18000]\tvalidation_0-rmse:0.72332\n",
      "[19000]\tvalidation_0-rmse:0.72318\n",
      "[20000]\tvalidation_0-rmse:0.72310\n",
      "[21000]\tvalidation_0-rmse:0.72297\n",
      "[22000]\tvalidation_0-rmse:0.72288\n",
      "[23000]\tvalidation_0-rmse:0.72278\n",
      "[24000]\tvalidation_0-rmse:0.72267\n",
      "[24999]\tvalidation_0-rmse:0.72259\n",
      "[0]\tvalidation_0-rmse:7.16731\n",
      "[1000]\tvalidation_0-rmse:0.72908\n",
      "[2000]\tvalidation_0-rmse:0.72693\n",
      "[3000]\tvalidation_0-rmse:0.72561\n",
      "[4000]\tvalidation_0-rmse:0.72463\n",
      "[5000]\tvalidation_0-rmse:0.72387\n",
      "[6000]\tvalidation_0-rmse:0.72329\n",
      "[7000]\tvalidation_0-rmse:0.72273\n",
      "[8000]\tvalidation_0-rmse:0.72230\n",
      "[9000]\tvalidation_0-rmse:0.72189\n",
      "[10000]\tvalidation_0-rmse:0.72156\n",
      "[11000]\tvalidation_0-rmse:0.72123\n",
      "[12000]\tvalidation_0-rmse:0.72101\n",
      "[13000]\tvalidation_0-rmse:0.72076\n",
      "[14000]\tvalidation_0-rmse:0.72056\n",
      "[15000]\tvalidation_0-rmse:0.72040\n",
      "[16000]\tvalidation_0-rmse:0.72024\n",
      "[17000]\tvalidation_0-rmse:0.72006\n",
      "[18000]\tvalidation_0-rmse:0.71994\n",
      "[19000]\tvalidation_0-rmse:0.71983\n",
      "[20000]\tvalidation_0-rmse:0.71972\n",
      "[21000]\tvalidation_0-rmse:0.71960\n",
      "[22000]\tvalidation_0-rmse:0.71954\n",
      "[23000]\tvalidation_0-rmse:0.71943\n",
      "[24000]\tvalidation_0-rmse:0.71937\n",
      "[24523]\tvalidation_0-rmse:0.71936\n"
     ]
    },
    {
     "name": "stderr",
     "output_type": "stream",
     "text": [
      "\u001b[32m[I 2021-08-31 06:10:22,718]\u001b[0m Trial 57 finished with value: 0.7207253335069969 and parameters: {'learning_rate': 0.07963049044162396, 'reg_lambda': 8.198737039979152e-06, 'reg_alpha': 5.714593574970631, 'subsample': 0.6336658019236261, 'colsample_bytree': 0.265899583832773, 'max_depth': 1}. Best is trial 26 with value: 0.7192284250778599.\u001b[0m\n"
     ]
    },
    {
     "name": "stdout",
     "output_type": "stream",
     "text": [
      "[0]\tvalidation_0-rmse:6.90958\n",
      "[1000]\tvalidation_0-rmse:0.72282\n",
      "[2000]\tvalidation_0-rmse:0.72011\n",
      "[3000]\tvalidation_0-rmse:0.71962\n",
      "[3489]\tvalidation_0-rmse:0.71943\n",
      "[0]\tvalidation_0-rmse:6.91235\n",
      "[1000]\tvalidation_0-rmse:0.72583\n",
      "[2000]\tvalidation_0-rmse:0.72323\n",
      "[3000]\tvalidation_0-rmse:0.72240\n",
      "[3809]\tvalidation_0-rmse:0.72234\n",
      "[0]\tvalidation_0-rmse:6.91548\n",
      "[1000]\tvalidation_0-rmse:0.72221\n",
      "[2000]\tvalidation_0-rmse:0.71967\n",
      "[3000]\tvalidation_0-rmse:0.71918\n",
      "[4000]\tvalidation_0-rmse:0.71893\n",
      "[4347]\tvalidation_0-rmse:0.71898\n"
     ]
    },
    {
     "name": "stderr",
     "output_type": "stream",
     "text": [
      "\u001b[32m[I 2021-08-31 06:10:58,267]\u001b[0m Trial 58 finished with value: 0.7201795775676475 and parameters: {'learning_rate': 0.11238648428725041, 'reg_lambda': 1.4926046935848128e-06, 'reg_alpha': 0.4380969949588049, 'subsample': 0.44703797721434113, 'colsample_bytree': 0.1019303824633897, 'max_depth': 2}. Best is trial 26 with value: 0.7192284250778599.\u001b[0m\n"
     ]
    },
    {
     "name": "stdout",
     "output_type": "stream",
     "text": [
      "[0]\tvalidation_0-rmse:6.39492\n",
      "[1000]\tvalidation_0-rmse:0.72020\n",
      "[2000]\tvalidation_0-rmse:0.71901\n",
      "[2726]\tvalidation_0-rmse:0.71903\n",
      "[0]\tvalidation_0-rmse:6.39767\n",
      "[1000]\tvalidation_0-rmse:0.72318\n",
      "[2000]\tvalidation_0-rmse:0.72207\n",
      "[2001]\tvalidation_0-rmse:0.72207\n",
      "[0]\tvalidation_0-rmse:6.40054\n",
      "[1000]\tvalidation_0-rmse:0.71975\n",
      "[2000]\tvalidation_0-rmse:0.71877\n",
      "[2105]\tvalidation_0-rmse:0.71879\n"
     ]
    },
    {
     "name": "stderr",
     "output_type": "stream",
     "text": [
      "\u001b[32m[I 2021-08-31 06:11:23,382]\u001b[0m Trial 59 finished with value: 0.7198777239351671 and parameters: {'learning_rate': 0.17926785190507843, 'reg_lambda': 8.533597712190887e-05, 'reg_alpha': 0.00018277810112624126, 'subsample': 0.951722014505684, 'colsample_bytree': 0.17180582786160217, 'max_depth': 2}. Best is trial 26 with value: 0.7192284250778599.\u001b[0m\n"
     ]
    },
    {
     "name": "stdout",
     "output_type": "stream",
     "text": [
      "[0]\tvalidation_0-rmse:7.08782\n",
      "[1000]\tvalidation_0-rmse:0.73036\n",
      "[2000]\tvalidation_0-rmse:0.72801\n",
      "[3000]\tvalidation_0-rmse:0.72655\n",
      "[4000]\tvalidation_0-rmse:0.72551\n",
      "[5000]\tvalidation_0-rmse:0.72466\n",
      "[6000]\tvalidation_0-rmse:0.72396\n",
      "[7000]\tvalidation_0-rmse:0.72338\n",
      "[8000]\tvalidation_0-rmse:0.72292\n",
      "[9000]\tvalidation_0-rmse:0.72245\n",
      "[10000]\tvalidation_0-rmse:0.72208\n",
      "[11000]\tvalidation_0-rmse:0.72173\n",
      "[12000]\tvalidation_0-rmse:0.72146\n",
      "[13000]\tvalidation_0-rmse:0.72123\n",
      "[14000]\tvalidation_0-rmse:0.72100\n",
      "[15000]\tvalidation_0-rmse:0.72080\n",
      "[16000]\tvalidation_0-rmse:0.72058\n",
      "[17000]\tvalidation_0-rmse:0.72041\n",
      "[18000]\tvalidation_0-rmse:0.72025\n",
      "[19000]\tvalidation_0-rmse:0.72010\n",
      "[20000]\tvalidation_0-rmse:0.71999\n",
      "[21000]\tvalidation_0-rmse:0.71988\n",
      "[22000]\tvalidation_0-rmse:0.71979\n",
      "[23000]\tvalidation_0-rmse:0.71968\n",
      "[24000]\tvalidation_0-rmse:0.71960\n",
      "[24791]\tvalidation_0-rmse:0.71953\n",
      "[0]\tvalidation_0-rmse:7.09046\n",
      "[1000]\tvalidation_0-rmse:0.73277\n",
      "[2000]\tvalidation_0-rmse:0.73052\n",
      "[3000]\tvalidation_0-rmse:0.72911\n",
      "[4000]\tvalidation_0-rmse:0.72805\n",
      "[5000]\tvalidation_0-rmse:0.72723\n",
      "[6000]\tvalidation_0-rmse:0.72657\n",
      "[7000]\tvalidation_0-rmse:0.72602\n",
      "[8000]\tvalidation_0-rmse:0.72556\n",
      "[9000]\tvalidation_0-rmse:0.72516\n",
      "[10000]\tvalidation_0-rmse:0.72479\n",
      "[11000]\tvalidation_0-rmse:0.72449\n",
      "[12000]\tvalidation_0-rmse:0.72425\n",
      "[13000]\tvalidation_0-rmse:0.72397\n",
      "[14000]\tvalidation_0-rmse:0.72376\n",
      "[15000]\tvalidation_0-rmse:0.72356\n",
      "[16000]\tvalidation_0-rmse:0.72340\n",
      "[17000]\tvalidation_0-rmse:0.72325\n",
      "[17120]\tvalidation_0-rmse:0.72324\n",
      "[0]\tvalidation_0-rmse:7.09347\n",
      "[1000]\tvalidation_0-rmse:0.72894\n",
      "[2000]\tvalidation_0-rmse:0.72685\n",
      "[3000]\tvalidation_0-rmse:0.72552\n",
      "[4000]\tvalidation_0-rmse:0.72457\n",
      "[5000]\tvalidation_0-rmse:0.72380\n",
      "[6000]\tvalidation_0-rmse:0.72318\n",
      "[7000]\tvalidation_0-rmse:0.72261\n",
      "[8000]\tvalidation_0-rmse:0.72219\n",
      "[9000]\tvalidation_0-rmse:0.72180\n",
      "[10000]\tvalidation_0-rmse:0.72148\n",
      "[11000]\tvalidation_0-rmse:0.72115\n",
      "[12000]\tvalidation_0-rmse:0.72091\n",
      "[13000]\tvalidation_0-rmse:0.72066\n",
      "[14000]\tvalidation_0-rmse:0.72045\n",
      "[15000]\tvalidation_0-rmse:0.72028\n",
      "[16000]\tvalidation_0-rmse:0.72006\n",
      "[17000]\tvalidation_0-rmse:0.71988\n",
      "[18000]\tvalidation_0-rmse:0.71975\n",
      "[19000]\tvalidation_0-rmse:0.71962\n",
      "[20000]\tvalidation_0-rmse:0.71951\n",
      "[21000]\tvalidation_0-rmse:0.71939\n",
      "[22000]\tvalidation_0-rmse:0.71930\n",
      "[23000]\tvalidation_0-rmse:0.71920\n",
      "[24000]\tvalidation_0-rmse:0.71914\n",
      "[24999]\tvalidation_0-rmse:0.71908\n"
     ]
    },
    {
     "name": "stderr",
     "output_type": "stream",
     "text": [
      "\u001b[32m[I 2021-08-31 06:14:01,790]\u001b[0m Trial 60 finished with value: 0.7206113999409166 and parameters: {'learning_rate': 0.0892417276710194, 'reg_lambda': 7.462655234720148e-08, 'reg_alpha': 31.671045126481815, 'subsample': 0.5707498061914535, 'colsample_bytree': 0.21921420839527755, 'max_depth': 1}. Best is trial 26 with value: 0.7192284250778599.\u001b[0m\n"
     ]
    },
    {
     "name": "stdout",
     "output_type": "stream",
     "text": [
      "[0]\tvalidation_0-rmse:7.41178\n",
      "[1000]\tvalidation_0-rmse:0.72697\n",
      "[2000]\tvalidation_0-rmse:0.72316\n",
      "[3000]\tvalidation_0-rmse:0.72110\n",
      "[4000]\tvalidation_0-rmse:0.72004\n",
      "[5000]\tvalidation_0-rmse:0.71944\n",
      "[6000]\tvalidation_0-rmse:0.71915\n",
      "[7000]\tvalidation_0-rmse:0.71890\n",
      "[8000]\tvalidation_0-rmse:0.71876\n",
      "[9000]\tvalidation_0-rmse:0.71866\n",
      "[9255]\tvalidation_0-rmse:0.71866\n",
      "[0]\tvalidation_0-rmse:7.41435\n",
      "[1000]\tvalidation_0-rmse:0.72949\n",
      "[2000]\tvalidation_0-rmse:0.72586\n",
      "[3000]\tvalidation_0-rmse:0.72400\n",
      "[4000]\tvalidation_0-rmse:0.72300\n",
      "[5000]\tvalidation_0-rmse:0.72235\n",
      "[6000]\tvalidation_0-rmse:0.72206\n",
      "[7000]\tvalidation_0-rmse:0.72188\n",
      "[8000]\tvalidation_0-rmse:0.72180\n",
      "[8456]\tvalidation_0-rmse:0.72178\n",
      "[0]\tvalidation_0-rmse:7.41719\n",
      "[1000]\tvalidation_0-rmse:0.72586\n",
      "[2000]\tvalidation_0-rmse:0.72233\n",
      "[3000]\tvalidation_0-rmse:0.72050\n",
      "[4000]\tvalidation_0-rmse:0.71949\n",
      "[5000]\tvalidation_0-rmse:0.71889\n",
      "[6000]\tvalidation_0-rmse:0.71858\n",
      "[7000]\tvalidation_0-rmse:0.71838\n",
      "[8000]\tvalidation_0-rmse:0.71830\n",
      "[8575]\tvalidation_0-rmse:0.71827\n"
     ]
    },
    {
     "name": "stderr",
     "output_type": "stream",
     "text": [
      "\u001b[32m[I 2021-08-31 06:15:16,610]\u001b[0m Trial 61 finished with value: 0.7195603122264785 and parameters: {'learning_rate': 0.0471725043238377, 'reg_lambda': 0.000548903853374734, 'reg_alpha': 2.012218073059952, 'subsample': 0.6679468117403713, 'colsample_bytree': 0.13349070135856247, 'max_depth': 2}. Best is trial 26 with value: 0.7192284250778599.\u001b[0m\n"
     ]
    },
    {
     "name": "stdout",
     "output_type": "stream",
     "text": [
      "[0]\tvalidation_0-rmse:7.33247\n",
      "[1000]\tvalidation_0-rmse:0.72188\n",
      "[2000]\tvalidation_0-rmse:0.71929\n",
      "[3000]\tvalidation_0-rmse:0.71855\n",
      "[4000]\tvalidation_0-rmse:0.71843\n",
      "[4150]\tvalidation_0-rmse:0.71845\n",
      "[0]\tvalidation_0-rmse:7.33502\n",
      "[1000]\tvalidation_0-rmse:0.72456\n",
      "[2000]\tvalidation_0-rmse:0.72213\n",
      "[3000]\tvalidation_0-rmse:0.72148\n",
      "[3959]\tvalidation_0-rmse:0.72145\n",
      "[0]\tvalidation_0-rmse:7.33784\n",
      "[1000]\tvalidation_0-rmse:0.72102\n",
      "[2000]\tvalidation_0-rmse:0.71870\n",
      "[3000]\tvalidation_0-rmse:0.71813\n",
      "[3901]\tvalidation_0-rmse:0.71810\n"
     ]
    },
    {
     "name": "stderr",
     "output_type": "stream",
     "text": [
      "\u001b[32m[I 2021-08-31 06:15:59,622]\u001b[0m Trial 62 finished with value: 0.7192987133177269 and parameters: {'learning_rate': 0.05747629042161519, 'reg_lambda': 1.702049574632464e-05, 'reg_alpha': 11.969685804555526, 'subsample': 0.82308672158331, 'colsample_bytree': 0.1326659698955003, 'max_depth': 3}. Best is trial 26 with value: 0.7192284250778599.\u001b[0m\n"
     ]
    },
    {
     "name": "stdout",
     "output_type": "stream",
     "text": [
      "[0]\tvalidation_0-rmse:7.33164\n",
      "[1000]\tvalidation_0-rmse:0.72183\n",
      "[2000]\tvalidation_0-rmse:0.71928\n",
      "[3000]\tvalidation_0-rmse:0.71854\n",
      "[4000]\tvalidation_0-rmse:0.71841\n",
      "[4292]\tvalidation_0-rmse:0.71844\n",
      "[0]\tvalidation_0-rmse:7.33420\n",
      "[1000]\tvalidation_0-rmse:0.72454\n",
      "[2000]\tvalidation_0-rmse:0.72220\n",
      "[3000]\tvalidation_0-rmse:0.72159\n",
      "[3979]\tvalidation_0-rmse:0.72155\n",
      "[0]\tvalidation_0-rmse:7.33702\n",
      "[1000]\tvalidation_0-rmse:0.72098\n",
      "[2000]\tvalidation_0-rmse:0.71873\n",
      "[3000]\tvalidation_0-rmse:0.71821\n",
      "[3847]\tvalidation_0-rmse:0.71814\n"
     ]
    },
    {
     "name": "stderr",
     "output_type": "stream",
     "text": [
      "\u001b[32m[I 2021-08-31 06:16:43,500]\u001b[0m Trial 63 finished with value: 0.7193366174857462 and parameters: {'learning_rate': 0.057583186285073897, 'reg_lambda': 2.5149503171647286e-06, 'reg_alpha': 11.594199091508985, 'subsample': 0.8287229584548366, 'colsample_bytree': 0.1333780254080566, 'max_depth': 3}. Best is trial 26 with value: 0.7192284250778599.\u001b[0m\n"
     ]
    },
    {
     "name": "stdout",
     "output_type": "stream",
     "text": [
      "[0]\tvalidation_0-rmse:7.33137\n",
      "[1000]\tvalidation_0-rmse:0.71996\n",
      "[2000]\tvalidation_0-rmse:0.71909\n",
      "[2326]\tvalidation_0-rmse:0.71910\n",
      "[0]\tvalidation_0-rmse:7.33395\n",
      "[1000]\tvalidation_0-rmse:0.72280\n",
      "[2000]\tvalidation_0-rmse:0.72186\n",
      "[2144]\tvalidation_0-rmse:0.72188\n",
      "[0]\tvalidation_0-rmse:7.33674\n",
      "[1000]\tvalidation_0-rmse:0.71932\n",
      "[2000]\tvalidation_0-rmse:0.71864\n",
      "[2112]\tvalidation_0-rmse:0.71864\n"
     ]
    },
    {
     "name": "stderr",
     "output_type": "stream",
     "text": [
      "\u001b[32m[I 2021-08-31 06:17:13,652]\u001b[0m Trial 64 finished with value: 0.7198328285142824 and parameters: {'learning_rate': 0.05761238561461186, 'reg_lambda': 3.023889906331228e-06, 'reg_alpha': 5.494671912789184, 'subsample': 0.8812136005676023, 'colsample_bytree': 0.18375556314706235, 'max_depth': 4}. Best is trial 26 with value: 0.7192284250778599.\u001b[0m\n"
     ]
    },
    {
     "name": "stdout",
     "output_type": "stream",
     "text": [
      "[0]\tvalidation_0-rmse:7.48133\n",
      "[1000]\tvalidation_0-rmse:0.72482\n",
      "[2000]\tvalidation_0-rmse:0.72128\n",
      "[3000]\tvalidation_0-rmse:0.71991\n",
      "[4000]\tvalidation_0-rmse:0.71928\n",
      "[5000]\tvalidation_0-rmse:0.71900\n",
      "[6000]\tvalidation_0-rmse:0.71884\n",
      "[7000]\tvalidation_0-rmse:0.71872\n",
      "[7858]\tvalidation_0-rmse:0.71868\n",
      "[0]\tvalidation_0-rmse:7.48388\n",
      "[1000]\tvalidation_0-rmse:0.72746\n",
      "[2000]\tvalidation_0-rmse:0.72401\n",
      "[3000]\tvalidation_0-rmse:0.72273\n",
      "[4000]\tvalidation_0-rmse:0.72213\n",
      "[5000]\tvalidation_0-rmse:0.72183\n",
      "[6000]\tvalidation_0-rmse:0.72169\n",
      "[7000]\tvalidation_0-rmse:0.72158\n",
      "[7833]\tvalidation_0-rmse:0.72154\n",
      "[0]\tvalidation_0-rmse:7.48665\n",
      "[1000]\tvalidation_0-rmse:0.72380\n",
      "[2000]\tvalidation_0-rmse:0.72055\n",
      "[3000]\tvalidation_0-rmse:0.71938\n",
      "[4000]\tvalidation_0-rmse:0.71890\n",
      "[5000]\tvalidation_0-rmse:0.71865\n",
      "[6000]\tvalidation_0-rmse:0.71849\n",
      "[7000]\tvalidation_0-rmse:0.71843\n",
      "[7590]\tvalidation_0-rmse:0.71843\n"
     ]
    },
    {
     "name": "stderr",
     "output_type": "stream",
     "text": [
      "\u001b[32m[I 2021-08-31 06:18:33,522]\u001b[0m Trial 65 finished with value: 0.7195363245572067 and parameters: {'learning_rate': 0.03815215817285014, 'reg_lambda': 5.768566783216446e-07, 'reg_alpha': 51.77847861746215, 'subsample': 0.8375265180970135, 'colsample_bytree': 0.15342756237745714, 'max_depth': 3}. Best is trial 26 with value: 0.7192284250778599.\u001b[0m\n"
     ]
    },
    {
     "name": "stdout",
     "output_type": "stream",
     "text": [
      "[0]\tvalidation_0-rmse:7.51995\n",
      "[1000]\tvalidation_0-rmse:0.72555\n",
      "[2000]\tvalidation_0-rmse:0.72167\n",
      "[3000]\tvalidation_0-rmse:0.71990\n",
      "[4000]\tvalidation_0-rmse:0.71907\n",
      "[5000]\tvalidation_0-rmse:0.71862\n",
      "[6000]\tvalidation_0-rmse:0.71841\n",
      "[7000]\tvalidation_0-rmse:0.71830\n",
      "[8000]\tvalidation_0-rmse:0.71825\n",
      "[8769]\tvalidation_0-rmse:0.71823\n",
      "[0]\tvalidation_0-rmse:7.52249\n",
      "[1000]\tvalidation_0-rmse:0.72812\n",
      "[2000]\tvalidation_0-rmse:0.72437\n",
      "[3000]\tvalidation_0-rmse:0.72277\n",
      "[4000]\tvalidation_0-rmse:0.72203\n",
      "[5000]\tvalidation_0-rmse:0.72164\n",
      "[6000]\tvalidation_0-rmse:0.72144\n",
      "[7000]\tvalidation_0-rmse:0.72133\n",
      "[8000]\tvalidation_0-rmse:0.72126\n",
      "[8328]\tvalidation_0-rmse:0.72127\n",
      "[0]\tvalidation_0-rmse:7.52525\n",
      "[1000]\tvalidation_0-rmse:0.72448\n",
      "[2000]\tvalidation_0-rmse:0.72075\n",
      "[3000]\tvalidation_0-rmse:0.71925\n",
      "[4000]\tvalidation_0-rmse:0.71855\n",
      "[5000]\tvalidation_0-rmse:0.71822\n",
      "[6000]\tvalidation_0-rmse:0.71806\n",
      "[7000]\tvalidation_0-rmse:0.71797\n",
      "[7710]\tvalidation_0-rmse:0.71794\n"
     ]
    },
    {
     "name": "stderr",
     "output_type": "stream",
     "text": [
      "\u001b[32m[I 2021-08-31 06:19:56,248]\u001b[0m Trial 66 finished with value: 0.719135219873274 and parameters: {'learning_rate': 0.03313934079213014, 'reg_lambda': 7.795455194937734e-07, 'reg_alpha': 11.375472681850685, 'subsample': 0.8202458209691414, 'colsample_bytree': 0.10071397127578051, 'max_depth': 3}. Best is trial 66 with value: 0.719135219873274.\u001b[0m\n"
     ]
    },
    {
     "name": "stdout",
     "output_type": "stream",
     "text": [
      "[0]\tvalidation_0-rmse:7.25992\n",
      "[1000]\tvalidation_0-rmse:0.72156\n",
      "[2000]\tvalidation_0-rmse:0.71933\n",
      "[3000]\tvalidation_0-rmse:0.71876\n",
      "[3623]\tvalidation_0-rmse:0.71876\n",
      "[0]\tvalidation_0-rmse:7.26245\n",
      "[1000]\tvalidation_0-rmse:0.72410\n",
      "[2000]\tvalidation_0-rmse:0.72210\n",
      "[3000]\tvalidation_0-rmse:0.72161\n",
      "[3259]\tvalidation_0-rmse:0.72162\n",
      "[0]\tvalidation_0-rmse:7.26531\n",
      "[1000]\tvalidation_0-rmse:0.72065\n",
      "[2000]\tvalidation_0-rmse:0.71877\n",
      "[3000]\tvalidation_0-rmse:0.71841\n",
      "[3469]\tvalidation_0-rmse:0.71840\n"
     ]
    },
    {
     "name": "stderr",
     "output_type": "stream",
     "text": [
      "\u001b[32m[I 2021-08-31 06:20:33,543]\u001b[0m Trial 67 finished with value: 0.7195615938818932 and parameters: {'learning_rate': 0.06689649046548328, 'reg_lambda': 1.4225322342212228e-08, 'reg_alpha': 1.107529525657556, 'subsample': 0.8149006865029782, 'colsample_bytree': 0.10231243324766427, 'max_depth': 3}. Best is trial 66 with value: 0.719135219873274.\u001b[0m\n"
     ]
    },
    {
     "name": "stdout",
     "output_type": "stream",
     "text": [
      "[0]\tvalidation_0-rmse:7.52718\n",
      "[1000]\tvalidation_0-rmse:0.72237\n",
      "[2000]\tvalidation_0-rmse:0.71978\n",
      "[3000]\tvalidation_0-rmse:0.71911\n",
      "[3997]\tvalidation_0-rmse:0.71897\n",
      "[0]\tvalidation_0-rmse:7.52973\n",
      "[1000]\tvalidation_0-rmse:0.72510\n",
      "[2000]\tvalidation_0-rmse:0.72257\n",
      "[3000]\tvalidation_0-rmse:0.72192\n",
      "[3948]\tvalidation_0-rmse:0.72186\n",
      "[0]\tvalidation_0-rmse:7.53247\n",
      "[1000]\tvalidation_0-rmse:0.72150\n",
      "[2000]\tvalidation_0-rmse:0.71923\n",
      "[3000]\tvalidation_0-rmse:0.71863\n",
      "[3636]\tvalidation_0-rmse:0.71858\n"
     ]
    },
    {
     "name": "stderr",
     "output_type": "stream",
     "text": [
      "\u001b[32m[I 2021-08-31 06:21:23,040]\u001b[0m Trial 68 finished with value: 0.7197808968040453 and parameters: {'learning_rate': 0.03219751670203846, 'reg_lambda': 7.40400998999921e-07, 'reg_alpha': 12.955577322247093, 'subsample': 0.8986549414218059, 'colsample_bytree': 0.24132316613538218, 'max_depth': 4}. Best is trial 66 with value: 0.719135219873274.\u001b[0m\n"
     ]
    },
    {
     "name": "stdout",
     "output_type": "stream",
     "text": [
      "[0]\tvalidation_0-rmse:7.59183\n",
      "[1000]\tvalidation_0-rmse:0.72619\n",
      "[2000]\tvalidation_0-rmse:0.72241\n",
      "[3000]\tvalidation_0-rmse:0.72073\n",
      "[4000]\tvalidation_0-rmse:0.71982\n",
      "[5000]\tvalidation_0-rmse:0.71932\n",
      "[6000]\tvalidation_0-rmse:0.71906\n",
      "[7000]\tvalidation_0-rmse:0.71894\n",
      "[7737]\tvalidation_0-rmse:0.71892\n",
      "[0]\tvalidation_0-rmse:7.59439\n",
      "[1000]\tvalidation_0-rmse:0.72881\n",
      "[2000]\tvalidation_0-rmse:0.72527\n",
      "[3000]\tvalidation_0-rmse:0.72349\n",
      "[4000]\tvalidation_0-rmse:0.72266\n",
      "[5000]\tvalidation_0-rmse:0.72226\n",
      "[6000]\tvalidation_0-rmse:0.72204\n",
      "[7000]\tvalidation_0-rmse:0.72195\n",
      "[7346]\tvalidation_0-rmse:0.72193\n",
      "[0]\tvalidation_0-rmse:7.59708\n",
      "[1000]\tvalidation_0-rmse:0.72524\n",
      "[2000]\tvalidation_0-rmse:0.72166\n",
      "[3000]\tvalidation_0-rmse:0.72006\n",
      "[4000]\tvalidation_0-rmse:0.71925\n",
      "[5000]\tvalidation_0-rmse:0.71885\n",
      "[6000]\tvalidation_0-rmse:0.71865\n",
      "[6912]\tvalidation_0-rmse:0.71861\n"
     ]
    },
    {
     "name": "stderr",
     "output_type": "stream",
     "text": [
      "\u001b[32m[I 2021-08-31 06:22:38,176]\u001b[0m Trial 69 finished with value: 0.7198155075612181 and parameters: {'learning_rate': 0.023807343461824556, 'reg_lambda': 2.1261417780419213e-05, 'reg_alpha': 3.486586764624868, 'subsample': 0.954199540270714, 'colsample_bytree': 0.3038751368924306, 'max_depth': 3}. Best is trial 66 with value: 0.719135219873274.\u001b[0m\n"
     ]
    },
    {
     "name": "stdout",
     "output_type": "stream",
     "text": [
      "[0]\tvalidation_0-rmse:7.41374\n",
      "[1000]\tvalidation_0-rmse:0.72245\n",
      "[2000]\tvalidation_0-rmse:0.72023\n",
      "[2998]\tvalidation_0-rmse:0.71991\n",
      "[0]\tvalidation_0-rmse:7.41631\n",
      "[1000]\tvalidation_0-rmse:0.72525\n",
      "[2000]\tvalidation_0-rmse:0.72323\n",
      "[3000]\tvalidation_0-rmse:0.72281\n",
      "[3446]\tvalidation_0-rmse:0.72283\n",
      "[0]\tvalidation_0-rmse:7.41911\n",
      "[1000]\tvalidation_0-rmse:0.72165\n",
      "[2000]\tvalidation_0-rmse:0.71969\n",
      "[3000]\tvalidation_0-rmse:0.71929\n",
      "[3238]\tvalidation_0-rmse:0.71931\n"
     ]
    },
    {
     "name": "stderr",
     "output_type": "stream",
     "text": [
      "\u001b[32m[I 2021-08-31 06:23:14,289]\u001b[0m Trial 70 finished with value: 0.720643003761995 and parameters: {'learning_rate': 0.04691868696467801, 'reg_lambda': 1.5389348149580055e-05, 'reg_alpha': 0.18619435997975617, 'subsample': 0.7650013463440625, 'colsample_bytree': 0.6422327574543287, 'max_depth': 3}. Best is trial 66 with value: 0.719135219873274.\u001b[0m\n"
     ]
    },
    {
     "name": "stdout",
     "output_type": "stream",
     "text": [
      "[0]\tvalidation_0-rmse:7.50811\n",
      "[1000]\tvalidation_0-rmse:0.72552\n",
      "[2000]\tvalidation_0-rmse:0.72185\n",
      "[3000]\tvalidation_0-rmse:0.72028\n",
      "[4000]\tvalidation_0-rmse:0.71949\n",
      "[5000]\tvalidation_0-rmse:0.71910\n",
      "[6000]\tvalidation_0-rmse:0.71890\n",
      "[7000]\tvalidation_0-rmse:0.71874\n",
      "[8000]\tvalidation_0-rmse:0.71867\n",
      "[9000]\tvalidation_0-rmse:0.71861\n",
      "[9259]\tvalidation_0-rmse:0.71860\n",
      "[0]\tvalidation_0-rmse:7.51064\n",
      "[1000]\tvalidation_0-rmse:0.72812\n",
      "[2000]\tvalidation_0-rmse:0.72452\n",
      "[3000]\tvalidation_0-rmse:0.72307\n",
      "[4000]\tvalidation_0-rmse:0.72238\n",
      "[5000]\tvalidation_0-rmse:0.72199\n",
      "[6000]\tvalidation_0-rmse:0.72178\n",
      "[7000]\tvalidation_0-rmse:0.72163\n",
      "[8000]\tvalidation_0-rmse:0.72156\n",
      "[8157]\tvalidation_0-rmse:0.72156\n",
      "[0]\tvalidation_0-rmse:7.51341\n",
      "[1000]\tvalidation_0-rmse:0.72448\n",
      "[2000]\tvalidation_0-rmse:0.72093\n",
      "[3000]\tvalidation_0-rmse:0.71959\n",
      "[4000]\tvalidation_0-rmse:0.71901\n",
      "[5000]\tvalidation_0-rmse:0.71871\n",
      "[6000]\tvalidation_0-rmse:0.71851\n",
      "[7000]\tvalidation_0-rmse:0.71839\n",
      "[7639]\tvalidation_0-rmse:0.71835\n"
     ]
    },
    {
     "name": "stderr",
     "output_type": "stream",
     "text": [
      "\u001b[32m[I 2021-08-31 06:24:39,207]\u001b[0m Trial 71 finished with value: 0.7195002817372295 and parameters: {'learning_rate': 0.03467767095168877, 'reg_lambda': 3.900995289012071e-06, 'reg_alpha': 49.18221131078983, 'subsample': 0.8232055386650767, 'colsample_bytree': 0.12657324840990755, 'max_depth': 3}. Best is trial 66 with value: 0.719135219873274.\u001b[0m\n"
     ]
    },
    {
     "name": "stdout",
     "output_type": "stream",
     "text": [
      "[0]\tvalidation_0-rmse:7.46814\n",
      "[1000]\tvalidation_0-rmse:0.72227\n",
      "[2000]\tvalidation_0-rmse:0.71953\n",
      "[3000]\tvalidation_0-rmse:0.71861\n",
      "[4000]\tvalidation_0-rmse:0.71834\n",
      "[5000]\tvalidation_0-rmse:0.71826\n",
      "[5151]\tvalidation_0-rmse:0.71829\n",
      "[0]\tvalidation_0-rmse:7.47070\n",
      "[1000]\tvalidation_0-rmse:0.72501\n",
      "[2000]\tvalidation_0-rmse:0.72238\n",
      "[3000]\tvalidation_0-rmse:0.72156\n",
      "[4000]\tvalidation_0-rmse:0.72132\n",
      "[5000]\tvalidation_0-rmse:0.72129\n",
      "[5049]\tvalidation_0-rmse:0.72130\n",
      "[0]\tvalidation_0-rmse:7.47347\n",
      "[1000]\tvalidation_0-rmse:0.72142\n",
      "[2000]\tvalidation_0-rmse:0.71888\n",
      "[3000]\tvalidation_0-rmse:0.71816\n",
      "[4000]\tvalidation_0-rmse:0.71795\n",
      "[4652]\tvalidation_0-rmse:0.71798\n"
     ]
    },
    {
     "name": "stderr",
     "output_type": "stream",
     "text": [
      "\u001b[32m[I 2021-08-31 06:25:38,672]\u001b[0m Trial 72 finished with value: 0.7191602333955682 and parameters: {'learning_rate': 0.03986281583260779, 'reg_lambda': 1.6603582175882072e-07, 'reg_alpha': 20.950819432048927, 'subsample': 0.8416003264151272, 'colsample_bytree': 0.10197716715536691, 'max_depth': 4}. Best is trial 66 with value: 0.719135219873274.\u001b[0m\n"
     ]
    },
    {
     "name": "stdout",
     "output_type": "stream",
     "text": [
      "[0]\tvalidation_0-rmse:7.34172\n",
      "[1000]\tvalidation_0-rmse:0.72014\n",
      "[2000]\tvalidation_0-rmse:0.71875\n",
      "[2794]\tvalidation_0-rmse:0.71865\n",
      "[0]\tvalidation_0-rmse:7.34429\n",
      "[1000]\tvalidation_0-rmse:0.72301\n",
      "[2000]\tvalidation_0-rmse:0.72172\n",
      "[2705]\tvalidation_0-rmse:0.72170\n",
      "[0]\tvalidation_0-rmse:7.34707\n",
      "[1000]\tvalidation_0-rmse:0.71952\n",
      "[2000]\tvalidation_0-rmse:0.71842\n",
      "[2645]\tvalidation_0-rmse:0.71838\n"
     ]
    },
    {
     "name": "stderr",
     "output_type": "stream",
     "text": [
      "\u001b[32m[I 2021-08-31 06:26:15,303]\u001b[0m Trial 73 finished with value: 0.7195385770346695 and parameters: {'learning_rate': 0.05627130411305843, 'reg_lambda': 4.1319988501390736e-08, 'reg_alpha': 16.39456939362992, 'subsample': 0.9198959865532361, 'colsample_bytree': 0.17438706878779836, 'max_depth': 4}. Best is trial 66 with value: 0.719135219873274.\u001b[0m\n"
     ]
    },
    {
     "name": "stdout",
     "output_type": "stream",
     "text": [
      "[0]\tvalidation_0-rmse:7.55336\n",
      "[1000]\tvalidation_0-rmse:0.72362\n",
      "[2000]\tvalidation_0-rmse:0.72030\n",
      "[3000]\tvalidation_0-rmse:0.71907\n",
      "[4000]\tvalidation_0-rmse:0.71857\n",
      "[5000]\tvalidation_0-rmse:0.71839\n",
      "[5727]\tvalidation_0-rmse:0.71835\n",
      "[0]\tvalidation_0-rmse:7.55591\n",
      "[1000]\tvalidation_0-rmse:0.72633\n",
      "[2000]\tvalidation_0-rmse:0.72310\n",
      "[3000]\tvalidation_0-rmse:0.72194\n",
      "[4000]\tvalidation_0-rmse:0.72146\n",
      "[5000]\tvalidation_0-rmse:0.72132\n",
      "[5660]\tvalidation_0-rmse:0.72132\n",
      "[0]\tvalidation_0-rmse:7.55864\n",
      "[1000]\tvalidation_0-rmse:0.72277\n",
      "[2000]\tvalidation_0-rmse:0.71954\n",
      "[3000]\tvalidation_0-rmse:0.71852\n",
      "[4000]\tvalidation_0-rmse:0.71809\n",
      "[5000]\tvalidation_0-rmse:0.71800\n",
      "[5250]\tvalidation_0-rmse:0.71800\n"
     ]
    },
    {
     "name": "stderr",
     "output_type": "stream",
     "text": [
      "\u001b[32m[I 2021-08-31 06:27:21,458]\u001b[0m Trial 74 finished with value: 0.7192117087386926 and parameters: {'learning_rate': 0.02880072394979411, 'reg_lambda': 1.9759927411824308e-07, 'reg_alpha': 7.843816544551285, 'subsample': 0.8834395648454633, 'colsample_bytree': 0.10694876351133167, 'max_depth': 4}. Best is trial 66 with value: 0.719135219873274.\u001b[0m\n"
     ]
    },
    {
     "name": "stdout",
     "output_type": "stream",
     "text": [
      "[0]\tvalidation_0-rmse:7.56365\n",
      "[1000]\tvalidation_0-rmse:0.72186\n",
      "[2000]\tvalidation_0-rmse:0.71925\n",
      "[3000]\tvalidation_0-rmse:0.71859\n",
      "[3784]\tvalidation_0-rmse:0.71851\n",
      "[0]\tvalidation_0-rmse:7.56619\n",
      "[1000]\tvalidation_0-rmse:0.72466\n",
      "[2000]\tvalidation_0-rmse:0.72210\n",
      "[3000]\tvalidation_0-rmse:0.72150\n",
      "[3977]\tvalidation_0-rmse:0.72142\n",
      "[0]\tvalidation_0-rmse:7.56892\n",
      "[1000]\tvalidation_0-rmse:0.72118\n",
      "[2000]\tvalidation_0-rmse:0.71871\n",
      "[3000]\tvalidation_0-rmse:0.71818\n",
      "[3682]\tvalidation_0-rmse:0.71810\n"
     ]
    },
    {
     "name": "stderr",
     "output_type": "stream",
     "text": [
      "\u001b[32m[I 2021-08-31 06:28:18,229]\u001b[0m Trial 75 finished with value: 0.7193319365707721 and parameters: {'learning_rate': 0.027466212427381134, 'reg_lambda': 9.591565640878398e-08, 'reg_alpha': 6.74733129508945, 'subsample': 0.8781740078944926, 'colsample_bytree': 0.1021841837653379, 'max_depth': 5}. Best is trial 66 with value: 0.719135219873274.\u001b[0m\n"
     ]
    },
    {
     "name": "stdout",
     "output_type": "stream",
     "text": [
      "[0]\tvalidation_0-rmse:7.56506\n",
      "[1000]\tvalidation_0-rmse:0.72187\n",
      "[2000]\tvalidation_0-rmse:0.71930\n",
      "[3000]\tvalidation_0-rmse:0.71864\n",
      "[4000]\tvalidation_0-rmse:0.71849\n",
      "[4397]\tvalidation_0-rmse:0.71851\n",
      "[0]\tvalidation_0-rmse:7.56763\n",
      "[1000]\tvalidation_0-rmse:0.72465\n",
      "[2000]\tvalidation_0-rmse:0.72218\n",
      "[3000]\tvalidation_0-rmse:0.72155\n",
      "[3972]\tvalidation_0-rmse:0.72144\n",
      "[0]\tvalidation_0-rmse:7.57033\n",
      "[1000]\tvalidation_0-rmse:0.72108\n",
      "[2000]\tvalidation_0-rmse:0.71872\n",
      "[3000]\tvalidation_0-rmse:0.71817\n",
      "[3931]\tvalidation_0-rmse:0.71812\n"
     ]
    },
    {
     "name": "stderr",
     "output_type": "stream",
     "text": [
      "\u001b[32m[I 2021-08-31 06:29:19,728]\u001b[0m Trial 76 finished with value: 0.7193246955030501 and parameters: {'learning_rate': 0.027282763478724138, 'reg_lambda': 9.724909657568219e-08, 'reg_alpha': 5.778099903784175, 'subsample': 0.9826763103895809, 'colsample_bytree': 0.10170574007570989, 'max_depth': 5}. Best is trial 66 with value: 0.719135219873274.\u001b[0m\n"
     ]
    },
    {
     "name": "stdout",
     "output_type": "stream",
     "text": [
      "[0]\tvalidation_0-rmse:7.60453\n",
      "[1000]\tvalidation_0-rmse:0.72096\n",
      "[2000]\tvalidation_0-rmse:0.71968\n",
      "[2617]\tvalidation_0-rmse:0.71958\n",
      "[0]\tvalidation_0-rmse:7.60709\n",
      "[1000]\tvalidation_0-rmse:0.72387\n",
      "[2000]\tvalidation_0-rmse:0.72251\n",
      "[2775]\tvalidation_0-rmse:0.72251\n",
      "[0]\tvalidation_0-rmse:7.60977\n",
      "[1000]\tvalidation_0-rmse:0.72023\n",
      "[2000]\tvalidation_0-rmse:0.71911\n",
      "[2412]\tvalidation_0-rmse:0.71912\n"
     ]
    },
    {
     "name": "stderr",
     "output_type": "stream",
     "text": [
      "\u001b[32m[I 2021-08-31 06:30:16,626]\u001b[0m Trial 77 finished with value: 0.7203686689330185 and parameters: {'learning_rate': 0.02216044106263526, 'reg_lambda': 2.1464852553122275e-07, 'reg_alpha': 2.4275929362703237, 'subsample': 0.9896065929347673, 'colsample_bytree': 0.2009537285156811, 'max_depth': 6}. Best is trial 66 with value: 0.719135219873274.\u001b[0m\n"
     ]
    },
    {
     "name": "stdout",
     "output_type": "stream",
     "text": [
      "[0]\tvalidation_0-rmse:7.54054\n",
      "[1000]\tvalidation_0-rmse:0.72096\n",
      "[2000]\tvalidation_0-rmse:0.71932\n",
      "[3000]\tvalidation_0-rmse:0.71909\n",
      "[3109]\tvalidation_0-rmse:0.71911\n",
      "[0]\tvalidation_0-rmse:7.54310\n",
      "[1000]\tvalidation_0-rmse:0.72369\n",
      "[2000]\tvalidation_0-rmse:0.72198\n",
      "[3000]\tvalidation_0-rmse:0.72175\n",
      "[3027]\tvalidation_0-rmse:0.72176\n",
      "[0]\tvalidation_0-rmse:7.54580\n",
      "[1000]\tvalidation_0-rmse:0.72010\n",
      "[2000]\tvalidation_0-rmse:0.71852\n",
      "[2856]\tvalidation_0-rmse:0.71845\n"
     ]
    },
    {
     "name": "stderr",
     "output_type": "stream",
     "text": [
      "\u001b[32m[I 2021-08-31 06:31:04,636]\u001b[0m Trial 78 finished with value: 0.719727645834709 and parameters: {'learning_rate': 0.030464668196334112, 'reg_lambda': 2.6845755674917013e-08, 'reg_alpha': 0.5612741317785919, 'subsample': 0.9764753592743342, 'colsample_bytree': 0.11985583990834509, 'max_depth': 5}. Best is trial 66 with value: 0.719135219873274.\u001b[0m\n"
     ]
    },
    {
     "name": "stdout",
     "output_type": "stream",
     "text": [
      "[0]\tvalidation_0-rmse:7.63713\n",
      "[1000]\tvalidation_0-rmse:0.72306\n",
      "[2000]\tvalidation_0-rmse:0.72018\n",
      "[3000]\tvalidation_0-rmse:0.71935\n",
      "[4000]\tvalidation_0-rmse:0.71905\n",
      "[4788]\tvalidation_0-rmse:0.71901\n",
      "[0]\tvalidation_0-rmse:7.63967\n",
      "[1000]\tvalidation_0-rmse:0.72579\n",
      "[2000]\tvalidation_0-rmse:0.72302\n",
      "[3000]\tvalidation_0-rmse:0.72220\n",
      "[4000]\tvalidation_0-rmse:0.72191\n",
      "[4774]\tvalidation_0-rmse:0.72190\n",
      "[0]\tvalidation_0-rmse:7.64236\n",
      "[1000]\tvalidation_0-rmse:0.72218\n",
      "[2000]\tvalidation_0-rmse:0.71953\n",
      "[3000]\tvalidation_0-rmse:0.71874\n",
      "[4000]\tvalidation_0-rmse:0.71854\n",
      "[4420]\tvalidation_0-rmse:0.71855\n"
     ]
    },
    {
     "name": "stderr",
     "output_type": "stream",
     "text": [
      "\u001b[32m[I 2021-08-31 06:32:16,248]\u001b[0m Trial 79 finished with value: 0.7197963091186033 and parameters: {'learning_rate': 0.01793018693929002, 'reg_lambda': 1.050880374269241e-08, 'reg_alpha': 1.0788826395879745, 'subsample': 0.9296717905238318, 'colsample_bytree': 0.1596860565014342, 'max_depth': 5}. Best is trial 66 with value: 0.719135219873274.\u001b[0m\n"
     ]
    },
    {
     "name": "stdout",
     "output_type": "stream",
     "text": [
      "[0]\tvalidation_0-rmse:7.58439\n",
      "[1000]\tvalidation_0-rmse:0.72745\n",
      "[2000]\tvalidation_0-rmse:0.72361\n",
      "[3000]\tvalidation_0-rmse:0.72194\n",
      "[4000]\tvalidation_0-rmse:0.72110\n",
      "[5000]\tvalidation_0-rmse:0.72059\n",
      "[6000]\tvalidation_0-rmse:0.72027\n",
      "[7000]\tvalidation_0-rmse:0.72000\n",
      "[8000]\tvalidation_0-rmse:0.71982\n",
      "[9000]\tvalidation_0-rmse:0.71968\n",
      "[10000]\tvalidation_0-rmse:0.71957\n",
      "[11000]\tvalidation_0-rmse:0.71949\n",
      "[12000]\tvalidation_0-rmse:0.71942\n",
      "[13000]\tvalidation_0-rmse:0.71936\n",
      "[13278]\tvalidation_0-rmse:0.71936\n",
      "[0]\tvalidation_0-rmse:7.58692\n",
      "[1000]\tvalidation_0-rmse:0.72992\n",
      "[2000]\tvalidation_0-rmse:0.72620\n",
      "[3000]\tvalidation_0-rmse:0.72461\n",
      "[4000]\tvalidation_0-rmse:0.72377\n",
      "[5000]\tvalidation_0-rmse:0.72330\n",
      "[6000]\tvalidation_0-rmse:0.72297\n",
      "[7000]\tvalidation_0-rmse:0.72274\n",
      "[8000]\tvalidation_0-rmse:0.72256\n",
      "[9000]\tvalidation_0-rmse:0.72242\n",
      "[10000]\tvalidation_0-rmse:0.72232\n",
      "[11000]\tvalidation_0-rmse:0.72222\n",
      "[12000]\tvalidation_0-rmse:0.72216\n",
      "[13000]\tvalidation_0-rmse:0.72210\n",
      "[14000]\tvalidation_0-rmse:0.72205\n",
      "[15000]\tvalidation_0-rmse:0.72201\n",
      "[16000]\tvalidation_0-rmse:0.72198\n",
      "[17000]\tvalidation_0-rmse:0.72196\n",
      "[18000]\tvalidation_0-rmse:0.72194\n",
      "[19000]\tvalidation_0-rmse:0.72191\n",
      "[20000]\tvalidation_0-rmse:0.72188\n",
      "[20697]\tvalidation_0-rmse:0.72188\n",
      "[0]\tvalidation_0-rmse:7.58966\n",
      "[1000]\tvalidation_0-rmse:0.72621\n",
      "[2000]\tvalidation_0-rmse:0.72257\n",
      "[3000]\tvalidation_0-rmse:0.72105\n",
      "[4000]\tvalidation_0-rmse:0.72030\n",
      "[5000]\tvalidation_0-rmse:0.71987\n",
      "[6000]\tvalidation_0-rmse:0.71957\n",
      "[7000]\tvalidation_0-rmse:0.71937\n",
      "[8000]\tvalidation_0-rmse:0.71922\n",
      "[9000]\tvalidation_0-rmse:0.71911\n",
      "[10000]\tvalidation_0-rmse:0.71902\n",
      "[11000]\tvalidation_0-rmse:0.71895\n",
      "[12000]\tvalidation_0-rmse:0.71891\n",
      "[13000]\tvalidation_0-rmse:0.71886\n",
      "[14000]\tvalidation_0-rmse:0.71882\n",
      "[15000]\tvalidation_0-rmse:0.71879\n",
      "[16000]\tvalidation_0-rmse:0.71876\n",
      "[17000]\tvalidation_0-rmse:0.71874\n",
      "[17645]\tvalidation_0-rmse:0.71873\n"
     ]
    },
    {
     "name": "stderr",
     "output_type": "stream",
     "text": [
      "\u001b[32m[I 2021-08-31 06:35:22,466]\u001b[0m Trial 80 finished with value: 0.7199891661068456 and parameters: {'learning_rate': 0.024777820726183442, 'reg_lambda': 1.8807696583530684e-07, 'reg_alpha': 99.33043642691852, 'subsample': 0.8519547803536723, 'colsample_bytree': 0.10062068897770773, 'max_depth': 4}. Best is trial 66 with value: 0.719135219873274.\u001b[0m\n"
     ]
    },
    {
     "name": "stdout",
     "output_type": "stream",
     "text": [
      "[0]\tvalidation_0-rmse:7.57437\n",
      "[1000]\tvalidation_0-rmse:0.72066\n",
      "[2000]\tvalidation_0-rmse:0.71898\n",
      "[3000]\tvalidation_0-rmse:0.71886\n",
      "[3144]\tvalidation_0-rmse:0.71887\n",
      "[0]\tvalidation_0-rmse:7.57691\n",
      "[1000]\tvalidation_0-rmse:0.72347\n",
      "[2000]\tvalidation_0-rmse:0.72184\n",
      "[2597]\tvalidation_0-rmse:0.72182\n",
      "[0]\tvalidation_0-rmse:7.57963\n",
      "[1000]\tvalidation_0-rmse:0.72003\n",
      "[2000]\tvalidation_0-rmse:0.71851\n",
      "[2770]\tvalidation_0-rmse:0.71843\n"
     ]
    },
    {
     "name": "stderr",
     "output_type": "stream",
     "text": [
      "\u001b[32m[I 2021-08-31 06:36:19,011]\u001b[0m Trial 81 finished with value: 0.7196665968030898 and parameters: {'learning_rate': 0.02607465818094861, 'reg_lambda': 6.860568443086898e-08, 'reg_alpha': 4.89004065168493, 'subsample': 0.8812821479644493, 'colsample_bytree': 0.11378933036609451, 'max_depth': 6}. Best is trial 66 with value: 0.719135219873274.\u001b[0m\n"
     ]
    },
    {
     "name": "stdout",
     "output_type": "stream",
     "text": [
      "[0]\tvalidation_0-rmse:7.55402\n",
      "[1000]\tvalidation_0-rmse:0.72169\n",
      "[2000]\tvalidation_0-rmse:0.71920\n",
      "[3000]\tvalidation_0-rmse:0.71856\n",
      "[3728]\tvalidation_0-rmse:0.71847\n",
      "[0]\tvalidation_0-rmse:7.55656\n",
      "[1000]\tvalidation_0-rmse:0.72445\n",
      "[2000]\tvalidation_0-rmse:0.72197\n",
      "[3000]\tvalidation_0-rmse:0.72138\n",
      "[3975]\tvalidation_0-rmse:0.72130\n",
      "[0]\tvalidation_0-rmse:7.55930\n",
      "[1000]\tvalidation_0-rmse:0.72101\n",
      "[2000]\tvalidation_0-rmse:0.71866\n",
      "[3000]\tvalidation_0-rmse:0.71817\n",
      "[3757]\tvalidation_0-rmse:0.71813\n"
     ]
    },
    {
     "name": "stderr",
     "output_type": "stream",
     "text": [
      "\u001b[32m[I 2021-08-31 06:37:15,125]\u001b[0m Trial 82 finished with value: 0.7192717697888916 and parameters: {'learning_rate': 0.028715942467613345, 'reg_lambda': 3.137428306876822e-07, 'reg_alpha': 8.482750041886852, 'subsample': 0.8885758457254743, 'colsample_bytree': 0.10543616686575323, 'max_depth': 5}. Best is trial 66 with value: 0.719135219873274.\u001b[0m\n"
     ]
    },
    {
     "name": "stdout",
     "output_type": "stream",
     "text": [
      "[0]\tvalidation_0-rmse:7.46026\n",
      "[1000]\tvalidation_0-rmse:0.72011\n",
      "[2000]\tvalidation_0-rmse:0.71884\n",
      "[2498]\tvalidation_0-rmse:0.71883\n",
      "[0]\tvalidation_0-rmse:7.46281\n",
      "[1000]\tvalidation_0-rmse:0.72296\n",
      "[2000]\tvalidation_0-rmse:0.72181\n",
      "[2436]\tvalidation_0-rmse:0.72187\n",
      "[0]\tvalidation_0-rmse:7.46558\n",
      "[1000]\tvalidation_0-rmse:0.71948\n",
      "[2000]\tvalidation_0-rmse:0.71857\n",
      "[2132]\tvalidation_0-rmse:0.71859\n"
     ]
    },
    {
     "name": "stderr",
     "output_type": "stream",
     "text": [
      "\u001b[32m[I 2021-08-31 06:37:54,489]\u001b[0m Trial 83 finished with value: 0.7197197509126241 and parameters: {'learning_rate': 0.040885074327793036, 'reg_lambda': 3.658504248111993e-07, 'reg_alpha': 19.98561594402572, 'subsample': 0.8886574984269661, 'colsample_bytree': 0.18841156977152979, 'max_depth': 5}. Best is trial 66 with value: 0.719135219873274.\u001b[0m\n"
     ]
    },
    {
     "name": "stdout",
     "output_type": "stream",
     "text": [
      "[0]\tvalidation_0-rmse:7.54077\n",
      "[1000]\tvalidation_0-rmse:0.72228\n",
      "[2000]\tvalidation_0-rmse:0.71978\n",
      "[3000]\tvalidation_0-rmse:0.71906\n",
      "[4000]\tvalidation_0-rmse:0.71891\n",
      "[4663]\tvalidation_0-rmse:0.71892\n",
      "[0]\tvalidation_0-rmse:7.54333\n",
      "[1000]\tvalidation_0-rmse:0.72495\n",
      "[2000]\tvalidation_0-rmse:0.72257\n",
      "[3000]\tvalidation_0-rmse:0.72191\n",
      "[4000]\tvalidation_0-rmse:0.72172\n",
      "[4565]\tvalidation_0-rmse:0.72172\n",
      "[0]\tvalidation_0-rmse:7.54606\n",
      "[1000]\tvalidation_0-rmse:0.72139\n",
      "[2000]\tvalidation_0-rmse:0.71920\n",
      "[3000]\tvalidation_0-rmse:0.71860\n",
      "[4000]\tvalidation_0-rmse:0.71850\n",
      "[4072]\tvalidation_0-rmse:0.71850\n"
     ]
    },
    {
     "name": "stderr",
     "output_type": "stream",
     "text": [
      "\u001b[32m[I 2021-08-31 06:39:01,407]\u001b[0m Trial 84 finished with value: 0.7196942525028698 and parameters: {'learning_rate': 0.030434596532471544, 'reg_lambda': 9.019192194962041e-07, 'reg_alpha': 52.476075635179214, 'subsample': 0.9121289009035032, 'colsample_bytree': 0.15482419011942639, 'max_depth': 5}. Best is trial 66 with value: 0.719135219873274.\u001b[0m\n"
     ]
    },
    {
     "name": "stdout",
     "output_type": "stream",
     "text": [
      "[0]\tvalidation_0-rmse:7.50967\n",
      "[1000]\tvalidation_0-rmse:0.72210\n",
      "[2000]\tvalidation_0-rmse:0.71951\n",
      "[3000]\tvalidation_0-rmse:0.71872\n",
      "[4000]\tvalidation_0-rmse:0.71851\n",
      "[4466]\tvalidation_0-rmse:0.71851\n",
      "[0]\tvalidation_0-rmse:7.51225\n",
      "[1000]\tvalidation_0-rmse:0.72494\n",
      "[2000]\tvalidation_0-rmse:0.72237\n",
      "[3000]\tvalidation_0-rmse:0.72164\n",
      "[4000]\tvalidation_0-rmse:0.72145\n",
      "[4746]\tvalidation_0-rmse:0.72148\n",
      "[0]\tvalidation_0-rmse:7.51495\n",
      "[1000]\tvalidation_0-rmse:0.72114\n",
      "[2000]\tvalidation_0-rmse:0.71885\n",
      "[3000]\tvalidation_0-rmse:0.71827\n",
      "[3800]\tvalidation_0-rmse:0.71822\n"
     ]
    },
    {
     "name": "stderr",
     "output_type": "stream",
     "text": [
      "\u001b[32m[I 2021-08-31 06:39:55,464]\u001b[0m Trial 85 finished with value: 0.7193718328006992 and parameters: {'learning_rate': 0.03447078661865454, 'reg_lambda': 2.99802863280775e-08, 'reg_alpha': 8.271030682112867, 'subsample': 0.9660419976192426, 'colsample_bytree': 0.1269416471155414, 'max_depth': 4}. Best is trial 66 with value: 0.719135219873274.\u001b[0m\n"
     ]
    },
    {
     "name": "stdout",
     "output_type": "stream",
     "text": [
      "[0]\tvalidation_0-rmse:7.61554\n",
      "[1000]\tvalidation_0-rmse:0.72471\n",
      "[2000]\tvalidation_0-rmse:0.72155\n",
      "[3000]\tvalidation_0-rmse:0.72045\n",
      "[4000]\tvalidation_0-rmse:0.72005\n",
      "[4787]\tvalidation_0-rmse:0.72004\n",
      "[0]\tvalidation_0-rmse:7.61810\n",
      "[1000]\tvalidation_0-rmse:0.72723\n",
      "[2000]\tvalidation_0-rmse:0.72426\n",
      "[3000]\tvalidation_0-rmse:0.72322\n",
      "[4000]\tvalidation_0-rmse:0.72294\n",
      "[4562]\tvalidation_0-rmse:0.72292\n",
      "[0]\tvalidation_0-rmse:7.62081\n",
      "[1000]\tvalidation_0-rmse:0.72383\n",
      "[2000]\tvalidation_0-rmse:0.72077\n",
      "[3000]\tvalidation_0-rmse:0.71980\n",
      "[4000]\tvalidation_0-rmse:0.71957\n",
      "[4602]\tvalidation_0-rmse:0.71959\n"
     ]
    },
    {
     "name": "stderr",
     "output_type": "stream",
     "text": [
      "\u001b[32m[I 2021-08-31 06:40:54,775]\u001b[0m Trial 86 finished with value: 0.7208191882796532 and parameters: {'learning_rate': 0.020729788484457657, 'reg_lambda': 1.6858329859999377e-07, 'reg_alpha': 3.49344019529196, 'subsample': 0.8450304084147297, 'colsample_bytree': 0.7683727067289728, 'max_depth': 4}. Best is trial 66 with value: 0.719135219873274.\u001b[0m\n"
     ]
    },
    {
     "name": "stdout",
     "output_type": "stream",
     "text": [
      "[0]\tvalidation_0-rmse:7.55666\n",
      "[1000]\tvalidation_0-rmse:0.72152\n",
      "[2000]\tvalidation_0-rmse:0.71938\n",
      "[3000]\tvalidation_0-rmse:0.71899\n",
      "[3184]\tvalidation_0-rmse:0.71899\n",
      "[0]\tvalidation_0-rmse:7.55919\n",
      "[1000]\tvalidation_0-rmse:0.72423\n",
      "[2000]\tvalidation_0-rmse:0.72211\n",
      "[3000]\tvalidation_0-rmse:0.72181\n",
      "[3287]\tvalidation_0-rmse:0.72185\n",
      "[0]\tvalidation_0-rmse:7.56194\n",
      "[1000]\tvalidation_0-rmse:0.72081\n",
      "[2000]\tvalidation_0-rmse:0.71887\n",
      "[3000]\tvalidation_0-rmse:0.71866\n",
      "[3038]\tvalidation_0-rmse:0.71867\n"
     ]
    },
    {
     "name": "stderr",
     "output_type": "stream",
     "text": [
      "\u001b[32m[I 2021-08-31 06:41:44,912]\u001b[0m Trial 87 finished with value: 0.7197941354006354 and parameters: {'learning_rate': 0.02837637543095273, 'reg_lambda': 2.977313429617088e-07, 'reg_alpha': 20.951617965524488, 'subsample': 0.7888601717620142, 'colsample_bytree': 0.21947043823179826, 'max_depth': 5}. Best is trial 66 with value: 0.719135219873274.\u001b[0m\n"
     ]
    },
    {
     "name": "stdout",
     "output_type": "stream",
     "text": [
      "[0]\tvalidation_0-rmse:7.51964\n",
      "[1000]\tvalidation_0-rmse:0.72268\n",
      "[2000]\tvalidation_0-rmse:0.71996\n",
      "[3000]\tvalidation_0-rmse:0.71908\n",
      "[4000]\tvalidation_0-rmse:0.71882\n",
      "[4985]\tvalidation_0-rmse:0.71873\n",
      "[0]\tvalidation_0-rmse:7.52221\n",
      "[1000]\tvalidation_0-rmse:0.72537\n",
      "[2000]\tvalidation_0-rmse:0.72267\n",
      "[3000]\tvalidation_0-rmse:0.72188\n",
      "[4000]\tvalidation_0-rmse:0.72165\n",
      "[4479]\tvalidation_0-rmse:0.72162\n",
      "[0]\tvalidation_0-rmse:7.52491\n",
      "[1000]\tvalidation_0-rmse:0.72167\n",
      "[2000]\tvalidation_0-rmse:0.71909\n",
      "[3000]\tvalidation_0-rmse:0.71839\n",
      "[4000]\tvalidation_0-rmse:0.71820\n",
      "[4240]\tvalidation_0-rmse:0.71820\n"
     ]
    },
    {
     "name": "stderr",
     "output_type": "stream",
     "text": [
      "\u001b[32m[I 2021-08-31 06:42:41,480]\u001b[0m Trial 88 finished with value: 0.719509047845698 and parameters: {'learning_rate': 0.033177802590072976, 'reg_lambda': 0.00018804117010682732, 'reg_alpha': 1.9054568972170063, 'subsample': 0.9997423133926697, 'colsample_bytree': 0.10102269182948091, 'max_depth': 4}. Best is trial 66 with value: 0.719135219873274.\u001b[0m\n"
     ]
    },
    {
     "name": "stdout",
     "output_type": "stream",
     "text": [
      "[0]\tvalidation_0-rmse:7.47414\n",
      "[1000]\tvalidation_0-rmse:0.71955\n",
      "[1405]\tvalidation_0-rmse:0.71948\n",
      "[0]\tvalidation_0-rmse:7.47671\n",
      "[1000]\tvalidation_0-rmse:0.72237\n",
      "[1329]\tvalidation_0-rmse:0.72239\n",
      "[0]\tvalidation_0-rmse:7.47949\n",
      "[1000]\tvalidation_0-rmse:0.71908\n",
      "[1361]\tvalidation_0-rmse:0.71918\n"
     ]
    },
    {
     "name": "stderr",
     "output_type": "stream",
     "text": [
      "\u001b[32m[I 2021-08-31 06:43:22,551]\u001b[0m Trial 89 finished with value: 0.7202433235552604 and parameters: {'learning_rate': 0.03908031892697391, 'reg_lambda': 4.936236880947213e-08, 'reg_alpha': 9.251248007920035, 'subsample': 0.7267039141313567, 'colsample_bytree': 0.1710027814710052, 'max_depth': 7}. Best is trial 66 with value: 0.719135219873274.\u001b[0m\n"
     ]
    },
    {
     "name": "stdout",
     "output_type": "stream",
     "text": [
      "[0]\tvalidation_0-rmse:7.59323\n",
      "[1000]\tvalidation_0-rmse:0.72163\n",
      "[2000]\tvalidation_0-rmse:0.71963\n",
      "[3000]\tvalidation_0-rmse:0.71919\n",
      "[3569]\tvalidation_0-rmse:0.71924\n",
      "[0]\tvalidation_0-rmse:7.59577\n",
      "[1000]\tvalidation_0-rmse:0.72438\n",
      "[2000]\tvalidation_0-rmse:0.72245\n",
      "[3000]\tvalidation_0-rmse:0.72213\n",
      "[3462]\tvalidation_0-rmse:0.72215\n",
      "[0]\tvalidation_0-rmse:7.59850\n",
      "[1000]\tvalidation_0-rmse:0.72080\n",
      "[2000]\tvalidation_0-rmse:0.71898\n",
      "[3000]\tvalidation_0-rmse:0.71872\n",
      "[3011]\tvalidation_0-rmse:0.71872\n"
     ]
    },
    {
     "name": "stderr",
     "output_type": "stream",
     "text": [
      "\u001b[32m[I 2021-08-31 06:44:14,928]\u001b[0m Trial 90 finished with value: 0.7199958362245665 and parameters: {'learning_rate': 0.023627676466170703, 'reg_lambda': 7.965159267554324e-06, 'reg_alpha': 0.002961760527689258, 'subsample': 0.7800965790386095, 'colsample_bytree': 0.14490982657508755, 'max_depth': 5}. Best is trial 66 with value: 0.719135219873274.\u001b[0m\n"
     ]
    },
    {
     "name": "stdout",
     "output_type": "stream",
     "text": [
      "[0]\tvalidation_0-rmse:7.56766\n",
      "[1000]\tvalidation_0-rmse:0.72178\n",
      "[2000]\tvalidation_0-rmse:0.71929\n",
      "[3000]\tvalidation_0-rmse:0.71868\n",
      "[4000]\tvalidation_0-rmse:0.71863\n",
      "[4126]\tvalidation_0-rmse:0.71865\n",
      "[0]\tvalidation_0-rmse:7.57020\n",
      "[1000]\tvalidation_0-rmse:0.72445\n",
      "[2000]\tvalidation_0-rmse:0.72201\n",
      "[3000]\tvalidation_0-rmse:0.72149\n",
      "[3700]\tvalidation_0-rmse:0.72145\n",
      "[0]\tvalidation_0-rmse:7.57292\n",
      "[1000]\tvalidation_0-rmse:0.72102\n",
      "[2000]\tvalidation_0-rmse:0.71872\n",
      "[3000]\tvalidation_0-rmse:0.71827\n",
      "[3544]\tvalidation_0-rmse:0.71823\n"
     ]
    },
    {
     "name": "stderr",
     "output_type": "stream",
     "text": [
      "\u001b[32m[I 2021-08-31 06:45:12,812]\u001b[0m Trial 91 finished with value: 0.7194277603346114 and parameters: {'learning_rate': 0.026946687225073273, 'reg_lambda': 1.0089796572680035e-07, 'reg_alpha': 6.591680878772732, 'subsample': 0.8649973610695463, 'colsample_bytree': 0.11222322098737515, 'max_depth': 5}. Best is trial 66 with value: 0.719135219873274.\u001b[0m\n"
     ]
    },
    {
     "name": "stdout",
     "output_type": "stream",
     "text": [
      "[0]\tvalidation_0-rmse:7.50507\n",
      "[1000]\tvalidation_0-rmse:0.71967\n",
      "[2000]\tvalidation_0-rmse:0.71875\n",
      "[2515]\tvalidation_0-rmse:0.71879\n",
      "[0]\tvalidation_0-rmse:7.50762\n",
      "[1000]\tvalidation_0-rmse:0.72257\n",
      "[2000]\tvalidation_0-rmse:0.72175\n",
      "[2288]\tvalidation_0-rmse:0.72181\n",
      "[0]\tvalidation_0-rmse:7.51039\n",
      "[1000]\tvalidation_0-rmse:0.71915\n",
      "[2000]\tvalidation_0-rmse:0.71829\n",
      "[2043]\tvalidation_0-rmse:0.71828\n"
     ]
    },
    {
     "name": "stderr",
     "output_type": "stream",
     "text": [
      "\u001b[32m[I 2021-08-31 06:45:58,081]\u001b[0m Trial 92 finished with value: 0.7195818116836955 and parameters: {'learning_rate': 0.03506826242192879, 'reg_lambda': 3.9022562831725094e-07, 'reg_alpha': 3.5143714887800215, 'subsample': 0.8707141873551989, 'colsample_bytree': 0.10334171324120428, 'max_depth': 6}. Best is trial 66 with value: 0.719135219873274.\u001b[0m\n"
     ]
    },
    {
     "name": "stdout",
     "output_type": "stream",
     "text": [
      "[0]\tvalidation_0-rmse:7.55325\n",
      "[1000]\tvalidation_0-rmse:0.72171\n",
      "[2000]\tvalidation_0-rmse:0.71922\n",
      "[3000]\tvalidation_0-rmse:0.71856\n",
      "[4000]\tvalidation_0-rmse:0.71845\n",
      "[4070]\tvalidation_0-rmse:0.71846\n",
      "[0]\tvalidation_0-rmse:7.55579\n",
      "[1000]\tvalidation_0-rmse:0.72438\n",
      "[2000]\tvalidation_0-rmse:0.72208\n",
      "[3000]\tvalidation_0-rmse:0.72152\n",
      "[3982]\tvalidation_0-rmse:0.72145\n",
      "[0]\tvalidation_0-rmse:7.55852\n",
      "[1000]\tvalidation_0-rmse:0.72089\n",
      "[2000]\tvalidation_0-rmse:0.71874\n",
      "[3000]\tvalidation_0-rmse:0.71822\n",
      "[3682]\tvalidation_0-rmse:0.71818\n"
     ]
    },
    {
     "name": "stderr",
     "output_type": "stream",
     "text": [
      "\u001b[32m[I 2021-08-31 06:46:57,377]\u001b[0m Trial 93 finished with value: 0.7193480500553507 and parameters: {'learning_rate': 0.02881563981923097, 'reg_lambda': 2.1596175945255483e-08, 'reg_alpha': 21.831784701777668, 'subsample': 0.9006905246378493, 'colsample_bytree': 0.12667600877010182, 'max_depth': 5}. Best is trial 66 with value: 0.719135219873274.\u001b[0m\n"
     ]
    },
    {
     "name": "stdout",
     "output_type": "stream",
     "text": [
      "[0]\tvalidation_0-rmse:7.44536\n",
      "[1000]\tvalidation_0-rmse:0.72115\n",
      "[2000]\tvalidation_0-rmse:0.72023\n",
      "[2483]\tvalidation_0-rmse:0.72025\n",
      "[0]\tvalidation_0-rmse:7.44790\n",
      "[1000]\tvalidation_0-rmse:0.72387\n",
      "[2000]\tvalidation_0-rmse:0.72288\n",
      "[2487]\tvalidation_0-rmse:0.72287\n",
      "[0]\tvalidation_0-rmse:7.45068\n",
      "[1000]\tvalidation_0-rmse:0.72054\n",
      "[2000]\tvalidation_0-rmse:0.71972\n",
      "[2473]\tvalidation_0-rmse:0.71975\n"
     ]
    },
    {
     "name": "stderr",
     "output_type": "stream",
     "text": [
      "\u001b[32m[I 2021-08-31 06:47:39,066]\u001b[0m Trial 94 finished with value: 0.7209113426751688 and parameters: {'learning_rate': 0.042823179976720964, 'reg_lambda': 1.073601658030059e-07, 'reg_alpha': 61.889504989269774, 'subsample': 0.8094998318825307, 'colsample_bytree': 0.48704981057816754, 'max_depth': 5}. Best is trial 66 with value: 0.719135219873274.\u001b[0m\n"
     ]
    },
    {
     "name": "stdout",
     "output_type": "stream",
     "text": [
      "[0]\tvalidation_0-rmse:7.52694\n",
      "[1000]\tvalidation_0-rmse:0.72228\n",
      "[2000]\tvalidation_0-rmse:0.71973\n",
      "[3000]\tvalidation_0-rmse:0.71892\n",
      "[4000]\tvalidation_0-rmse:0.71871\n",
      "[4571]\tvalidation_0-rmse:0.71869\n",
      "[0]\tvalidation_0-rmse:7.52949\n",
      "[1000]\tvalidation_0-rmse:0.72493\n",
      "[2000]\tvalidation_0-rmse:0.72248\n",
      "[3000]\tvalidation_0-rmse:0.72176\n",
      "[4000]\tvalidation_0-rmse:0.72163\n",
      "[4578]\tvalidation_0-rmse:0.72167\n",
      "[0]\tvalidation_0-rmse:7.53220\n",
      "[1000]\tvalidation_0-rmse:0.72120\n",
      "[2000]\tvalidation_0-rmse:0.71894\n",
      "[3000]\tvalidation_0-rmse:0.71837\n",
      "[3942]\tvalidation_0-rmse:0.71827\n"
     ]
    },
    {
     "name": "stderr",
     "output_type": "stream",
     "text": [
      "\u001b[32m[I 2021-08-31 06:48:33,524]\u001b[0m Trial 95 finished with value: 0.7195022653567852 and parameters: {'learning_rate': 0.03223032543843695, 'reg_lambda': 9.913277257597846e-07, 'reg_alpha': 5.447241365766087, 'subsample': 0.9370936317552682, 'colsample_bytree': 0.1471573271271402, 'max_depth': 4}. Best is trial 66 with value: 0.719135219873274.\u001b[0m\n"
     ]
    },
    {
     "name": "stdout",
     "output_type": "stream",
     "text": [
      "[0]\tvalidation_0-rmse:7.39913\n",
      "[1000]\tvalidation_0-rmse:0.72270\n",
      "[2000]\tvalidation_0-rmse:0.71981\n",
      "[3000]\tvalidation_0-rmse:0.71885\n",
      "[4000]\tvalidation_0-rmse:0.71861\n",
      "[4480]\tvalidation_0-rmse:0.71859\n",
      "[0]\tvalidation_0-rmse:7.40168\n",
      "[1000]\tvalidation_0-rmse:0.72540\n",
      "[2000]\tvalidation_0-rmse:0.72263\n",
      "[3000]\tvalidation_0-rmse:0.72181\n",
      "[4000]\tvalidation_0-rmse:0.72164\n",
      "[4620]\tvalidation_0-rmse:0.72162\n",
      "[0]\tvalidation_0-rmse:7.40446\n",
      "[1000]\tvalidation_0-rmse:0.72179\n",
      "[2000]\tvalidation_0-rmse:0.71920\n",
      "[3000]\tvalidation_0-rmse:0.71844\n",
      "[4000]\tvalidation_0-rmse:0.71832\n",
      "[4423]\tvalidation_0-rmse:0.71832\n"
     ]
    },
    {
     "name": "stderr",
     "output_type": "stream",
     "text": [
      "\u001b[32m[I 2021-08-31 06:49:20,691]\u001b[0m Trial 96 finished with value: 0.7194846339420197 and parameters: {'learning_rate': 0.048820676018943444, 'reg_lambda': 9.302686810138555e-05, 'reg_alpha': 1.4607448904631333, 'subsample': 0.8402692070583387, 'colsample_bytree': 0.1188879030049011, 'max_depth': 3}. Best is trial 66 with value: 0.719135219873274.\u001b[0m\n"
     ]
    },
    {
     "name": "stdout",
     "output_type": "stream",
     "text": [
      "[0]\tvalidation_0-rmse:7.57651\n",
      "[1000]\tvalidation_0-rmse:0.72420\n",
      "[2000]\tvalidation_0-rmse:0.72080\n",
      "[3000]\tvalidation_0-rmse:0.71956\n",
      "[4000]\tvalidation_0-rmse:0.71896\n",
      "[5000]\tvalidation_0-rmse:0.71874\n",
      "[5487]\tvalidation_0-rmse:0.71873\n",
      "[0]\tvalidation_0-rmse:7.57906\n",
      "[1000]\tvalidation_0-rmse:0.72679\n",
      "[2000]\tvalidation_0-rmse:0.72359\n",
      "[3000]\tvalidation_0-rmse:0.72239\n",
      "[4000]\tvalidation_0-rmse:0.72187\n",
      "[5000]\tvalidation_0-rmse:0.72167\n",
      "[6000]\tvalidation_0-rmse:0.72163\n",
      "[6063]\tvalidation_0-rmse:0.72163\n",
      "[0]\tvalidation_0-rmse:7.58178\n",
      "[1000]\tvalidation_0-rmse:0.72319\n",
      "[2000]\tvalidation_0-rmse:0.72011\n",
      "[3000]\tvalidation_0-rmse:0.71905\n",
      "[4000]\tvalidation_0-rmse:0.71859\n",
      "[5000]\tvalidation_0-rmse:0.71844\n",
      "[5518]\tvalidation_0-rmse:0.71843\n"
     ]
    },
    {
     "name": "stderr",
     "output_type": "stream",
     "text": [
      "\u001b[32m[I 2021-08-31 06:50:30,747]\u001b[0m Trial 97 finished with value: 0.7195883294931734 and parameters: {'learning_rate': 0.02579705377341659, 'reg_lambda': 4.935775600533873e-08, 'reg_alpha': 36.227757710759924, 'subsample': 0.9166297230710633, 'colsample_bytree': 0.19155383571661494, 'max_depth': 4}. Best is trial 66 with value: 0.719135219873274.\u001b[0m\n"
     ]
    },
    {
     "name": "stdout",
     "output_type": "stream",
     "text": [
      "[0]\tvalidation_0-rmse:7.49220\n",
      "[1000]\tvalidation_0-rmse:0.72380\n",
      "[2000]\tvalidation_0-rmse:0.72051\n",
      "[3000]\tvalidation_0-rmse:0.71926\n",
      "[4000]\tvalidation_0-rmse:0.71877\n",
      "[5000]\tvalidation_0-rmse:0.71861\n",
      "[6000]\tvalidation_0-rmse:0.71856\n",
      "[6123]\tvalidation_0-rmse:0.71856\n",
      "[0]\tvalidation_0-rmse:7.49475\n",
      "[1000]\tvalidation_0-rmse:0.72645\n",
      "[2000]\tvalidation_0-rmse:0.72329\n",
      "[3000]\tvalidation_0-rmse:0.72209\n",
      "[4000]\tvalidation_0-rmse:0.72171\n",
      "[5000]\tvalidation_0-rmse:0.72153\n",
      "[5513]\tvalidation_0-rmse:0.72154\n",
      "[0]\tvalidation_0-rmse:7.49750\n",
      "[1000]\tvalidation_0-rmse:0.72292\n",
      "[2000]\tvalidation_0-rmse:0.71983\n",
      "[3000]\tvalidation_0-rmse:0.71877\n",
      "[4000]\tvalidation_0-rmse:0.71837\n",
      "[5000]\tvalidation_0-rmse:0.71828\n",
      "[5070]\tvalidation_0-rmse:0.71829\n"
     ]
    },
    {
     "name": "stderr",
     "output_type": "stream",
     "text": [
      "\u001b[32m[I 2021-08-31 06:51:27,898]\u001b[0m Trial 98 finished with value: 0.7194448725786898 and parameters: {'learning_rate': 0.03673985244339761, 'reg_lambda': 5.82325694028999e-07, 'reg_alpha': 8.910487547631355, 'subsample': 0.8099018313882888, 'colsample_bytree': 0.16432612236465452, 'max_depth': 3}. Best is trial 66 with value: 0.719135219873274.\u001b[0m\n"
     ]
    },
    {
     "name": "stdout",
     "output_type": "stream",
     "text": [
      "[0]\tvalidation_0-rmse:7.60887\n",
      "[1000]\tvalidation_0-rmse:0.72301\n",
      "[2000]\tvalidation_0-rmse:0.72075\n",
      "[3000]\tvalidation_0-rmse:0.72025\n",
      "[3342]\tvalidation_0-rmse:0.72024\n",
      "[0]\tvalidation_0-rmse:7.61140\n",
      "[1000]\tvalidation_0-rmse:0.72548\n",
      "[2000]\tvalidation_0-rmse:0.72340\n",
      "[3000]\tvalidation_0-rmse:0.72296\n",
      "[3098]\tvalidation_0-rmse:0.72297\n",
      "[0]\tvalidation_0-rmse:7.61418\n",
      "[1000]\tvalidation_0-rmse:0.72216\n",
      "[2000]\tvalidation_0-rmse:0.71997\n",
      "[3000]\tvalidation_0-rmse:0.71977\n",
      "[3054]\tvalidation_0-rmse:0.71977\n"
     ]
    },
    {
     "name": "stderr",
     "output_type": "stream",
     "text": [
      "\u001b[32m[I 2021-08-31 06:52:16,017]\u001b[0m Trial 99 finished with value: 0.7209409541944917 and parameters: {'learning_rate': 0.021589135312833376, 'reg_lambda': 2.035174811533607e-07, 'reg_alpha': 8.775072384908451e-06, 'subsample': 0.21704574828574408, 'colsample_bytree': 0.1374284143752392, 'max_depth': 5}. Best is trial 66 with value: 0.719135219873274.\u001b[0m\n"
     ]
    }
   ],
   "source": [
    "study = optuna.create_study(direction=\"minimize\")\n",
    "study.optimize(run, n_trials=100)"
   ]
  },
  {
   "cell_type": "code",
   "execution_count": 6,
   "id": "f5ef7a56",
   "metadata": {
    "execution": {
     "iopub.execute_input": "2021-08-31T06:52:17.312622Z",
     "iopub.status.busy": "2021-08-31T06:52:17.311932Z",
     "iopub.status.idle": "2021-08-31T06:52:17.315721Z",
     "shell.execute_reply": "2021-08-31T06:52:17.316133Z",
     "shell.execute_reply.started": "2021-08-30T23:08:03.783479Z"
    },
    "papermill": {
     "duration": 0.627512,
     "end_time": "2021-08-31T06:52:17.316266",
     "exception": false,
     "start_time": "2021-08-31T06:52:16.688754",
     "status": "completed"
    },
    "tags": []
   },
   "outputs": [
    {
     "data": {
      "text/plain": [
       "{'learning_rate': 0.03313934079213014,\n",
       " 'reg_lambda': 7.795455194937734e-07,\n",
       " 'reg_alpha': 11.375472681850685,\n",
       " 'subsample': 0.8202458209691414,\n",
       " 'colsample_bytree': 0.10071397127578051,\n",
       " 'max_depth': 3}"
      ]
     },
     "execution_count": 6,
     "metadata": {},
     "output_type": "execute_result"
    }
   ],
   "source": [
    "study.best_params"
   ]
  },
  {
   "cell_type": "code",
   "execution_count": 7,
   "id": "40f924ad",
   "metadata": {
    "execution": {
     "iopub.execute_input": "2021-08-31T06:52:18.551656Z",
     "iopub.status.busy": "2021-08-31T06:52:18.550845Z",
     "iopub.status.idle": "2021-08-31T06:52:18.553587Z",
     "shell.execute_reply": "2021-08-31T06:52:18.554007Z",
     "shell.execute_reply.started": "2021-08-30T18:04:58.658995Z"
    },
    "papermill": {
     "duration": 0.6197,
     "end_time": "2021-08-31T06:52:18.554161",
     "exception": false,
     "start_time": "2021-08-31T06:52:17.934461",
     "status": "completed"
    },
    "tags": []
   },
   "outputs": [
    {
     "data": {
      "text/plain": [
       "{'learning_rate': 0.03313934079213014,\n",
       " 'reg_lambda': 7.795455194937734e-07,\n",
       " 'reg_alpha': 11.375472681850685,\n",
       " 'subsample': 0.8202458209691414,\n",
       " 'colsample_bytree': 0.10071397127578051,\n",
       " 'max_depth': 3}"
      ]
     },
     "execution_count": 7,
     "metadata": {},
     "output_type": "execute_result"
    }
   ],
   "source": [
    "study.best_params"
   ]
  },
  {
   "cell_type": "code",
   "execution_count": null,
   "id": "3477e1f3",
   "metadata": {
    "papermill": {
     "duration": 0.883162,
     "end_time": "2021-08-31T06:52:20.056949",
     "exception": false,
     "start_time": "2021-08-31T06:52:19.173787",
     "status": "completed"
    },
    "tags": []
   },
   "outputs": [],
   "source": []
  }
 ],
 "metadata": {
  "kernelspec": {
   "display_name": "Python 3",
   "language": "python",
   "name": "python3"
  },
  "language_info": {
   "codemirror_mode": {
    "name": "ipython",
    "version": 3
   },
   "file_extension": ".py",
   "mimetype": "text/x-python",
   "name": "python",
   "nbconvert_exporter": "python",
   "pygments_lexer": "ipython3",
   "version": "3.7.10"
  },
  "papermill": {
   "default_parameters": {},
   "duration": 6172.9894,
   "end_time": "2021-08-31T06:52:22.084316",
   "environment_variables": {},
   "exception": null,
   "input_path": "__notebook__.ipynb",
   "output_path": "__notebook__.ipynb",
   "parameters": {},
   "start_time": "2021-08-31T05:09:29.094916",
   "version": "2.3.3"
  }
 },
 "nbformat": 4,
 "nbformat_minor": 5
}
