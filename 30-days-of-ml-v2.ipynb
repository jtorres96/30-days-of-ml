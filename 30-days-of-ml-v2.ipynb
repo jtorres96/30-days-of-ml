{
 "cells": [
  {
   "cell_type": "markdown",
   "id": "8cc996f5",
   "metadata": {
    "papermill": {
     "duration": 0.015876,
     "end_time": "2021-08-23T15:24:28.655506",
     "exception": false,
     "start_time": "2021-08-23T15:24:28.639630",
     "status": "completed"
    },
    "tags": []
   },
   "source": [
    "# 30 Days of ML v2, by Juan Torres\n",
    "### Based of my previous notebook, 30 Days of ML v1: https://www.kaggle.com/jtorres96/30-days-of-ml-v1"
   ]
  },
  {
   "cell_type": "markdown",
   "id": "4b58fe0c",
   "metadata": {
    "papermill": {
     "duration": 0.013879,
     "end_time": "2021-08-23T15:24:28.684251",
     "exception": false,
     "start_time": "2021-08-23T15:24:28.670372",
     "status": "completed"
    },
    "tags": []
   },
   "source": [
    "This notebook will be an iteration on the previous notebook. On this one, we will implement a pipeline for ease of future testing, and using the same parameters found in the v1 notebook we will check if the pipeline was correctly implemented. This will be the only change for now."
   ]
  },
  {
   "cell_type": "markdown",
   "id": "a1bd7d03",
   "metadata": {
    "papermill": {
     "duration": 0.013882,
     "end_time": "2021-08-23T15:24:28.712338",
     "exception": false,
     "start_time": "2021-08-23T15:24:28.698456",
     "status": "completed"
    },
    "tags": []
   },
   "source": [
    "## 1. Importing libraries\n",
    "First, let's import the libraries we'll use for this first model:"
   ]
  },
  {
   "cell_type": "code",
   "execution_count": 1,
   "id": "70b8f7de",
   "metadata": {
    "_cell_guid": "b1076dfc-b9ad-4769-8c92-a6c4dae69d19",
    "_uuid": "8f2839f25d086af736a60e9eeb907d3b93b6e0e5",
    "execution": {
     "iopub.execute_input": "2021-08-23T15:24:28.744724Z",
     "iopub.status.busy": "2021-08-23T15:24:28.743584Z",
     "iopub.status.idle": "2021-08-23T15:24:29.984441Z",
     "shell.execute_reply": "2021-08-23T15:24:29.983152Z",
     "shell.execute_reply.started": "2021-08-23T15:22:09.721766Z"
    },
    "papermill": {
     "duration": 1.258218,
     "end_time": "2021-08-23T15:24:29.984683",
     "exception": false,
     "start_time": "2021-08-23T15:24:28.726465",
     "status": "completed"
    },
    "tags": []
   },
   "outputs": [
    {
     "name": "stdout",
     "output_type": "stream",
     "text": [
      "/kaggle/input/30-days-of-ml/sample_submission.csv\n",
      "/kaggle/input/30-days-of-ml/train.csv\n",
      "/kaggle/input/30-days-of-ml/test.csv\n"
     ]
    }
   ],
   "source": [
    "import numpy as np # linear algebra\n",
    "import pandas as pd # data processing, CSV file I/O (e.g. pd.read_csv)\n",
    "\n",
    "# For encoding categorical variables, splitting data\n",
    "from sklearn.preprocessing import OrdinalEncoder\n",
    "from sklearn.model_selection import train_test_split\n",
    "\n",
    "# For the construction of the pipeline\n",
    "from sklearn.compose import ColumnTransformer\n",
    "from sklearn.pipeline import Pipeline\n",
    "from sklearn.impute import SimpleImputer\n",
    "\n",
    "# For training random forest model\n",
    "from sklearn.ensemble import RandomForestRegressor\n",
    "from sklearn.metrics import mean_squared_error\n",
    "\n",
    "# Input data files are available in the read-only \"../input/\" directory\n",
    "# For example, running this (by clicking run or pressing Shift+Enter) will list all files under the input directory\n",
    "\n",
    "import os\n",
    "for dirname, _, filenames in os.walk('/kaggle/input'):\n",
    "    for filename in filenames:\n",
    "        print(os.path.join(dirname, filename))\n",
    "\n",
    "# You can write up to 20GB to the current directory (/kaggle/working/) that gets preserved as output when you create a version using \"Save & Run All\" \n",
    "# You can also write temporary files to /kaggle/temp/, but they won't be saved outside of the current session"
   ]
  },
  {
   "cell_type": "markdown",
   "id": "0176de41",
   "metadata": {
    "papermill": {
     "duration": 0.018575,
     "end_time": "2021-08-23T15:24:30.030354",
     "exception": false,
     "start_time": "2021-08-23T15:24:30.011779",
     "status": "completed"
    },
    "tags": []
   },
   "source": [
    "## 2. Loading and preparing data\n",
    "Next, let's load the training and test data, separate our target from the training features, separate categorical and numerical columns and do a train_test_split to break off a validation set from the training data."
   ]
  },
  {
   "cell_type": "code",
   "execution_count": 2,
   "id": "e5d5d167",
   "metadata": {
    "execution": {
     "iopub.execute_input": "2021-08-23T15:24:30.079893Z",
     "iopub.status.busy": "2021-08-23T15:24:30.078853Z",
     "iopub.status.idle": "2021-08-23T15:24:35.193768Z",
     "shell.execute_reply": "2021-08-23T15:24:35.194406Z",
     "shell.execute_reply.started": "2021-08-23T15:22:10.534942Z"
    },
    "papermill": {
     "duration": 5.14129,
     "end_time": "2021-08-23T15:24:35.194582",
     "exception": false,
     "start_time": "2021-08-23T15:24:30.053292",
     "status": "completed"
    },
    "tags": []
   },
   "outputs": [
    {
     "data": {
      "text/html": [
       "<div>\n",
       "<style scoped>\n",
       "    .dataframe tbody tr th:only-of-type {\n",
       "        vertical-align: middle;\n",
       "    }\n",
       "\n",
       "    .dataframe tbody tr th {\n",
       "        vertical-align: top;\n",
       "    }\n",
       "\n",
       "    .dataframe thead th {\n",
       "        text-align: right;\n",
       "    }\n",
       "</style>\n",
       "<table border=\"1\" class=\"dataframe\">\n",
       "  <thead>\n",
       "    <tr style=\"text-align: right;\">\n",
       "      <th></th>\n",
       "      <th>cat0</th>\n",
       "      <th>cat1</th>\n",
       "      <th>cat2</th>\n",
       "      <th>cat3</th>\n",
       "      <th>cat4</th>\n",
       "      <th>cat5</th>\n",
       "      <th>cat6</th>\n",
       "      <th>cat7</th>\n",
       "      <th>cat8</th>\n",
       "      <th>cont0</th>\n",
       "      <th>...</th>\n",
       "      <th>cont4</th>\n",
       "      <th>cont5</th>\n",
       "      <th>cont6</th>\n",
       "      <th>cont7</th>\n",
       "      <th>cont8</th>\n",
       "      <th>cont9</th>\n",
       "      <th>cont10</th>\n",
       "      <th>cont11</th>\n",
       "      <th>cont12</th>\n",
       "      <th>cont13</th>\n",
       "    </tr>\n",
       "    <tr>\n",
       "      <th>id</th>\n",
       "      <th></th>\n",
       "      <th></th>\n",
       "      <th></th>\n",
       "      <th></th>\n",
       "      <th></th>\n",
       "      <th></th>\n",
       "      <th></th>\n",
       "      <th></th>\n",
       "      <th></th>\n",
       "      <th></th>\n",
       "      <th></th>\n",
       "      <th></th>\n",
       "      <th></th>\n",
       "      <th></th>\n",
       "      <th></th>\n",
       "      <th></th>\n",
       "      <th></th>\n",
       "      <th></th>\n",
       "      <th></th>\n",
       "      <th></th>\n",
       "      <th></th>\n",
       "    </tr>\n",
       "  </thead>\n",
       "  <tbody>\n",
       "    <tr>\n",
       "      <th>412957</th>\n",
       "      <td>A</td>\n",
       "      <td>A</td>\n",
       "      <td>A</td>\n",
       "      <td>C</td>\n",
       "      <td>B</td>\n",
       "      <td>C</td>\n",
       "      <td>A</td>\n",
       "      <td>D</td>\n",
       "      <td>G</td>\n",
       "      <td>1.035400</td>\n",
       "      <td>...</td>\n",
       "      <td>0.284988</td>\n",
       "      <td>0.777432</td>\n",
       "      <td>0.391158</td>\n",
       "      <td>0.575325</td>\n",
       "      <td>0.449008</td>\n",
       "      <td>0.808493</td>\n",
       "      <td>0.638874</td>\n",
       "      <td>0.620083</td>\n",
       "      <td>0.860327</td>\n",
       "      <td>0.796654</td>\n",
       "    </tr>\n",
       "    <tr>\n",
       "      <th>282449</th>\n",
       "      <td>A</td>\n",
       "      <td>A</td>\n",
       "      <td>A</td>\n",
       "      <td>C</td>\n",
       "      <td>B</td>\n",
       "      <td>B</td>\n",
       "      <td>A</td>\n",
       "      <td>E</td>\n",
       "      <td>E</td>\n",
       "      <td>0.552942</td>\n",
       "      <td>...</td>\n",
       "      <td>0.979303</td>\n",
       "      <td>0.388542</td>\n",
       "      <td>0.392169</td>\n",
       "      <td>0.251943</td>\n",
       "      <td>0.257683</td>\n",
       "      <td>0.289205</td>\n",
       "      <td>0.753284</td>\n",
       "      <td>0.108515</td>\n",
       "      <td>0.223745</td>\n",
       "      <td>0.867225</td>\n",
       "    </tr>\n",
       "    <tr>\n",
       "      <th>164867</th>\n",
       "      <td>A</td>\n",
       "      <td>A</td>\n",
       "      <td>A</td>\n",
       "      <td>A</td>\n",
       "      <td>B</td>\n",
       "      <td>B</td>\n",
       "      <td>A</td>\n",
       "      <td>E</td>\n",
       "      <td>F</td>\n",
       "      <td>0.300135</td>\n",
       "      <td>...</td>\n",
       "      <td>0.528495</td>\n",
       "      <td>0.877585</td>\n",
       "      <td>0.692778</td>\n",
       "      <td>0.394110</td>\n",
       "      <td>0.372842</td>\n",
       "      <td>0.603872</td>\n",
       "      <td>0.729337</td>\n",
       "      <td>0.572204</td>\n",
       "      <td>0.381617</td>\n",
       "      <td>0.528454</td>\n",
       "    </tr>\n",
       "    <tr>\n",
       "      <th>541</th>\n",
       "      <td>A</td>\n",
       "      <td>B</td>\n",
       "      <td>A</td>\n",
       "      <td>C</td>\n",
       "      <td>B</td>\n",
       "      <td>B</td>\n",
       "      <td>A</td>\n",
       "      <td>E</td>\n",
       "      <td>E</td>\n",
       "      <td>0.423174</td>\n",
       "      <td>...</td>\n",
       "      <td>0.795973</td>\n",
       "      <td>0.254421</td>\n",
       "      <td>0.279979</td>\n",
       "      <td>0.244269</td>\n",
       "      <td>0.549558</td>\n",
       "      <td>0.318729</td>\n",
       "      <td>0.093974</td>\n",
       "      <td>0.428488</td>\n",
       "      <td>0.176486</td>\n",
       "      <td>0.250280</td>\n",
       "    </tr>\n",
       "    <tr>\n",
       "      <th>80790</th>\n",
       "      <td>B</td>\n",
       "      <td>B</td>\n",
       "      <td>A</td>\n",
       "      <td>C</td>\n",
       "      <td>B</td>\n",
       "      <td>D</td>\n",
       "      <td>A</td>\n",
       "      <td>E</td>\n",
       "      <td>A</td>\n",
       "      <td>0.667090</td>\n",
       "      <td>...</td>\n",
       "      <td>0.809695</td>\n",
       "      <td>0.412479</td>\n",
       "      <td>0.345747</td>\n",
       "      <td>0.537579</td>\n",
       "      <td>1.023082</td>\n",
       "      <td>0.433388</td>\n",
       "      <td>0.814753</td>\n",
       "      <td>0.655539</td>\n",
       "      <td>0.923203</td>\n",
       "      <td>0.467355</td>\n",
       "    </tr>\n",
       "  </tbody>\n",
       "</table>\n",
       "<p>5 rows × 23 columns</p>\n",
       "</div>"
      ],
      "text/plain": [
       "       cat0 cat1 cat2 cat3 cat4 cat5 cat6 cat7 cat8     cont0  ...     cont4  \\\n",
       "id                                                             ...             \n",
       "412957    A    A    A    C    B    C    A    D    G  1.035400  ...  0.284988   \n",
       "282449    A    A    A    C    B    B    A    E    E  0.552942  ...  0.979303   \n",
       "164867    A    A    A    A    B    B    A    E    F  0.300135  ...  0.528495   \n",
       "541       A    B    A    C    B    B    A    E    E  0.423174  ...  0.795973   \n",
       "80790     B    B    A    C    B    D    A    E    A  0.667090  ...  0.809695   \n",
       "\n",
       "           cont5     cont6     cont7     cont8     cont9    cont10    cont11  \\\n",
       "id                                                                             \n",
       "412957  0.777432  0.391158  0.575325  0.449008  0.808493  0.638874  0.620083   \n",
       "282449  0.388542  0.392169  0.251943  0.257683  0.289205  0.753284  0.108515   \n",
       "164867  0.877585  0.692778  0.394110  0.372842  0.603872  0.729337  0.572204   \n",
       "541     0.254421  0.279979  0.244269  0.549558  0.318729  0.093974  0.428488   \n",
       "80790   0.412479  0.345747  0.537579  1.023082  0.433388  0.814753  0.655539   \n",
       "\n",
       "          cont12    cont13  \n",
       "id                          \n",
       "412957  0.860327  0.796654  \n",
       "282449  0.223745  0.867225  \n",
       "164867  0.381617  0.528454  \n",
       "541     0.176486  0.250280  \n",
       "80790   0.923203  0.467355  \n",
       "\n",
       "[5 rows x 23 columns]"
      ]
     },
     "execution_count": 2,
     "metadata": {},
     "output_type": "execute_result"
    }
   ],
   "source": [
    "# Load the training and test data. We set index_col=0 in the code cell below to use the id column to index the DataFrame. \n",
    "X_train_full = pd.read_csv(\"../input/30-days-of-ml/train.csv\", index_col=0)\n",
    "X_test_full = pd.read_csv(\"../input/30-days-of-ml/test.csv\", index_col=0)\n",
    "\n",
    "# Separate target (designated \"y\") from the training features.\n",
    "y = X_train_full['target']\n",
    "X = X_train_full.drop(['target'], axis=1)\n",
    "\n",
    "# Divide data into training and validation subsets\n",
    "X_train, X_valid, y_train, y_valid = train_test_split(X, y, random_state=0)\n",
    "\n",
    "# Select categorical columns with relatively low cardinality\n",
    "object_cols = [col for col in X.columns if 'cat' in col and X[col].nunique() < 10] # We are separating the categorical columns by the column name, previously we had done this by checking the data type of each column.\n",
    "\n",
    "# Select numerical columns\n",
    "num_cols = [col for col in X.columns if 'cont' in col]\n",
    "\n",
    "# Keep selected columns only\n",
    "my_cols = object_cols + num_cols\n",
    "X_train = X_train[my_cols].copy()\n",
    "X_valid = X_valid[my_cols].copy()\n",
    "X_test = X_test_full[my_cols].copy()\n",
    "\n",
    "# Take a peek at the training data\n",
    "X_train.head()"
   ]
  },
  {
   "cell_type": "markdown",
   "id": "10163277",
   "metadata": {
    "papermill": {
     "duration": 0.015344,
     "end_time": "2021-08-23T15:24:35.225208",
     "exception": false,
     "start_time": "2021-08-23T15:24:35.209864",
     "status": "completed"
    },
    "tags": []
   },
   "source": [
    "Let's check the shape of the data matrices, as well as if we have any missing values:\n"
   ]
  },
  {
   "cell_type": "code",
   "execution_count": 3,
   "id": "82c5a94a",
   "metadata": {
    "execution": {
     "iopub.execute_input": "2021-08-23T15:24:35.260234Z",
     "iopub.status.busy": "2021-08-23T15:24:35.259209Z",
     "iopub.status.idle": "2021-08-23T15:24:35.767730Z",
     "shell.execute_reply": "2021-08-23T15:24:35.767201Z",
     "shell.execute_reply.started": "2021-08-23T15:22:14.140931Z"
    },
    "papermill": {
     "duration": 0.52709,
     "end_time": "2021-08-23T15:24:35.767871",
     "exception": false,
     "start_time": "2021-08-23T15:24:35.240781",
     "status": "completed"
    },
    "tags": []
   },
   "outputs": [
    {
     "name": "stdout",
     "output_type": "stream",
     "text": [
      "######################################## \n",
      "X_train_full\n",
      "There are 300000 rows and 25 columns\n",
      "There are 0.0 missing values\n",
      "######################################## \n",
      "X_test_full\n",
      "There are 200000 rows and 24 columns\n",
      "There are 0.0 missing values\n"
     ]
    }
   ],
   "source": [
    "#check shape and missing values  \n",
    "print(\"#\"*40,\"\\nX_train_full\")\n",
    "print(f'There are {X_train_full.shape[0]} rows and {X_train_full.shape[1]} columns') # fstring \n",
    "#display(missing_df.sort_values(by='Missing', ascending=False))\n",
    "print(f'There are {X_train_full.isnull().sum().mean()} missing values')\n",
    "\n",
    "print(\"#\"*40,\"\\nX_test_full\")\n",
    "print(f'There are {X_test_full.shape[0]} rows and {X_test_full.shape[1]} columns') # fstring \n",
    "#display(missing_df.sort_values(by='Missing', ascending=False))\n",
    "print(f'There are {X_test_full.isnull().sum().mean()} missing values')"
   ]
  },
  {
   "cell_type": "markdown",
   "id": "70d3084e",
   "metadata": {
    "papermill": {
     "duration": 0.015902,
     "end_time": "2021-08-23T15:24:35.799744",
     "exception": false,
     "start_time": "2021-08-23T15:24:35.783842",
     "status": "completed"
    },
    "tags": []
   },
   "source": [
    "As we can see, there are no missing values, so there is no need for imputing. Next, let's set up the pipeline. "
   ]
  },
  {
   "cell_type": "markdown",
   "id": "c13ce70d",
   "metadata": {
    "papermill": {
     "duration": 0.015968,
     "end_time": "2021-08-23T15:24:35.832016",
     "exception": false,
     "start_time": "2021-08-23T15:24:35.816048",
     "status": "completed"
    },
    "tags": []
   },
   "source": [
    "## 3. Building the pipeline\n",
    "### 3.1: Define Preprocessing Steps\n",
    "We'll use the ColumnTransformer class to bundle together different preprocessing steps. The code below will impute missing values in numerical and categorical data, and apply a **ordinal encoding** to categorical data."
   ]
  },
  {
   "cell_type": "code",
   "execution_count": 4,
   "id": "4b3b97e4",
   "metadata": {
    "execution": {
     "iopub.execute_input": "2021-08-23T15:24:35.870870Z",
     "iopub.status.busy": "2021-08-23T15:24:35.870202Z",
     "iopub.status.idle": "2021-08-23T15:24:35.872559Z",
     "shell.execute_reply": "2021-08-23T15:24:35.873063Z",
     "shell.execute_reply.started": "2021-08-23T15:22:15.999860Z"
    },
    "papermill": {
     "duration": 0.024891,
     "end_time": "2021-08-23T15:24:35.873228",
     "exception": false,
     "start_time": "2021-08-23T15:24:35.848337",
     "status": "completed"
    },
    "tags": []
   },
   "outputs": [],
   "source": [
    "# Preprocessing for numerical data\n",
    "numerical_transformer = SimpleImputer(strategy='constant')\n",
    "\n",
    "# Preprocessing for categorical data\n",
    "categorical_transformer = Pipeline(steps=[('imputer', SimpleImputer(strategy='most_frequent')),('ordinal', OrdinalEncoder())])\n",
    "\n",
    "# Bundle preprocessing for numerical and categorical data\n",
    "preprocessor = ColumnTransformer(transformers=[('num', numerical_transformer, num_cols),('cat', categorical_transformer, object_cols)])"
   ]
  },
  {
   "cell_type": "markdown",
   "id": "729877b4",
   "metadata": {
    "papermill": {
     "duration": 0.015564,
     "end_time": "2021-08-23T15:24:35.904651",
     "exception": false,
     "start_time": "2021-08-23T15:24:35.889087",
     "status": "completed"
    },
    "tags": []
   },
   "source": [
    "### 3.2: Define the Model\n",
    "Next, we define a random forest model with the familiar RandomForestRegressor class, with the same parameters as the v1 notebook to ensure repeatability."
   ]
  },
  {
   "cell_type": "code",
   "execution_count": 5,
   "id": "4d1c1ad6",
   "metadata": {
    "execution": {
     "iopub.execute_input": "2021-08-23T15:24:35.940201Z",
     "iopub.status.busy": "2021-08-23T15:24:35.939540Z",
     "iopub.status.idle": "2021-08-23T15:24:35.944733Z",
     "shell.execute_reply": "2021-08-23T15:24:35.944236Z",
     "shell.execute_reply.started": "2021-08-23T14:43:36.798804Z"
    },
    "papermill": {
     "duration": 0.024175,
     "end_time": "2021-08-23T15:24:35.944869",
     "exception": false,
     "start_time": "2021-08-23T15:24:35.920694",
     "status": "completed"
    },
    "tags": []
   },
   "outputs": [],
   "source": [
    "# Define the model \n",
    "model = RandomForestRegressor(random_state=1)"
   ]
  },
  {
   "cell_type": "markdown",
   "id": "a9f46dd0",
   "metadata": {
    "papermill": {
     "duration": 0.015708,
     "end_time": "2021-08-23T15:24:35.976500",
     "exception": false,
     "start_time": "2021-08-23T15:24:35.960792",
     "status": "completed"
    },
    "tags": []
   },
   "source": [
    "### 3.3: Create and Evaluate the Pipeline\n",
    "Finally, we use the Pipeline class to define a pipeline that bundles the preprocessing and modeling steps. Let's remember two important things:\n",
    "* With the pipeline, we preprocess the training data and fit the model in a single line of code. (In contrast, without a pipeline, we have to do imputation, one-hot encoding, and model training in separate steps. This becomes especially messy if we have to deal with both numerical and categorical variables!)\n",
    "* With the pipeline, we supply the unprocessed features in X_valid to the predict() command, and the pipeline automatically preprocesses the features before generating predictions. (However, without a pipeline, we have to remember to preprocess the validation data before making predictions.)"
   ]
  },
  {
   "cell_type": "code",
   "execution_count": 6,
   "id": "4fada748",
   "metadata": {
    "execution": {
     "iopub.execute_input": "2021-08-23T15:24:36.028333Z",
     "iopub.status.busy": "2021-08-23T15:24:36.027618Z",
     "iopub.status.idle": "2021-08-23T15:35:01.721882Z",
     "shell.execute_reply": "2021-08-23T15:35:01.722414Z",
     "shell.execute_reply.started": "2021-08-23T14:43:37.397433Z"
    },
    "papermill": {
     "duration": 625.729901,
     "end_time": "2021-08-23T15:35:01.722623",
     "exception": false,
     "start_time": "2021-08-23T15:24:35.992722",
     "status": "completed"
    },
    "tags": []
   },
   "outputs": [
    {
     "name": "stdout",
     "output_type": "stream",
     "text": [
      "0.7374912586954285\n"
     ]
    }
   ],
   "source": [
    "# Bundle preprocessing and modeling code in a pipeline\n",
    "my_pipeline = Pipeline(steps=[('preprocessor', preprocessor), ('model', model)])\n",
    "\n",
    "# Preprocessing of training data, fit model (will take about 10 minutes to run)\n",
    "my_pipeline.fit(X_train, y_train)\n",
    "\n",
    "# Preprocessing of validation data, get predictions\n",
    "preds_valid = my_pipeline.predict(X_valid)\n",
    "\n",
    "print(mean_squared_error(y_valid, preds_valid, squared=False)) # We set squared=False to get the root mean squared error (RMSE) on the validation data, as this is the competition's requirement."
   ]
  },
  {
   "cell_type": "markdown",
   "id": "b860edf6",
   "metadata": {
    "papermill": {
     "duration": 0.015661,
     "end_time": "2021-08-23T15:35:01.754231",
     "exception": false,
     "start_time": "2021-08-23T15:35:01.738570",
     "status": "completed"
    },
    "tags": []
   },
   "source": [
    "Previous score was 0.7375392165180452, let's compare:"
   ]
  },
  {
   "cell_type": "code",
   "execution_count": 7,
   "id": "b558b6f7",
   "metadata": {
    "execution": {
     "iopub.execute_input": "2021-08-23T15:35:01.789831Z",
     "iopub.status.busy": "2021-08-23T15:35:01.788856Z",
     "iopub.status.idle": "2021-08-23T15:35:01.794784Z",
     "shell.execute_reply": "2021-08-23T15:35:01.794250Z",
     "shell.execute_reply.started": "2021-08-23T15:08:54.120926Z"
    },
    "papermill": {
     "duration": 0.024696,
     "end_time": "2021-08-23T15:35:01.794917",
     "exception": false,
     "start_time": "2021-08-23T15:35:01.770221",
     "status": "completed"
    },
    "tags": []
   },
   "outputs": [
    {
     "name": "stdout",
     "output_type": "stream",
     "text": [
      "4.7957822616684354e-05\n"
     ]
    }
   ],
   "source": [
    "print(abs(0.7375392165180452-0.7374912586954285))"
   ]
  },
  {
   "cell_type": "markdown",
   "id": "9952af2f",
   "metadata": {
    "papermill": {
     "duration": 0.016821,
     "end_time": "2021-08-23T15:35:01.828402",
     "exception": false,
     "start_time": "2021-08-23T15:35:01.811581",
     "status": "completed"
    },
    "tags": []
   },
   "source": [
    "This is a very small difference accountable for the fact that we are comparing the X_valid predictions to the X_test predictions, so we can consider that the pipeline was correctly implemented! Now, let's obtain the predictions using the X_test set, and compare that MAE."
   ]
  },
  {
   "cell_type": "markdown",
   "id": "ebed8bc5",
   "metadata": {
    "papermill": {
     "duration": 0.017091,
     "end_time": "2021-08-23T15:35:01.862066",
     "exception": false,
     "start_time": "2021-08-23T15:35:01.844975",
     "status": "completed"
    },
    "tags": []
   },
   "source": [
    "## 5. Submit predictions"
   ]
  },
  {
   "cell_type": "code",
   "execution_count": 8,
   "id": "539b56d0",
   "metadata": {
    "execution": {
     "iopub.execute_input": "2021-08-23T15:35:01.908299Z",
     "iopub.status.busy": "2021-08-23T15:35:01.907633Z",
     "iopub.status.idle": "2021-08-23T15:35:15.213466Z",
     "shell.execute_reply": "2021-08-23T15:35:15.212875Z",
     "shell.execute_reply.started": "2021-08-23T15:16:46.638720Z"
    },
    "papermill": {
     "duration": 13.334819,
     "end_time": "2021-08-23T15:35:15.213637",
     "exception": false,
     "start_time": "2021-08-23T15:35:01.878818",
     "status": "completed"
    },
    "tags": []
   },
   "outputs": [],
   "source": [
    "# Use the model to generate predictions\n",
    "predictions = my_pipeline.predict(X_test)\n",
    "\n",
    "# Save the predictions to a CSV file\n",
    "output = pd.DataFrame({'Id': X_test.index,\n",
    "                       'target': predictions})\n",
    "output.to_csv('submission.csv', index=False)"
   ]
  },
  {
   "cell_type": "markdown",
   "id": "d2b666f7",
   "metadata": {
    "papermill": {
     "duration": 0.016687,
     "end_time": "2021-08-23T15:35:15.247559",
     "exception": false,
     "start_time": "2021-08-23T15:35:15.230872",
     "status": "completed"
    },
    "tags": []
   },
   "source": [
    "Next up, let's try using one-hot encoding and an XGBoost model!"
   ]
  },
  {
   "cell_type": "code",
   "execution_count": null,
   "id": "553e158b",
   "metadata": {
    "papermill": {
     "duration": 0.021054,
     "end_time": "2021-08-23T15:35:15.286887",
     "exception": false,
     "start_time": "2021-08-23T15:35:15.265833",
     "status": "completed"
    },
    "tags": []
   },
   "outputs": [],
   "source": []
  }
 ],
 "metadata": {
  "kernelspec": {
   "display_name": "Python 3",
   "language": "python",
   "name": "python3"
  },
  "language_info": {
   "codemirror_mode": {
    "name": "ipython",
    "version": 3
   },
   "file_extension": ".py",
   "mimetype": "text/x-python",
   "name": "python",
   "nbconvert_exporter": "python",
   "pygments_lexer": "ipython3",
   "version": "3.7.10"
  },
  "papermill": {
   "default_parameters": {},
   "duration": 655.999197,
   "end_time": "2021-08-23T15:35:16.858833",
   "environment_variables": {},
   "exception": null,
   "input_path": "__notebook__.ipynb",
   "output_path": "__notebook__.ipynb",
   "parameters": {},
   "start_time": "2021-08-23T15:24:20.859636",
   "version": "2.3.3"
  }
 },
 "nbformat": 4,
 "nbformat_minor": 5
}
