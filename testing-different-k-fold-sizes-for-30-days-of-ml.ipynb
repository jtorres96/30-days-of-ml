{
 "cells": [
  {
   "cell_type": "markdown",
   "id": "75bfdcc3",
   "metadata": {
    "_cell_guid": "b1076dfc-b9ad-4769-8c92-a6c4dae69d19",
    "_uuid": "8f2839f25d086af736a60e9eeb907d3b93b6e0e5",
    "papermill": {
     "duration": 0.007293,
     "end_time": "2021-08-26T22:14:43.765749",
     "exception": false,
     "start_time": "2021-08-26T22:14:43.758456",
     "status": "completed"
    },
    "tags": []
   },
   "source": [
    "# Testing Different k-fold Sizes for 30 Days of ML Challenge"
   ]
  },
  {
   "cell_type": "markdown",
   "id": "53c4d1d5",
   "metadata": {
    "papermill": {
     "duration": 0.005987,
     "end_time": "2021-08-26T22:14:43.778238",
     "exception": false,
     "start_time": "2021-08-26T22:14:43.772251",
     "status": "completed"
    },
    "tags": []
   },
   "source": [
    "We are going to evaluate different k-fold sizes to check if performance increases before doing any kind of optimization:"
   ]
  },
  {
   "cell_type": "code",
   "execution_count": 1,
   "id": "291c9f63",
   "metadata": {
    "execution": {
     "iopub.execute_input": "2021-08-26T22:14:43.803770Z",
     "iopub.status.busy": "2021-08-26T22:14:43.803145Z",
     "iopub.status.idle": "2021-08-26T22:14:44.687975Z",
     "shell.execute_reply": "2021-08-26T22:14:44.687114Z",
     "shell.execute_reply.started": "2021-08-26T21:39:12.585007Z"
    },
    "papermill": {
     "duration": 0.903937,
     "end_time": "2021-08-26T22:14:44.688209",
     "exception": false,
     "start_time": "2021-08-26T22:14:43.784272",
     "status": "completed"
    },
    "tags": []
   },
   "outputs": [
    {
     "name": "stdout",
     "output_type": "stream",
     "text": [
      "/kaggle/input/30-days-of-ml/sample_submission.csv\n",
      "/kaggle/input/30-days-of-ml/train.csv\n",
      "/kaggle/input/30-days-of-ml/test.csv\n",
      "/kaggle/input/train-folds-k-folds-30-days-of-ml/train_folds_20_folds.csv\n",
      "/kaggle/input/train-folds-k-folds-30-days-of-ml/train_folds_50_folds.csv\n",
      "/kaggle/input/train-folds-k-folds-30-days-of-ml/train_folds_15_folds.csv\n",
      "/kaggle/input/train-folds-k-folds-30-days-of-ml/train_folds_30_folds.csv\n",
      "/kaggle/input/train-folds-k-folds-30-days-of-ml/train_folds_5_folds.csv\n",
      "/kaggle/input/train-folds-k-folds-30-days-of-ml/train_folds_25_folds.csv\n",
      "/kaggle/input/train-folds-k-folds-30-days-of-ml/train_folds_10_folds.csv\n",
      "/kaggle/input/train-folds-k-folds-30-days-of-ml/train_folds_12_folds.csv\n",
      "/kaggle/input/train-folds-k-folds-30-days-of-ml/train_folds_60_folds.csv\n",
      "/kaggle/input/train-folds-k-folds-30-days-of-ml/train_folds_40_folds.csv\n",
      "/kaggle/input/train-folds-k-folds-30-days-of-ml/train_folds_3_folds.csv\n",
      "/kaggle/input/train-folds-k-folds-30-days-of-ml/train_folds_6_folds.csv\n"
     ]
    }
   ],
   "source": [
    "import numpy as np # linear algebra\n",
    "import pandas as pd # data processing, CSV file I/O (e.g. pd.read_csv)\n",
    "\n",
    "# For one-hot encoding categorical variables\n",
    "from sklearn.preprocessing import OneHotEncoder\n",
    "from sklearn import preprocessing\n",
    "\n",
    "# For the construction of the pipeline\n",
    "from sklearn.compose import ColumnTransformer\n",
    "from sklearn.pipeline import Pipeline\n",
    "\n",
    "# For training the XGBoost model\n",
    "from xgboost import XGBRegressor\n",
    "\n",
    "# For the mean squared error needed to calculate our scores\n",
    "from sklearn.metrics import mean_squared_error\n",
    "\n",
    "# For keeping the time\n",
    "import time\n",
    "\n",
    "# For graphing\n",
    "import matplotlib.pyplot as plt\n",
    "\n",
    "# Input data files are available in the read-only \"../input/\" directory\n",
    "# For example, running this (by clicking run or pressing Shift+Enter) will list all files under the input directory\n",
    "\n",
    "import os\n",
    "for dirname, _, filenames in os.walk('/kaggle/input'):\n",
    "    for filename in filenames:\n",
    "        print(os.path.join(dirname, filename))\n",
    "\n",
    "# You can write up to 20GB to the current directory (/kaggle/working/) that gets preserved as output when you create a version using \"Save & Run All\" \n",
    "# You can also write temporary files to /kaggle/temp/, but they won't be saved outside of the current session"
   ]
  },
  {
   "cell_type": "code",
   "execution_count": 2,
   "id": "839f4f99",
   "metadata": {
    "execution": {
     "iopub.execute_input": "2021-08-26T22:14:44.705954Z",
     "iopub.status.busy": "2021-08-26T22:14:44.705223Z",
     "iopub.status.idle": "2021-08-26T22:14:44.708061Z",
     "shell.execute_reply": "2021-08-26T22:14:44.707617Z",
     "shell.execute_reply.started": "2021-08-26T21:39:13.514309Z"
    },
    "papermill": {
     "duration": 0.01234,
     "end_time": "2021-08-26T22:14:44.708184",
     "exception": false,
     "start_time": "2021-08-26T22:14:44.695844",
     "status": "completed"
    },
    "tags": []
   },
   "outputs": [],
   "source": [
    "# We set up a dictionary that will store the fold number as a key and the RMSE as a value: \n",
    "fold_results = dict()"
   ]
  },
  {
   "cell_type": "code",
   "execution_count": 3,
   "id": "f447e6d6",
   "metadata": {
    "execution": {
     "iopub.execute_input": "2021-08-26T22:14:44.740263Z",
     "iopub.status.busy": "2021-08-26T22:14:44.739635Z",
     "iopub.status.idle": "2021-08-26T22:39:33.132212Z",
     "shell.execute_reply": "2021-08-26T22:39:33.133458Z",
     "shell.execute_reply.started": "2021-08-26T21:39:13.520452Z"
    },
    "papermill": {
     "duration": 1488.419282,
     "end_time": "2021-08-26T22:39:33.133709",
     "exception": false,
     "start_time": "2021-08-26T22:14:44.714427",
     "status": "completed"
    },
    "tags": []
   },
   "outputs": [
    {
     "name": "stderr",
     "output_type": "stream",
     "text": [
      "/opt/conda/lib/python3.7/site-packages/ipykernel_launcher.py:8: DeprecationWarning: time.clock has been deprecated in Python 3.3 and will be removed from Python 3.8: use time.perf_counter or time.process_time instead\n",
      "  \n"
     ]
    },
    {
     "name": "stdout",
     "output_type": "stream",
     "text": [
      "0 0.726240273778108\n",
      "1 0.7288563477487658\n",
      "2 0.7380693750098901\n",
      "0.7310553321789213 0.005073365640347451\n",
      "19.293560999999997 seconds\n"
     ]
    },
    {
     "name": "stderr",
     "output_type": "stream",
     "text": [
      "/opt/conda/lib/python3.7/site-packages/ipykernel_launcher.py:101: DeprecationWarning: time.clock has been deprecated in Python 3.3 and will be removed from Python 3.8: use time.perf_counter or time.process_time instead\n",
      "/opt/conda/lib/python3.7/site-packages/ipykernel_launcher.py:8: DeprecationWarning: time.clock has been deprecated in Python 3.3 and will be removed from Python 3.8: use time.perf_counter or time.process_time instead\n",
      "  \n"
     ]
    },
    {
     "name": "stdout",
     "output_type": "stream",
     "text": [
      "0 0.7227030406324084\n",
      "1 0.7306875651326146\n",
      "2 0.7264380957570341\n",
      "3 0.7285041616809392\n",
      "4 0.7446395076435606\n",
      "0.7305944741693114 0.007499216522979915\n",
      "29.404221 seconds\n"
     ]
    },
    {
     "name": "stderr",
     "output_type": "stream",
     "text": [
      "/opt/conda/lib/python3.7/site-packages/ipykernel_launcher.py:101: DeprecationWarning: time.clock has been deprecated in Python 3.3 and will be removed from Python 3.8: use time.perf_counter or time.process_time instead\n",
      "/opt/conda/lib/python3.7/site-packages/ipykernel_launcher.py:8: DeprecationWarning: time.clock has been deprecated in Python 3.3 and will be removed from Python 3.8: use time.perf_counter or time.process_time instead\n",
      "  \n"
     ]
    },
    {
     "name": "stdout",
     "output_type": "stream",
     "text": [
      "0 0.724347082554987\n",
      "1 0.7248725007929738\n",
      "2 0.7313931672527008\n",
      "3 0.7231091976428798\n",
      "4 0.7293228498533855\n",
      "5 0.7863747914497826\n",
      "0.7365699315911183 0.022462051080777617\n",
      "34.735527000000005 seconds\n"
     ]
    },
    {
     "name": "stderr",
     "output_type": "stream",
     "text": [
      "/opt/conda/lib/python3.7/site-packages/ipykernel_launcher.py:101: DeprecationWarning: time.clock has been deprecated in Python 3.3 and will be removed from Python 3.8: use time.perf_counter or time.process_time instead\n",
      "/opt/conda/lib/python3.7/site-packages/ipykernel_launcher.py:8: DeprecationWarning: time.clock has been deprecated in Python 3.3 and will be removed from Python 3.8: use time.perf_counter or time.process_time instead\n",
      "  \n"
     ]
    },
    {
     "name": "stdout",
     "output_type": "stream",
     "text": [
      "0 0.7216500566497908\n",
      "1 0.7226179799873971\n",
      "2 0.7266011252543036\n",
      "3 0.7526592732650232\n",
      "4 0.7268943391996648\n",
      "5 0.7255378853166236\n",
      "6 0.7237888891048\n",
      "7 0.7268900014297455\n",
      "8 0.7216664118432697\n",
      "9 0.7219362759657763\n",
      "0.7270242238016393 0.008791679424357579\n",
      "56.848594000000006 seconds\n"
     ]
    },
    {
     "name": "stderr",
     "output_type": "stream",
     "text": [
      "/opt/conda/lib/python3.7/site-packages/ipykernel_launcher.py:101: DeprecationWarning: time.clock has been deprecated in Python 3.3 and will be removed from Python 3.8: use time.perf_counter or time.process_time instead\n",
      "/opt/conda/lib/python3.7/site-packages/ipykernel_launcher.py:8: DeprecationWarning: time.clock has been deprecated in Python 3.3 and will be removed from Python 3.8: use time.perf_counter or time.process_time instead\n",
      "  \n"
     ]
    },
    {
     "name": "stdout",
     "output_type": "stream",
     "text": [
      "0 0.72486127042736\n",
      "1 0.7227939061244889\n",
      "2 0.7216171088433959\n",
      "3 0.7293938669346249\n",
      "4 0.7342210353529476\n",
      "5 0.7274793389698482\n",
      "6 0.7241330562833703\n",
      "7 0.7222636126733094\n",
      "8 0.7931364829200374\n",
      "9 0.7207233150706803\n",
      "10 0.7206087761883729\n",
      "11 0.7203987220644685\n",
      "0.7301358743210753 0.019407577172361808\n",
      "68.51995599999998 seconds\n"
     ]
    },
    {
     "name": "stderr",
     "output_type": "stream",
     "text": [
      "/opt/conda/lib/python3.7/site-packages/ipykernel_launcher.py:101: DeprecationWarning: time.clock has been deprecated in Python 3.3 and will be removed from Python 3.8: use time.perf_counter or time.process_time instead\n",
      "/opt/conda/lib/python3.7/site-packages/ipykernel_launcher.py:8: DeprecationWarning: time.clock has been deprecated in Python 3.3 and will be removed from Python 3.8: use time.perf_counter or time.process_time instead\n",
      "  \n"
     ]
    },
    {
     "name": "stdout",
     "output_type": "stream",
     "text": [
      "0 0.7250686711162421\n",
      "1 0.721032309461783\n",
      "2 0.7206892792486921\n",
      "3 0.7281308319261918\n",
      "4 0.7264377441335658\n",
      "5 0.7364385768430419\n",
      "6 0.7249966374030415\n",
      "7 0.7259483377834172\n",
      "8 0.7277411641672034\n",
      "9 0.7202896428534751\n",
      "10 0.7640276518087451\n",
      "11 0.7257135166397704\n",
      "12 0.7235665951902892\n",
      "13 0.7178149120108698\n",
      "14 0.7210648745973834\n",
      "0.727264049678914 0.010719402669073569\n",
      "85.98684 seconds\n"
     ]
    },
    {
     "name": "stderr",
     "output_type": "stream",
     "text": [
      "/opt/conda/lib/python3.7/site-packages/ipykernel_launcher.py:101: DeprecationWarning: time.clock has been deprecated in Python 3.3 and will be removed from Python 3.8: use time.perf_counter or time.process_time instead\n",
      "/opt/conda/lib/python3.7/site-packages/ipykernel_launcher.py:8: DeprecationWarning: time.clock has been deprecated in Python 3.3 and will be removed from Python 3.8: use time.perf_counter or time.process_time instead\n",
      "  \n"
     ]
    },
    {
     "name": "stdout",
     "output_type": "stream",
     "text": [
      "0 0.7247959246298631\n",
      "1 0.7189214022745\n",
      "2 0.7261883016891576\n",
      "3 0.7186873826446438\n",
      "4 0.7242490775641568\n",
      "5 0.7299728536649883\n",
      "6 0.7315720345005431\n",
      "7 0.737420180177257\n",
      "8 0.7230922131215075\n",
      "9 0.7289096632324976\n",
      "10 0.7214720264803933\n",
      "11 0.7277783405098667\n",
      "12 0.7191597921166464\n",
      "13 0.7273177792582529\n",
      "14 0.7370701565153659\n",
      "15 0.7200332777868793\n",
      "16 0.7233297395775672\n",
      "17 0.7202020738613919\n",
      "18 0.7156858919493768\n",
      "19 0.7210264085172221\n",
      "0.7248442260036039 0.005821479565386137\n",
      "115.66376100000002 seconds\n"
     ]
    },
    {
     "name": "stderr",
     "output_type": "stream",
     "text": [
      "/opt/conda/lib/python3.7/site-packages/ipykernel_launcher.py:101: DeprecationWarning: time.clock has been deprecated in Python 3.3 and will be removed from Python 3.8: use time.perf_counter or time.process_time instead\n",
      "/opt/conda/lib/python3.7/site-packages/ipykernel_launcher.py:8: DeprecationWarning: time.clock has been deprecated in Python 3.3 and will be removed from Python 3.8: use time.perf_counter or time.process_time instead\n",
      "  \n"
     ]
    },
    {
     "name": "stdout",
     "output_type": "stream",
     "text": [
      "0 0.7262820770761391\n",
      "1 0.7210503405523593\n",
      "2 0.719625018241032\n",
      "3 0.7249039362413777\n",
      "4 0.7180130897291278\n",
      "5 0.7199612618303323\n",
      "6 0.733916076652264\n",
      "7 0.7234594684685326\n",
      "8 0.7394789069971728\n",
      "9 0.7346413300152903\n",
      "10 0.7260694073932337\n",
      "11 0.7227394165417289\n",
      "12 0.7247713267231858\n",
      "13 0.7274679789719131\n",
      "14 0.7290454208085593\n",
      "15 0.7166850646699696\n",
      "16 0.7242900245747437\n",
      "17 0.739111148537091\n",
      "18 0.7307904012354525\n",
      "19 0.721140407751213\n",
      "20 0.7217517584628854\n",
      "21 0.7235993844898044\n",
      "22 0.7154919847364599\n",
      "23 0.7207183602659406\n",
      "24 0.7202799951836707\n",
      "0.7250113434459791 0.006306472530876451\n",
      "143.29923100000002 seconds\n"
     ]
    },
    {
     "name": "stderr",
     "output_type": "stream",
     "text": [
      "/opt/conda/lib/python3.7/site-packages/ipykernel_launcher.py:101: DeprecationWarning: time.clock has been deprecated in Python 3.3 and will be removed from Python 3.8: use time.perf_counter or time.process_time instead\n",
      "/opt/conda/lib/python3.7/site-packages/ipykernel_launcher.py:8: DeprecationWarning: time.clock has been deprecated in Python 3.3 and will be removed from Python 3.8: use time.perf_counter or time.process_time instead\n",
      "  \n"
     ]
    },
    {
     "name": "stdout",
     "output_type": "stream",
     "text": [
      "0 0.7253754851730413\n",
      "1 0.724272658389499\n",
      "2 0.7147678493146344\n",
      "3 0.724336728870372\n",
      "4 0.728894030294253\n",
      "5 0.7146256542474092\n",
      "6 0.7217916012785829\n",
      "7 0.7340576603575958\n",
      "8 0.7238582146686081\n",
      "9 0.7262593671713699\n",
      "10 0.7403424853052444\n",
      "11 0.7376328060518879\n",
      "12 0.7218115172538129\n",
      "13 0.7259028407919658\n",
      "14 0.728677564947701\n",
      "15 0.7190747980316566\n",
      "16 0.725565366562466\n",
      "17 0.7294782148144355\n",
      "18 0.7170170088536076\n",
      "19 0.7230376374144105\n",
      "20 0.7297154829755073\n",
      "21 0.7365987665222933\n",
      "22 0.7282952154191471\n",
      "23 0.7195959299899604\n",
      "24 0.7205083191214696\n",
      "25 0.7247478701472042\n",
      "26 0.7220180063326573\n",
      "27 0.7142323107371459\n",
      "28 0.7163647328533875\n",
      "29 0.7272618407119635\n",
      "0.7248705988201097 0.006550964373399811\n",
      "170.25196700000004 seconds\n"
     ]
    },
    {
     "name": "stderr",
     "output_type": "stream",
     "text": [
      "/opt/conda/lib/python3.7/site-packages/ipykernel_launcher.py:101: DeprecationWarning: time.clock has been deprecated in Python 3.3 and will be removed from Python 3.8: use time.perf_counter or time.process_time instead\n",
      "/opt/conda/lib/python3.7/site-packages/ipykernel_launcher.py:8: DeprecationWarning: time.clock has been deprecated in Python 3.3 and will be removed from Python 3.8: use time.perf_counter or time.process_time instead\n",
      "  \n"
     ]
    },
    {
     "name": "stdout",
     "output_type": "stream",
     "text": [
      "0 0.7236294674225684\n",
      "1 0.7253405959500994\n",
      "2 0.7219184418660667\n",
      "3 0.7116633760285356\n",
      "4 0.726690498203086\n",
      "5 0.7255961202129274\n",
      "6 0.7258474965587285\n",
      "7 0.7140296597180875\n",
      "8 0.713411882470135\n",
      "9 0.7353557327229859\n",
      "10 0.735932702993489\n",
      "11 0.7230282391421144\n",
      "12 0.7259009003277438\n",
      "13 0.7347115461701587\n",
      "14 0.7360798099568764\n",
      "15 0.7370251696119596\n",
      "16 0.7227990868953749\n",
      "17 0.7227218715187814\n",
      "18 0.7268353534114921\n",
      "19 0.7315270226348984\n",
      "20 0.7109786027912587\n",
      "21 0.7303914362354866\n",
      "22 0.7245348887063738\n",
      "23 0.732268257927054\n",
      "24 0.7161698207282042\n",
      "25 0.7271445629472211\n",
      "26 0.7212568623944257\n",
      "27 0.7289628152530561\n",
      "28 0.7413700007335182\n",
      "29 0.7364122403981654\n",
      "30 0.7261262279513913\n",
      "31 0.7128932404503384\n",
      "32 0.7235908789442482\n",
      "33 0.7217867030535263\n",
      "34 0.7237702612986829\n",
      "35 0.716910454225937\n",
      "36 0.7059129205083934\n",
      "37 0.7224278510082861\n",
      "38 0.7191058491038058\n",
      "39 0.723761915419761\n",
      "0.7246455190973811 0.007930273867589644\n",
      "225.65123500000004 seconds\n"
     ]
    },
    {
     "name": "stderr",
     "output_type": "stream",
     "text": [
      "/opt/conda/lib/python3.7/site-packages/ipykernel_launcher.py:101: DeprecationWarning: time.clock has been deprecated in Python 3.3 and will be removed from Python 3.8: use time.perf_counter or time.process_time instead\n",
      "/opt/conda/lib/python3.7/site-packages/ipykernel_launcher.py:8: DeprecationWarning: time.clock has been deprecated in Python 3.3 and will be removed from Python 3.8: use time.perf_counter or time.process_time instead\n",
      "  \n"
     ]
    },
    {
     "name": "stdout",
     "output_type": "stream",
     "text": [
      "0 0.727773661353735\n",
      "1 0.721065957818925\n",
      "2 0.7259413273826417\n",
      "3 0.717874577346928\n",
      "4 0.712965880705962\n",
      "5 0.7265708613582003\n",
      "6 0.7239788688126338\n",
      "7 0.7241526388871125\n",
      "8 0.7281874783688477\n",
      "9 0.7055166445130735\n",
      "10 0.7057721289558688\n",
      "11 0.7316069006172159\n",
      "12 0.7363231664944241\n",
      "13 0.726716718812712\n",
      "14 0.723477253827141\n",
      "15 0.7185206149625133\n",
      "16 0.738097652764281\n",
      "17 0.7459819372148339\n",
      "18 0.7322239932305741\n",
      "19 0.735414417334573\n",
      "20 0.7224029847101979\n",
      "21 0.725299003129433\n",
      "22 0.7289372802290986\n",
      "23 0.7149767952086576\n",
      "24 0.7357854683802144\n",
      "25 0.7079775998525158\n",
      "26 0.7310792736727302\n",
      "27 0.7235164907257331\n",
      "28 0.7232555307118953\n",
      "29 0.7328370553835982\n",
      "30 0.7173640232517623\n",
      "31 0.7140774330263828\n",
      "32 0.72670086978056\n",
      "33 0.7194140804858201\n",
      "34 0.732209029594512\n",
      "35 0.7342931600618536\n",
      "36 0.7300474249030868\n",
      "37 0.7296299907127244\n",
      "38 0.7267876284608258\n",
      "39 0.7141296566438688\n",
      "40 0.7241794315657074\n",
      "41 0.7185958253612791\n",
      "42 0.7247246822788249\n",
      "43 0.7191932684356491\n",
      "44 0.7174817953606761\n",
      "45 0.7103356099193305\n",
      "46 0.721273812014209\n",
      "47 0.7159278571332574\n",
      "48 0.7165873480988959\n",
      "49 0.7243352224955247\n",
      "0.7238303662470205 0.008451946145072515\n",
      "284.24254299999996 seconds\n"
     ]
    },
    {
     "name": "stderr",
     "output_type": "stream",
     "text": [
      "/opt/conda/lib/python3.7/site-packages/ipykernel_launcher.py:101: DeprecationWarning: time.clock has been deprecated in Python 3.3 and will be removed from Python 3.8: use time.perf_counter or time.process_time instead\n",
      "/opt/conda/lib/python3.7/site-packages/ipykernel_launcher.py:8: DeprecationWarning: time.clock has been deprecated in Python 3.3 and will be removed from Python 3.8: use time.perf_counter or time.process_time instead\n",
      "  \n"
     ]
    },
    {
     "name": "stdout",
     "output_type": "stream",
     "text": [
      "0 0.7271978334409201\n",
      "1 0.7192010969005624\n",
      "2 0.7244297215894143\n",
      "3 0.7253380452817284\n",
      "4 0.7232998591827744\n",
      "5 0.7060431001836422\n",
      "6 0.7258519055958771\n",
      "7 0.7244615109912486\n",
      "8 0.7259091877886391\n",
      "9 0.7307709977092687\n",
      "10 0.7164532145880432\n",
      "11 0.7069240103952872\n",
      "12 0.7064146285333626\n",
      "13 0.7344698225936341\n",
      "14 0.728066351404391\n",
      "15 0.7422835052740977\n",
      "16 0.7190767005851658\n",
      "17 0.7287771640493895\n",
      "18 0.7132112521453786\n",
      "19 0.7395796174966281\n",
      "20 0.7376930631104411\n",
      "21 0.734784701176888\n",
      "22 0.7347802841048088\n",
      "23 0.7344977525011235\n",
      "24 0.717485950857351\n",
      "25 0.7268934925193228\n",
      "26 0.7280194769530833\n",
      "27 0.7275072642359395\n",
      "28 0.718653657595074\n",
      "29 0.738916601579727\n",
      "30 0.7101179244517314\n",
      "31 0.7292265034386113\n",
      "32 0.722861065852606\n",
      "33 0.7252276289887919\n",
      "34 0.7258732575574015\n",
      "35 0.7331090271951612\n",
      "36 0.7153553150250374\n",
      "37 0.721560908684167\n",
      "38 0.7247857340371744\n",
      "39 0.7213832982009938\n",
      "40 0.7274098258046037\n",
      "41 0.7334581218119544\n",
      "42 0.7301965917766213\n",
      "43 0.7293283922733942\n",
      "44 0.7349901842875354\n",
      "45 0.7172056727631148\n",
      "46 0.7257501800738054\n",
      "47 0.7142733905007989\n",
      "48 0.7291965150113545\n",
      "49 0.7120571997457827\n",
      "50 0.7241561686089221\n",
      "51 0.7210703146048564\n",
      "52 0.717061453205406\n",
      "53 0.7221493507201553\n",
      "54 0.7074181261024863\n",
      "55 0.7183844689611395\n",
      "56 0.7166008005323947\n",
      "57 0.7164891084128405\n",
      "58 0.7295275687019808\n",
      "59 0.7209001093109945\n",
      "0.7240685996167505 0.008478981287686852\n",
      "341.3304820000001 seconds\n"
     ]
    },
    {
     "name": "stderr",
     "output_type": "stream",
     "text": [
      "/opt/conda/lib/python3.7/site-packages/ipykernel_launcher.py:101: DeprecationWarning: time.clock has been deprecated in Python 3.3 and will be removed from Python 3.8: use time.perf_counter or time.process_time instead\n"
     ]
    }
   ],
   "source": [
    "# We set the fold numbers\n",
    "fold_nums = [3, 5, 6, 10, 12, 15, 20, 25, 30, 40, 50, 60]\n",
    "\n",
    "# We set a for loop to loop across all fold numbers\n",
    "for fold_num in fold_nums:\n",
    "\n",
    "    # We start a timer\n",
    "    start_time = time.clock()\n",
    "\n",
    "    # Load the training and test data. \n",
    "    X_full = pd.read_csv(\"../input/train-folds-k-folds-30-days-of-ml/train_folds_\" + str(fold_num) +\"_folds.csv\")\n",
    "    X_test_full = pd.read_csv(\"../input/30-days-of-ml/test.csv\")\n",
    "\n",
    "    # We select all features except \"id\", \"target\" and \"kfold\", as these are not predictors of our target.\n",
    "    useful_features = [c for c in X_full.columns if c not in (\"id\", \"target\", \"kfold\")]\n",
    "\n",
    "    # We select categorical columns. Note that we dropped the cardinality check.\n",
    "    object_cols = [col for col in useful_features if 'cat' in col]\n",
    "\n",
    "    # We build X_test out of X_test_full, but only selecting the useful features.\n",
    "    X_test = X_test_full[useful_features]\n",
    "\n",
    "    # Next up, we set up the for loop which will perform the target encoding:\n",
    "    for col in object_cols: \n",
    "        temp_X_full = [] # We create a temporary list to store the dataframes.\n",
    "        temp_test_feature = None # We create a temporary feature for the test set.\n",
    "\n",
    "        for fold in range(fold_num): # We loop across all folds\n",
    "            X_train = X_full[X_full.kfold != fold].reset_index(drop=True) \n",
    "            X_valid = X_full[X_full.kfold == fold].reset_index(drop=True) \n",
    "            feat = X_train.groupby(col)[\"target\"].agg(\"mean\") # We group the columns by target, and then we get the mean value of the values in \"target\" column.\n",
    "            feat = feat.to_dict() # We convert the dataframe into a dictionary.\n",
    "            X_valid.loc[:, f\"tar_enc_{col}\"] = X_valid[col].map(feat) # We map the mean values to a new column in X_valid.\n",
    "            temp_X_full.append(X_valid) # We append X_valid to our temporary list.\n",
    "\n",
    "            if temp_test_feature is None: # If we don't have a temp_test_feature...\n",
    "                temp_test_feature = X_test[col].map(feat) # ...we assign it this value.\n",
    "\n",
    "            else: # If its not None, (for folds above 0)...\n",
    "                temp_test_feature = temp_test_feature + X_test[col].map(feat) # ...add to it the present value.\n",
    "\n",
    "        temp_test_feature = temp_test_feature/fold_num # We divide by the number of folds to get the average.\n",
    "        X_test.loc[:, f\"tar_enc_{col}\"] = temp_test_feature # We assign the temp_test_feat value to a new column.\n",
    "        X_full = pd.concat(temp_X_full) # We build the new X_full dataframe with the new target encoding columns.\n",
    "\n",
    "    # We select all features except \"id\", \"target\" and \"kfold\", as these are not predictors of our target.\n",
    "    useful_features = [c for c in X_full.columns if c not in (\"id\", \"target\", \"kfold\")]\n",
    "\n",
    "    # Select numerical columns by data type, not by column name\n",
    "    num_cols = [col for col in X_full[useful_features] if X_full[col].dtype in ['int64', 'float64']]\n",
    "\n",
    "    # We select categorical columns. Note that we dropped the cardinality check.\n",
    "    object_cols = [col for col in useful_features if col.startswith(\"cat\")]\n",
    "\n",
    "    # Preprocessing for numerical data, we use a StandardScaler to apply standardization.\n",
    "    numerical_transformer = preprocessing.StandardScaler()\n",
    "\n",
    "    # Preprocessing for categorical data and one-hot encoding.\n",
    "    categorical_transformer = Pipeline(steps=[('onehot', OneHotEncoder(handle_unknown='ignore'))])\n",
    "\n",
    "    # Bundle preprocessing for numerical and categorical data\n",
    "    preprocessor = ColumnTransformer(transformers=[('num', numerical_transformer, num_cols),('cat', categorical_transformer, object_cols)])\n",
    "\n",
    "    # Define the model \n",
    "    model = XGBRegressor(tree_method='gpu_hist', gpu_id=0, predictor=\"gpu_predictor\")\n",
    "\n",
    "    # Bundle preprocessing and modeling code in a pipeline\n",
    "    my_pipeline = Pipeline(steps=[('preprocessor', preprocessor), ('model', model)])\n",
    "\n",
    "\n",
    "    # We set up a list to store the final predictions.\n",
    "    final_predictions = []\n",
    "\n",
    "    # We set up a list for storing the mean non squared error scores.\n",
    "    scores = []\n",
    "\n",
    "    # We set the loop to loop across all of the folds.\n",
    "    for fold in range(fold_num):\n",
    "        X_train = X_full[X_full.kfold != fold].reset_index(drop=True) # We set the training data to be all folds different from the current fold number in the loop. We also reset the indices.\n",
    "        X_valid = X_full[X_full.kfold == fold].reset_index(drop=True) # The validation data is the current fold number in the loop. We also reset the indices.\n",
    "        X_test_copy = X_test.copy() # We copy the original X_test to not alter or overwrite over it.\n",
    "\n",
    "        y_train = X_train.target # We set the training target equal to the target in the training set. This has to be done every iteration (as the fold and the data changes).\n",
    "        y_valid = X_valid.target # We set the validation target equal to the target in the validation set. This has to be done every iteration (as the fold and the data changes).\n",
    "\n",
    "        X_train = X_train[useful_features] # We set our training data to be the previously defined useful features of X_train.\n",
    "        X_valid = X_valid[useful_features] # We set our validation data to be the previously defined useful features of X_valid.\n",
    "\n",
    "        # We activate the pipeline, which preprocesses the training data and fits the model (will take about 10 minutes to run)\n",
    "        my_pipeline.fit(X_train, y_train)\n",
    "\n",
    "        preds_valid = my_pipeline.predict(X_valid) # We instruct the pipeline to make predictions on X_valid.\n",
    "        preds_test = my_pipeline.predict(X_test) # We instruct the pipeline to make predictions on X_test.\n",
    "        final_predictions.append(preds_test) # We append each of the test predictions on to our final_predictions list.\n",
    "        rmse = mean_squared_error(y_valid, preds_valid, squared=False) # We store the mean non squared error in a variable.\n",
    "        print(fold, rmse) # Print the fold number, and the mean non squared error for each fold.\n",
    "        scores.append(rmse) # We append the rmse value to the scores list.\n",
    "\n",
    "    print(np.mean(scores), np.std(scores)) # Print the mean non square error average, and its standard deviation\n",
    "\n",
    "    print(time.clock() - start_time, \"seconds\") # We print the elapsed time.\n",
    "\n",
    "    fold_results[str(fold_num) + \" Folds\"] = np.mean(scores) # We append the mean score with a key to the dictionary."
   ]
  },
  {
   "cell_type": "markdown",
   "id": "6b131da7",
   "metadata": {
    "papermill": {
     "duration": 0.078089,
     "end_time": "2021-08-26T22:39:33.328205",
     "exception": false,
     "start_time": "2021-08-26T22:39:33.250116",
     "status": "completed"
    },
    "tags": []
   },
   "source": [
    "Let's check our dictionary:"
   ]
  },
  {
   "cell_type": "code",
   "execution_count": 4,
   "id": "dd643a69",
   "metadata": {
    "execution": {
     "iopub.execute_input": "2021-08-26T22:39:33.490461Z",
     "iopub.status.busy": "2021-08-26T22:39:33.489008Z",
     "iopub.status.idle": "2021-08-26T22:39:33.492971Z",
     "shell.execute_reply": "2021-08-26T22:39:33.492480Z",
     "shell.execute_reply.started": "2021-08-26T22:03:38.404750Z"
    },
    "papermill": {
     "duration": 0.086613,
     "end_time": "2021-08-26T22:39:33.493082",
     "exception": false,
     "start_time": "2021-08-26T22:39:33.406469",
     "status": "completed"
    },
    "tags": []
   },
   "outputs": [
    {
     "name": "stdout",
     "output_type": "stream",
     "text": [
      "{'3 Folds': 0.7310553321789213, '5 Folds': 0.7305944741693114, '6 Folds': 0.7365699315911183, '10 Folds': 0.7270242238016393, '12 Folds': 0.7301358743210753, '15 Folds': 0.727264049678914, '20 Folds': 0.7248442260036039, '25 Folds': 0.7250113434459791, '30 Folds': 0.7248705988201097, '40 Folds': 0.7246455190973811, '50 Folds': 0.7238303662470205, '60 Folds': 0.7240685996167505}\n"
     ]
    }
   ],
   "source": [
    "print(fold_results)"
   ]
  },
  {
   "cell_type": "markdown",
   "id": "7319fb6f",
   "metadata": {
    "papermill": {
     "duration": 0.078373,
     "end_time": "2021-08-26T22:39:33.649883",
     "exception": false,
     "start_time": "2021-08-26T22:39:33.571510",
     "status": "completed"
    },
    "tags": []
   },
   "source": [
    "## Graphing the results"
   ]
  },
  {
   "cell_type": "code",
   "execution_count": 5,
   "id": "03fe7d87",
   "metadata": {
    "execution": {
     "iopub.execute_input": "2021-08-26T22:39:33.811527Z",
     "iopub.status.busy": "2021-08-26T22:39:33.810897Z",
     "iopub.status.idle": "2021-08-26T22:39:34.003010Z",
     "shell.execute_reply": "2021-08-26T22:39:34.003414Z",
     "shell.execute_reply.started": "2021-08-26T22:11:11.608014Z"
    },
    "papermill": {
     "duration": 0.275153,
     "end_time": "2021-08-26T22:39:34.003553",
     "exception": false,
     "start_time": "2021-08-26T22:39:33.728400",
     "status": "completed"
    },
    "tags": []
   },
   "outputs": [
    {
     "data": {
      "text/plain": [
       "<AxesSubplot:>"
      ]
     },
     "execution_count": 5,
     "metadata": {},
     "output_type": "execute_result"
    },
    {
     "data": {
      "image/png": "[encoded data removed]",
      "text/plain": [
       "<Figure size 720x360 with 1 Axes>"
      ]
     },
     "metadata": {
      "needs_background": "light"
     },
     "output_type": "display_data"
    }
   ],
   "source": [
    "data = pd.DataFrame.from_dict(fold_results, orient='index')\n",
    "data.plot(figsize=(10, 5))"
   ]
  }
 ],
 "metadata": {
  "kernelspec": {
   "display_name": "Python 3",
   "language": "python",
   "name": "python3"
  },
  "language_info": {
   "codemirror_mode": {
    "name": "ipython",
    "version": 3
   },
   "file_extension": ".py",
   "mimetype": "text/x-python",
   "name": "python",
   "nbconvert_exporter": "python",
   "pygments_lexer": "ipython3",
   "version": "3.7.10"
  },
  "papermill": {
   "default_parameters": {},
   "duration": 1497.708226,
   "end_time": "2021-08-26T22:39:34.693270",
   "environment_variables": {},
   "exception": null,
   "input_path": "__notebook__.ipynb",
   "output_path": "__notebook__.ipynb",
   "parameters": {},
   "start_time": "2021-08-26T22:14:36.985044",
   "version": "2.3.3"
  }
 },
 "nbformat": 4,
 "nbformat_minor": 5
}
