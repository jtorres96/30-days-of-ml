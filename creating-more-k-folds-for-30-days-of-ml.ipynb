{
 "cells": [
  {
   "cell_type": "markdown",
   "id": "2aac8259",
   "metadata": {
    "_cell_guid": "b1076dfc-b9ad-4769-8c92-a6c4dae69d19",
    "_uuid": "8f2839f25d086af736a60e9eeb907d3b93b6e0e5",
    "papermill": {
     "duration": 0.00509,
     "end_time": "2021-08-26T21:28:18.037569",
     "exception": false,
     "start_time": "2021-08-26T21:28:18.032479",
     "status": "completed"
    },
    "tags": []
   },
   "source": [
    "## Creating k-folds for 30 Days of ML Challenge, by Juan Torres\n",
    "#### Based on Abhishek Thakur's tutorials and notebooks:\n",
    "https://www.youtube.com/watch?v=t5fhRP62YdE\n",
    "\n",
    "https://www.kaggle.com/abhishek/30-days-create-folds"
   ]
  },
  {
   "cell_type": "code",
   "execution_count": 1,
   "id": "4354fdc4",
   "metadata": {
    "execution": {
     "iopub.execute_input": "2021-08-26T21:28:18.050341Z",
     "iopub.status.busy": "2021-08-26T21:28:18.049532Z",
     "iopub.status.idle": "2021-08-26T21:28:19.053458Z",
     "shell.execute_reply": "2021-08-26T21:28:19.053870Z",
     "shell.execute_reply.started": "2021-08-26T21:25:22.536871Z"
    },
    "papermill": {
     "duration": 1.012045,
     "end_time": "2021-08-26T21:28:19.054079",
     "exception": false,
     "start_time": "2021-08-26T21:28:18.042034",
     "status": "completed"
    },
    "tags": []
   },
   "outputs": [
    {
     "name": "stdout",
     "output_type": "stream",
     "text": [
      "/kaggle/input/30-days-of-ml/sample_submission.csv\n",
      "/kaggle/input/30-days-of-ml/train.csv\n",
      "/kaggle/input/30-days-of-ml/test.csv\n"
     ]
    }
   ],
   "source": [
    "import numpy as np # linear algebra\n",
    "import pandas as pd # data processing, CSV file I/O (e.g. pd.read_csv)\n",
    "from sklearn import model_selection\n",
    "\n",
    "# Input data files are available in the read-only \"../input/\" directory\n",
    "# For example, running this (by clicking run or pressing Shift+Enter) will list all files under the input directory\n",
    "\n",
    "import os\n",
    "for dirname, _, filenames in os.walk('/kaggle/input'):\n",
    "    for filename in filenames:\n",
    "        print(os.path.join(dirname, filename))\n",
    "\n",
    "# You can write up to 20GB to the current directory (/kaggle/working/) that gets preserved as output when you create a version using \"Save & Run All\" \n",
    "# You can also write temporary files to /kaggle/temp/, but they won't be saved outside of the current session"
   ]
  },
  {
   "cell_type": "code",
   "execution_count": 2,
   "id": "c8c1b781",
   "metadata": {
    "execution": {
     "iopub.execute_input": "2021-08-26T21:28:19.068541Z",
     "iopub.status.busy": "2021-08-26T21:28:19.068077Z",
     "iopub.status.idle": "2021-08-26T21:28:21.315922Z",
     "shell.execute_reply": "2021-08-26T21:28:21.315455Z",
     "shell.execute_reply.started": "2021-08-26T21:25:55.859081Z"
    },
    "papermill": {
     "duration": 2.256768,
     "end_time": "2021-08-26T21:28:21.316021",
     "exception": false,
     "start_time": "2021-08-26T21:28:19.059253",
     "status": "completed"
    },
    "tags": []
   },
   "outputs": [
    {
     "data": {
      "text/plain": [
       "(300000, 26)"
      ]
     },
     "execution_count": 2,
     "metadata": {},
     "output_type": "execute_result"
    }
   ],
   "source": [
    "# Load the training data.\n",
    "df_train = pd.read_csv(\"../input/30-days-of-ml/train.csv\") \n",
    "\n",
    "# Check the data shape.\n",
    "df_train.shape"
   ]
  },
  {
   "cell_type": "code",
   "execution_count": 3,
   "id": "846d9e9a",
   "metadata": {
    "execution": {
     "iopub.execute_input": "2021-08-26T21:28:21.333645Z",
     "iopub.status.busy": "2021-08-26T21:28:21.333168Z",
     "iopub.status.idle": "2021-08-26T21:28:21.370532Z",
     "shell.execute_reply": "2021-08-26T21:28:21.370124Z",
     "shell.execute_reply.started": "2021-08-26T21:25:58.318314Z"
    },
    "papermill": {
     "duration": 0.049449,
     "end_time": "2021-08-26T21:28:21.370639",
     "exception": false,
     "start_time": "2021-08-26T21:28:21.321190",
     "status": "completed"
    },
    "tags": []
   },
   "outputs": [
    {
     "data": {
      "text/html": [
       "<div>\n",
       "<style scoped>\n",
       "    .dataframe tbody tr th:only-of-type {\n",
       "        vertical-align: middle;\n",
       "    }\n",
       "\n",
       "    .dataframe tbody tr th {\n",
       "        vertical-align: top;\n",
       "    }\n",
       "\n",
       "    .dataframe thead th {\n",
       "        text-align: right;\n",
       "    }\n",
       "</style>\n",
       "<table border=\"1\" class=\"dataframe\">\n",
       "  <thead>\n",
       "    <tr style=\"text-align: right;\">\n",
       "      <th></th>\n",
       "      <th>id</th>\n",
       "      <th>cat0</th>\n",
       "      <th>cat1</th>\n",
       "      <th>cat2</th>\n",
       "      <th>cat3</th>\n",
       "      <th>cat4</th>\n",
       "      <th>cat5</th>\n",
       "      <th>cat6</th>\n",
       "      <th>cat7</th>\n",
       "      <th>cat8</th>\n",
       "      <th>...</th>\n",
       "      <th>cont6</th>\n",
       "      <th>cont7</th>\n",
       "      <th>cont8</th>\n",
       "      <th>cont9</th>\n",
       "      <th>cont10</th>\n",
       "      <th>cont11</th>\n",
       "      <th>cont12</th>\n",
       "      <th>cont13</th>\n",
       "      <th>target</th>\n",
       "      <th>kfold</th>\n",
       "    </tr>\n",
       "  </thead>\n",
       "  <tbody>\n",
       "    <tr>\n",
       "      <th>0</th>\n",
       "      <td>1</td>\n",
       "      <td>B</td>\n",
       "      <td>B</td>\n",
       "      <td>B</td>\n",
       "      <td>C</td>\n",
       "      <td>B</td>\n",
       "      <td>B</td>\n",
       "      <td>A</td>\n",
       "      <td>E</td>\n",
       "      <td>C</td>\n",
       "      <td>...</td>\n",
       "      <td>0.160266</td>\n",
       "      <td>0.310921</td>\n",
       "      <td>0.389470</td>\n",
       "      <td>0.267559</td>\n",
       "      <td>0.237281</td>\n",
       "      <td>0.377873</td>\n",
       "      <td>0.322401</td>\n",
       "      <td>0.869850</td>\n",
       "      <td>8.113634</td>\n",
       "      <td>-1</td>\n",
       "    </tr>\n",
       "    <tr>\n",
       "      <th>1</th>\n",
       "      <td>2</td>\n",
       "      <td>B</td>\n",
       "      <td>B</td>\n",
       "      <td>A</td>\n",
       "      <td>A</td>\n",
       "      <td>B</td>\n",
       "      <td>D</td>\n",
       "      <td>A</td>\n",
       "      <td>F</td>\n",
       "      <td>A</td>\n",
       "      <td>...</td>\n",
       "      <td>0.558922</td>\n",
       "      <td>0.516294</td>\n",
       "      <td>0.594928</td>\n",
       "      <td>0.341439</td>\n",
       "      <td>0.906013</td>\n",
       "      <td>0.921701</td>\n",
       "      <td>0.261975</td>\n",
       "      <td>0.465083</td>\n",
       "      <td>8.481233</td>\n",
       "      <td>-1</td>\n",
       "    </tr>\n",
       "    <tr>\n",
       "      <th>2</th>\n",
       "      <td>3</td>\n",
       "      <td>A</td>\n",
       "      <td>A</td>\n",
       "      <td>A</td>\n",
       "      <td>C</td>\n",
       "      <td>B</td>\n",
       "      <td>D</td>\n",
       "      <td>A</td>\n",
       "      <td>D</td>\n",
       "      <td>A</td>\n",
       "      <td>...</td>\n",
       "      <td>0.375348</td>\n",
       "      <td>0.902567</td>\n",
       "      <td>0.555205</td>\n",
       "      <td>0.843531</td>\n",
       "      <td>0.748809</td>\n",
       "      <td>0.620126</td>\n",
       "      <td>0.541474</td>\n",
       "      <td>0.763846</td>\n",
       "      <td>8.364351</td>\n",
       "      <td>-1</td>\n",
       "    </tr>\n",
       "    <tr>\n",
       "      <th>3</th>\n",
       "      <td>4</td>\n",
       "      <td>B</td>\n",
       "      <td>B</td>\n",
       "      <td>A</td>\n",
       "      <td>C</td>\n",
       "      <td>B</td>\n",
       "      <td>D</td>\n",
       "      <td>A</td>\n",
       "      <td>E</td>\n",
       "      <td>C</td>\n",
       "      <td>...</td>\n",
       "      <td>0.239061</td>\n",
       "      <td>0.732948</td>\n",
       "      <td>0.679618</td>\n",
       "      <td>0.574844</td>\n",
       "      <td>0.346010</td>\n",
       "      <td>0.714610</td>\n",
       "      <td>0.540150</td>\n",
       "      <td>0.280682</td>\n",
       "      <td>8.049253</td>\n",
       "      <td>-1</td>\n",
       "    </tr>\n",
       "    <tr>\n",
       "      <th>4</th>\n",
       "      <td>6</td>\n",
       "      <td>A</td>\n",
       "      <td>A</td>\n",
       "      <td>A</td>\n",
       "      <td>C</td>\n",
       "      <td>B</td>\n",
       "      <td>D</td>\n",
       "      <td>A</td>\n",
       "      <td>E</td>\n",
       "      <td>A</td>\n",
       "      <td>...</td>\n",
       "      <td>0.420667</td>\n",
       "      <td>0.648182</td>\n",
       "      <td>0.684501</td>\n",
       "      <td>0.956692</td>\n",
       "      <td>1.000773</td>\n",
       "      <td>0.776742</td>\n",
       "      <td>0.625849</td>\n",
       "      <td>0.250823</td>\n",
       "      <td>7.972260</td>\n",
       "      <td>-1</td>\n",
       "    </tr>\n",
       "  </tbody>\n",
       "</table>\n",
       "<p>5 rows × 27 columns</p>\n",
       "</div>"
      ],
      "text/plain": [
       "   id cat0 cat1 cat2 cat3 cat4 cat5 cat6 cat7 cat8  ...     cont6     cont7  \\\n",
       "0   1    B    B    B    C    B    B    A    E    C  ...  0.160266  0.310921   \n",
       "1   2    B    B    A    A    B    D    A    F    A  ...  0.558922  0.516294   \n",
       "2   3    A    A    A    C    B    D    A    D    A  ...  0.375348  0.902567   \n",
       "3   4    B    B    A    C    B    D    A    E    C  ...  0.239061  0.732948   \n",
       "4   6    A    A    A    C    B    D    A    E    A  ...  0.420667  0.648182   \n",
       "\n",
       "      cont8     cont9    cont10    cont11    cont12    cont13    target  kfold  \n",
       "0  0.389470  0.267559  0.237281  0.377873  0.322401  0.869850  8.113634     -1  \n",
       "1  0.594928  0.341439  0.906013  0.921701  0.261975  0.465083  8.481233     -1  \n",
       "2  0.555205  0.843531  0.748809  0.620126  0.541474  0.763846  8.364351     -1  \n",
       "3  0.679618  0.574844  0.346010  0.714610  0.540150  0.280682  8.049253     -1  \n",
       "4  0.684501  0.956692  1.000773  0.776742  0.625849  0.250823  7.972260     -1  \n",
       "\n",
       "[5 rows x 27 columns]"
      ]
     },
     "execution_count": 3,
     "metadata": {},
     "output_type": "execute_result"
    }
   ],
   "source": [
    "# We create a new column in the training data that represents which fold each row belongs to. For now, we set this value to be -1 in all rows.\n",
    "df_train[\"kfold\"] = -1\n",
    "\n",
    "# Take a peek at the training data\n",
    "df_train.head()"
   ]
  },
  {
   "cell_type": "code",
   "execution_count": 4,
   "id": "ba174705",
   "metadata": {
    "execution": {
     "iopub.execute_input": "2021-08-26T21:28:21.389127Z",
     "iopub.status.busy": "2021-08-26T21:28:21.388394Z",
     "iopub.status.idle": "2021-08-26T21:29:48.929042Z",
     "shell.execute_reply": "2021-08-26T21:29:48.928531Z",
     "shell.execute_reply.started": "2021-08-26T21:25:58.363042Z"
    },
    "papermill": {
     "duration": 87.552696,
     "end_time": "2021-08-26T21:29:48.929176",
     "exception": false,
     "start_time": "2021-08-26T21:28:21.376480",
     "status": "completed"
    },
    "tags": []
   },
   "outputs": [
    {
     "name": "stdout",
     "output_type": "stream",
     "text": [
      "train_folds_3_folds.csv\n",
      "train_folds_5_folds.csv\n",
      "train_folds_6_folds.csv\n",
      "train_folds_10_folds.csv\n",
      "train_folds_12_folds.csv\n",
      "train_folds_15_folds.csv\n",
      "train_folds_20_folds.csv\n",
      "train_folds_25_folds.csv\n",
      "train_folds_30_folds.csv\n",
      "train_folds_40_folds.csv\n",
      "train_folds_50_folds.csv\n",
      "train_folds_60_folds.csv\n"
     ]
    }
   ],
   "source": [
    "fold_nums = [3,5,6,10,12,15,20,25,30,40,50,60]\n",
    "\n",
    "for num in fold_nums:\n",
    "\n",
    "    # Now we implement the K-Folds cross-validator, which provides train/test indices to split data in train/test sets by splitting the dataset into k consecutive folds.\n",
    "    kf = model_selection.KFold(n_splits=num, shuffle=True, random_state=1)\n",
    "    for fold, (train_indices, valid_indices) in enumerate(kf.split(X=df_train)):\n",
    "        df_train.loc[valid_indices, \"kfold\"] = fold\n",
    "    print(\"train_folds_\" + str(num) + \"_folds.csv\")\n",
    "    df_train.to_csv(\"train_folds_\" + str(num) + \"_folds.csv\", index=False)"
   ]
  },
  {
   "cell_type": "code",
   "execution_count": null,
   "id": "168a5e62",
   "metadata": {
    "papermill": {
     "duration": 0.011977,
     "end_time": "2021-08-26T21:29:48.954473",
     "exception": false,
     "start_time": "2021-08-26T21:29:48.942496",
     "status": "completed"
    },
    "tags": []
   },
   "outputs": [],
   "source": []
  }
 ],
 "metadata": {
  "kernelspec": {
   "display_name": "Python 3",
   "language": "python",
   "name": "python3"
  },
  "language_info": {
   "codemirror_mode": {
    "name": "ipython",
    "version": 3
   },
   "file_extension": ".py",
   "mimetype": "text/x-python",
   "name": "python",
   "nbconvert_exporter": "python",
   "pygments_lexer": "ipython3",
   "version": "3.7.10"
  },
  "papermill": {
   "default_parameters": {},
   "duration": 99.373206,
   "end_time": "2021-08-26T21:29:49.574564",
   "environment_variables": {},
   "exception": null,
   "input_path": "__notebook__.ipynb",
   "output_path": "__notebook__.ipynb",
   "parameters": {},
   "start_time": "2021-08-26T21:28:10.201358",
   "version": "2.3.3"
  }
 },
 "nbformat": 4,
 "nbformat_minor": 5
}
